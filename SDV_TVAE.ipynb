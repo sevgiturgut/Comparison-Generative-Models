{
  "cells": [
    {
      "cell_type": "code",
      "execution_count": null,
      "metadata": {
        "colab": {
          "base_uri": "https://localhost:8080/"
        },
        "id": "ZbAVfFHamI6n",
        "outputId": "470971cb-236a-4b1a-9e8a-987acba9947c",
        "collapsed": true
      },
      "outputs": [
        {
          "output_type": "stream",
          "name": "stdout",
          "text": [
            "Mounted at /content/gdrive\n"
          ]
        }
      ],
      "source": [
        "from google.colab import drive\n",
        "drive.mount('/content/gdrive')"
      ]
    },
    {
      "cell_type": "code",
      "source": [
        "pip install sdv --quiet"
      ],
      "metadata": {
        "id": "RnIhilFZngVg",
        "colab": {
          "base_uri": "https://localhost:8080/"
        },
        "outputId": "f15804c0-46f3-4a8f-d553-b9c394557f50"
      },
      "execution_count": null,
      "outputs": [
        {
          "output_type": "stream",
          "name": "stdout",
          "text": [
            "\u001b[?25l   \u001b[90m━━━━━━━━━━━━━━━━━━━━━━━━━━━━━━━━━━━━━━━━\u001b[0m \u001b[32m0.0/154.3 kB\u001b[0m \u001b[31m?\u001b[0m eta \u001b[36m-:--:--\u001b[0m\r\u001b[2K   \u001b[91m━━━━━━━━━━━━━━━━━━━━━━━━━━━━━━━━━━━━━━━\u001b[0m\u001b[91m╸\u001b[0m \u001b[32m153.6/154.3 kB\u001b[0m \u001b[31m7.4 MB/s\u001b[0m eta \u001b[36m0:00:01\u001b[0m\r\u001b[2K   \u001b[90m━━━━━━━━━━━━━━━━━━━━━━━━━━━━━━━━━━━━━━━━\u001b[0m \u001b[32m154.3/154.3 kB\u001b[0m \u001b[31m4.1 MB/s\u001b[0m eta \u001b[36m0:00:00\u001b[0m\n",
            "\u001b[?25h\u001b[?25l   \u001b[90m━━━━━━━━━━━━━━━━━━━━━━━━━━━━━━━━━━━━━━━━\u001b[0m \u001b[32m0.0/139.2 kB\u001b[0m \u001b[31m?\u001b[0m eta \u001b[36m-:--:--\u001b[0m\r\u001b[2K   \u001b[90m━━━━━━━━━━━━━━━━━━━━━━━━━━━━━━━━━━━━━━━━\u001b[0m \u001b[32m139.2/139.2 kB\u001b[0m \u001b[31m8.0 MB/s\u001b[0m eta \u001b[36m0:00:00\u001b[0m\n",
            "\u001b[?25h\u001b[?25l   \u001b[90m━━━━━━━━━━━━━━━━━━━━━━━━━━━━━━━━━━━━━━━━\u001b[0m \u001b[32m0.0/13.3 MB\u001b[0m \u001b[31m?\u001b[0m eta \u001b[36m-:--:--\u001b[0m\r\u001b[2K   \u001b[91m━━━━━━━━\u001b[0m\u001b[90m╺\u001b[0m\u001b[90m━━━━━━━━━━━━━━━━━━━━━━━━━━━━━━━\u001b[0m \u001b[32m2.8/13.3 MB\u001b[0m \u001b[31m84.4 MB/s\u001b[0m eta \u001b[36m0:00:01\u001b[0m\r\u001b[2K   \u001b[91m━━━━━━━━━━━━━━━━━━━━━━━━━━━━━\u001b[0m\u001b[91m╸\u001b[0m\u001b[90m━━━━━━━━━━\u001b[0m \u001b[32m9.9/13.3 MB\u001b[0m \u001b[31m143.7 MB/s\u001b[0m eta \u001b[36m0:00:01\u001b[0m\r\u001b[2K   \u001b[91m━━━━━━━━━━━━━━━━━━━━━━━━━━━━━━━━━━━━━━━\u001b[0m\u001b[91m╸\u001b[0m \u001b[32m13.3/13.3 MB\u001b[0m \u001b[31m211.5 MB/s\u001b[0m eta \u001b[36m0:00:01\u001b[0m\r\u001b[2K   \u001b[91m━━━━━━━━━━━━━━━━━━━━━━━━━━━━━━━━━━━━━━━\u001b[0m\u001b[91m╸\u001b[0m \u001b[32m13.3/13.3 MB\u001b[0m \u001b[31m211.5 MB/s\u001b[0m eta \u001b[36m0:00:01\u001b[0m\r\u001b[2K   \u001b[90m━━━━━━━━━━━━━━━━━━━━━━━━━━━━━━━━━━━━━━━━\u001b[0m \u001b[32m13.3/13.3 MB\u001b[0m \u001b[31m96.5 MB/s\u001b[0m eta \u001b[36m0:00:00\u001b[0m\n",
            "\u001b[2K   \u001b[90m━━━━━━━━━━━━━━━━━━━━━━━━━━━━━━━━━━━━━━━━\u001b[0m \u001b[32m52.4/52.4 kB\u001b[0m \u001b[31m2.6 MB/s\u001b[0m eta \u001b[36m0:00:00\u001b[0m\n",
            "\u001b[2K   \u001b[90m━━━━━━━━━━━━━━━━━━━━━━━━━━━━━━━━━━━━━━━━\u001b[0m \u001b[32m47.1/47.1 kB\u001b[0m \u001b[31m3.2 MB/s\u001b[0m eta \u001b[36m0:00:00\u001b[0m\n",
            "\u001b[2K   \u001b[90m━━━━━━━━━━━━━━━━━━━━━━━━━━━━━━━━━━━━━━━━\u001b[0m \u001b[32m66.8/66.8 kB\u001b[0m \u001b[31m1.5 MB/s\u001b[0m eta \u001b[36m0:00:00\u001b[0m\n",
            "\u001b[2K   \u001b[90m━━━━━━━━━━━━━━━━━━━━━━━━━━━━━━━━━━━━━━━━\u001b[0m \u001b[32m179.1/179.1 kB\u001b[0m \u001b[31m2.4 MB/s\u001b[0m eta \u001b[36m0:00:00\u001b[0m\n",
            "\u001b[2K   \u001b[90m━━━━━━━━━━━━━━━━━━━━━━━━━━━━━━━━━━━━━━━━\u001b[0m \u001b[32m1.9/1.9 MB\u001b[0m \u001b[31m65.4 MB/s\u001b[0m eta \u001b[36m0:00:00\u001b[0m\n",
            "\u001b[2K   \u001b[90m━━━━━━━━━━━━━━━━━━━━━━━━━━━━━━━━━━━━━━━━\u001b[0m \u001b[32m83.2/83.2 kB\u001b[0m \u001b[31m4.4 MB/s\u001b[0m eta \u001b[36m0:00:00\u001b[0m\n",
            "\u001b[?25h"
          ]
        }
      ]
    },
    {
      "cell_type": "code",
      "execution_count": null,
      "metadata": {
        "id": "vX-zkASdmPub"
      },
      "outputs": [],
      "source": [
        "import sdv\n",
        "import os\n",
        "import time\n",
        "import numpy as np\n",
        "import pandas as pd\n",
        "import matplotlib.pyplot as plt\n"
      ]
    },
    {
      "cell_type": "code",
      "source": [
        "print(sdv.__version__)"
      ],
      "metadata": {
        "colab": {
          "base_uri": "https://localhost:8080/"
        },
        "id": "yR5ctCibnac5",
        "outputId": "accc39e4-7536-47b6-aa70-43464e22256f"
      },
      "execution_count": null,
      "outputs": [
        {
          "output_type": "stream",
          "name": "stdout",
          "text": [
            "1.17.2\n"
          ]
        }
      ]
    },
    {
      "cell_type": "code",
      "source": [
        "from sdv.single_table import GaussianCopulaSynthesizer\n",
        "from sdv.single_table import CTGANSynthesizer\n",
        "from sdv.single_table import TVAESynthesizer\n",
        "from sdv.single_table import CopulaGANSynthesizer\n",
        "\n",
        "from sdv.metadata import SingleTableMetadata\n",
        "from sdv.sampling import Condition as cd"
      ],
      "metadata": {
        "id": "zMlz6Xggnsap"
      },
      "execution_count": null,
      "outputs": []
    },
    {
      "cell_type": "code",
      "source": [
        "import pickle\n",
        "# Load object from file\n",
        "with open(gdrivePath +os.sep + \"data\" +os.sep+'X_train.pkl', 'rb') as f:\n",
        "    X_train = pickle.load(f)\n",
        "with open(gdrivePath +os.sep + \"data\" +os.sep+'X_test.pkl', 'rb') as f:\n",
        "    X_test = pickle.load(f)\n",
        "with open(gdrivePath +os.sep + \"data\" +os.sep+'y_train.pkl', 'rb') as f:\n",
        "    y_train = pickle.load(f)\n",
        "with open(gdrivePath +os.sep + \"data\" +os.sep+'y_test.pkl', 'rb') as f:\n",
        "    y_test = pickle.load(f)\n"
      ],
      "metadata": {
        "id": "9QjkPR8cDUba"
      },
      "execution_count": null,
      "outputs": []
    },
    {
      "cell_type": "code",
      "execution_count": null,
      "metadata": {
        "colab": {
          "base_uri": "https://localhost:8080/"
        },
        "id": "E_OyJIMK_5gC",
        "outputId": "4dad008e-97ce-4681-d87e-187c7ae519a1"
      },
      "outputs": [
        {
          "output_type": "stream",
          "name": "stdout",
          "text": [
            "(11337, 7514) (11337,) (2835, 7514) (2835,)\n"
          ]
        }
      ],
      "source": [
        "print(X_train.shape, y_train.shape, X_test.shape, y_test.shape)"
      ]
    },
    {
      "cell_type": "code",
      "execution_count": null,
      "metadata": {
        "colab": {
          "base_uri": "https://localhost:8080/",
          "height": 312
        },
        "id": "e-lGH2azLNE7",
        "outputId": "559a47a5-115f-4393-c774-50a16ab0b9cb"
      },
      "outputs": [
        {
          "output_type": "display_data",
          "data": {
            "text/plain": [
              "{'PSC': 42,\n",
              " 'acinar': 1090,\n",
              " 'activated_stellate': 227,\n",
              " 'alpha': 3897,\n",
              " 'beta': 2950,\n",
              " 'delta': 759,\n",
              " 'ductal': 1360,\n",
              " 'endothelial': 231,\n",
              " 'epsilon': 17,\n",
              " 'gamma': 339,\n",
              " 'macrophage': 44,\n",
              " 'mast': 20,\n",
              " 'mesenchymal': 64,\n",
              " 'pp': 148,\n",
              " 'quiescent_stellate': 138,\n",
              " 'schwann': 11}"
            ]
          },
          "metadata": {}
        },
        {
          "output_type": "display_data",
          "data": {
            "text/plain": [
              "3897"
            ]
          },
          "metadata": {}
        }
      ],
      "source": [
        "unique_values, counts = np.unique(y_train, return_counts=True)\n",
        "display(dict(zip(unique_values, counts)),np.max(counts))"
      ]
    },
    {
      "cell_type": "code",
      "source": [
        "X_train_pd = pd.DataFrame(X_train)    # values\n",
        "             #index=data[1:,0],    # 1st column as index\n",
        "             #columns=data[0,1:])"
      ],
      "metadata": {
        "id": "8RSSrlItn3g3"
      },
      "execution_count": null,
      "outputs": []
    },
    {
      "cell_type": "code",
      "execution_count": null,
      "metadata": {
        "colab": {
          "base_uri": "https://localhost:8080/"
        },
        "id": "5G8IGIoE0gO6",
        "outputId": "2746fc3e-303b-439e-a9d8-970268c177fc"
      },
      "outputs": [
        {
          "output_type": "execute_result",
          "data": {
            "text/plain": [
              "187.5"
            ]
          },
          "metadata": {},
          "execution_count": 15
        }
      ],
      "source": [
        "np.median(counts)"
      ]
    },
    {
      "cell_type": "code",
      "execution_count": null,
      "metadata": {
        "colab": {
          "base_uri": "https://localhost:8080/"
        },
        "id": "3Qz6P41-_dxg",
        "outputId": "50dcf883-9cd4-4b72-d905-8e381173fe18"
      },
      "outputs": [
        {
          "output_type": "execute_result",
          "data": {
            "text/plain": [
              "708.5625"
            ]
          },
          "metadata": {},
          "execution_count": 13
        }
      ],
      "source": [
        "np.mean(counts)"
      ]
    },
    {
      "cell_type": "code",
      "execution_count": null,
      "metadata": {
        "colab": {
          "base_uri": "https://localhost:8080/"
        },
        "id": "qKwh_GQC5_MK",
        "outputId": "6d23c749-f7d5-4d42-988f-ad1836d5312d"
      },
      "outputs": [
        {
          "output_type": "stream",
          "name": "stdout",
          "text": [
            "Q1 44 \n",
            "Q2 227 \n",
            "Q3 759\n"
          ]
        }
      ],
      "source": [
        "Q1, Q2, Q3 = np.quantile(counts, [0.25, 0.5, 0.75], axis=0, method='nearest')\n",
        "print(\"Q1\",Q1,\"\\nQ2\",Q2,\"\\nQ3\", Q3)\n"
      ]
    },
    {
      "cell_type": "code",
      "source": [
        "from sdv.metadata import SingleTableMetadata\n",
        "metadata = SingleTableMetadata()\n",
        "metadata.detect_from_dataframe(X_train_pd)\n",
        "#metadata.set_primary_key(column_name='gene')"
      ],
      "metadata": {
        "id": "dMgSabi8qApW"
      },
      "execution_count": null,
      "outputs": []
    },
    {
      "cell_type": "markdown",
      "source": [
        "TVAE"
      ],
      "metadata": {
        "id": "lyIZJwHcn_Ok"
      }
    },
    {
      "cell_type": "code",
      "source": [
        "unique_values, counts = np.unique(y_train, return_counts=True)\n",
        "display(dict(zip(unique_values, counts)))"
      ],
      "metadata": {
        "colab": {
          "base_uri": "https://localhost:8080/",
          "height": 295
        },
        "id": "wvcWhByqrV9s",
        "outputId": "65d80864-a9b0-40d0-eaca-276d867f197c"
      },
      "execution_count": null,
      "outputs": [
        {
          "output_type": "display_data",
          "data": {
            "text/plain": [
              "{'PSC': 42,\n",
              " 'acinar': 1090,\n",
              " 'activated_stellate': 227,\n",
              " 'alpha': 3897,\n",
              " 'beta': 2950,\n",
              " 'delta': 759,\n",
              " 'ductal': 1360,\n",
              " 'endothelial': 231,\n",
              " 'epsilon': 17,\n",
              " 'gamma': 339,\n",
              " 'macrophage': 44,\n",
              " 'mast': 20,\n",
              " 'mesenchymal': 64,\n",
              " 'pp': 148,\n",
              " 'quiescent_stellate': 138,\n",
              " 'schwann': 11}"
            ]
          },
          "metadata": {}
        }
      ]
    },
    {
      "cell_type": "code",
      "execution_count": null,
      "metadata": {
        "collapsed": true,
        "id": "tbDnvoedQX3H"
      },
      "outputs": [],
      "source": [
        "from sdv.single_table import TVAESynthesizer\n",
        "\n",
        "def tVAE_method(X_min,num_synthetic_samples, metadata):\n",
        "  tvae = TVAESynthesizer(metadata,epochs=50)\n",
        "  tvae.fit(X_min)\n",
        "  # Create synthetic data\n",
        "  synthetic_data = tvae.sample(num_synthetic_samples)\n",
        "  return synthetic_data"
      ]
    },
    {
      "cell_type": "code",
      "execution_count": null,
      "metadata": {
        "colab": {
          "base_uri": "https://localhost:8080/"
        },
        "id": "SlRCOhQGdRLn",
        "outputId": "b78f0307-97fb-41dc-b65c-a1f55cc27402"
      },
      "outputs": [
        {
          "output_type": "stream",
          "name": "stdout",
          "text": [
            "Value PSC appears 42 times.\n"
          ]
        },
        {
          "output_type": "stream",
          "name": "stderr",
          "text": [
            "/usr/local/lib/python3.10/dist-packages/sdv/single_table/base.py:119: FutureWarning: The 'SingleTableMetadata' is deprecated. Please use the new 'Metadata' class for synthesizers.\n",
            "  warnings.warn(DEPRECATION_MSG, FutureWarning)\n",
            "/usr/local/lib/python3.10/dist-packages/sdv/single_table/base.py:104: UserWarning: We strongly recommend saving the metadata using 'save_to_json' for replicability in future SDV versions.\n",
            "  warnings.warn(\n"
          ]
        },
        {
          "output_type": "stream",
          "name": "stdout",
          "text": [
            "Value activated_stellate appears 227 times.\n"
          ]
        },
        {
          "output_type": "stream",
          "name": "stderr",
          "text": [
            "/usr/local/lib/python3.10/dist-packages/sdv/single_table/base.py:119: FutureWarning: The 'SingleTableMetadata' is deprecated. Please use the new 'Metadata' class for synthesizers.\n",
            "  warnings.warn(DEPRECATION_MSG, FutureWarning)\n"
          ]
        },
        {
          "output_type": "stream",
          "name": "stdout",
          "text": [
            "Value endothelial appears 231 times.\n"
          ]
        },
        {
          "output_type": "stream",
          "name": "stderr",
          "text": [
            "/usr/local/lib/python3.10/dist-packages/sdv/single_table/base.py:119: FutureWarning: The 'SingleTableMetadata' is deprecated. Please use the new 'Metadata' class for synthesizers.\n",
            "  warnings.warn(DEPRECATION_MSG, FutureWarning)\n"
          ]
        },
        {
          "output_type": "stream",
          "name": "stdout",
          "text": [
            "Value epsilon appears 17 times.\n"
          ]
        },
        {
          "output_type": "stream",
          "name": "stderr",
          "text": [
            "/usr/local/lib/python3.10/dist-packages/sdv/single_table/base.py:119: FutureWarning: The 'SingleTableMetadata' is deprecated. Please use the new 'Metadata' class for synthesizers.\n",
            "  warnings.warn(DEPRECATION_MSG, FutureWarning)\n"
          ]
        },
        {
          "output_type": "stream",
          "name": "stdout",
          "text": [
            "Value gamma appears 339 times.\n"
          ]
        },
        {
          "output_type": "stream",
          "name": "stderr",
          "text": [
            "/usr/local/lib/python3.10/dist-packages/sdv/single_table/base.py:119: FutureWarning: The 'SingleTableMetadata' is deprecated. Please use the new 'Metadata' class for synthesizers.\n",
            "  warnings.warn(DEPRECATION_MSG, FutureWarning)\n"
          ]
        },
        {
          "output_type": "stream",
          "name": "stdout",
          "text": [
            "Value macrophage appears 44 times.\n"
          ]
        },
        {
          "output_type": "stream",
          "name": "stderr",
          "text": [
            "/usr/local/lib/python3.10/dist-packages/sdv/single_table/base.py:119: FutureWarning: The 'SingleTableMetadata' is deprecated. Please use the new 'Metadata' class for synthesizers.\n",
            "  warnings.warn(DEPRECATION_MSG, FutureWarning)\n"
          ]
        },
        {
          "output_type": "stream",
          "name": "stdout",
          "text": [
            "Value mast appears 20 times.\n"
          ]
        },
        {
          "output_type": "stream",
          "name": "stderr",
          "text": [
            "/usr/local/lib/python3.10/dist-packages/sdv/single_table/base.py:119: FutureWarning: The 'SingleTableMetadata' is deprecated. Please use the new 'Metadata' class for synthesizers.\n",
            "  warnings.warn(DEPRECATION_MSG, FutureWarning)\n"
          ]
        },
        {
          "output_type": "stream",
          "name": "stdout",
          "text": [
            "Value mesenchymal appears 64 times.\n"
          ]
        },
        {
          "output_type": "stream",
          "name": "stderr",
          "text": [
            "/usr/local/lib/python3.10/dist-packages/sdv/single_table/base.py:119: FutureWarning: The 'SingleTableMetadata' is deprecated. Please use the new 'Metadata' class for synthesizers.\n",
            "  warnings.warn(DEPRECATION_MSG, FutureWarning)\n"
          ]
        },
        {
          "output_type": "stream",
          "name": "stdout",
          "text": [
            "Value pp appears 148 times.\n"
          ]
        },
        {
          "output_type": "stream",
          "name": "stderr",
          "text": [
            "/usr/local/lib/python3.10/dist-packages/sdv/single_table/base.py:119: FutureWarning: The 'SingleTableMetadata' is deprecated. Please use the new 'Metadata' class for synthesizers.\n",
            "  warnings.warn(DEPRECATION_MSG, FutureWarning)\n"
          ]
        },
        {
          "output_type": "stream",
          "name": "stdout",
          "text": [
            "Value quiescent_stellate appears 138 times.\n"
          ]
        },
        {
          "output_type": "stream",
          "name": "stderr",
          "text": [
            "/usr/local/lib/python3.10/dist-packages/sdv/single_table/base.py:119: FutureWarning: The 'SingleTableMetadata' is deprecated. Please use the new 'Metadata' class for synthesizers.\n",
            "  warnings.warn(DEPRECATION_MSG, FutureWarning)\n"
          ]
        },
        {
          "output_type": "stream",
          "name": "stdout",
          "text": [
            "Value schwann appears 11 times.\n"
          ]
        },
        {
          "output_type": "stream",
          "name": "stderr",
          "text": [
            "/usr/local/lib/python3.10/dist-packages/sdv/single_table/base.py:119: FutureWarning: The 'SingleTableMetadata' is deprecated. Please use the new 'Metadata' class for synthesizers.\n",
            "  warnings.warn(DEPRECATION_MSG, FutureWarning)\n"
          ]
        }
      ],
      "source": [
        "# Get unique values and their counts\n",
        "unique_values, counts = np.unique(y_train, return_counts=True)\n",
        "classlabel_counts = dict(zip(unique_values, counts))\n",
        "max_count = 759 #np.max(counts)\n",
        "\n",
        "i=1\n",
        "for label, count in classlabel_counts.items():\n",
        "    #print(x.shape, y.shape)\n",
        "    #print(\"label, count, max_count\",label,count,max_count)\n",
        "    X_minority = X_train_pd[y_train == label]\n",
        "    if count < max_count:\n",
        "        #print(\"\\n\")\n",
        "        print(f\"Value {label} appears {count} times.\")\n",
        "        num_synthetic_samples = max_count - count\n",
        "        synthetic_samples = tVAE_method(X_minority, num_synthetic_samples,metadata )\n",
        "\n",
        "        X_minority = np.array(X_minority)\n",
        "        synthetic_samples = np.array(synthetic_samples)\n",
        "        if i==1:\n",
        "          X_train_gen = X_minority\n",
        "          X_train_gen = np.vstack([X_train_gen, synthetic_samples])\n",
        "\n",
        "          y_train_gen = np.full(759, label)\n",
        "\n",
        "          y_train_indexes = np.full(count, 1)\n",
        "          y_train_indexes = np.concatenate([y_train_indexes, np.full(num_synthetic_samples, 2)])\n",
        "        else:\n",
        "          tmp = np.vstack([X_minority, synthetic_samples])\n",
        "          X_train_gen = np.vstack([X_train_gen, tmp])\n",
        "          y_train_gen = np.concatenate([y_train_gen, np.full(759, label)])\n",
        "\n",
        "          y_train_indexes = np.concatenate([y_train_indexes, np.full(count, 1)])\n",
        "          y_train_indexes = np.concatenate([y_train_indexes, np.full(num_synthetic_samples, 2)])\n",
        "    else:\n",
        "        X_train_gen = np.vstack([X_train_gen, X_minority])\n",
        "        y_train_gen = np.concatenate([y_train_gen, np.full(count, label)])\n",
        "        y_train_indexes = np.concatenate([y_train_indexes, np.full(count, 1)])\n",
        "    i=i+1"
      ]
    },
    {
      "cell_type": "code",
      "source": [
        "X_train_gen.shape, y_train_gen.shape, X_test.shape, y_test.shape"
      ],
      "metadata": {
        "id": "HS6lRemsol0k",
        "colab": {
          "base_uri": "https://localhost:8080/"
        },
        "outputId": "152c57f1-fe06-451f-f468-bd4002531b7f"
      },
      "execution_count": null,
      "outputs": [
        {
          "output_type": "execute_result",
          "data": {
            "text/plain": [
              "((18405, 2500), (18405,), (2835, 2500), (2835,))"
            ]
          },
          "metadata": {},
          "execution_count": 14
        }
      ]
    },
    {
      "cell_type": "code",
      "source": [
        "file_name ='TVAE'"
      ],
      "metadata": {
        "id": "EpTAZ4w8EBi3"
      },
      "execution_count": null,
      "outputs": []
    },
    {
      "cell_type": "code",
      "source": [
        "import pickle\n",
        "\n",
        "# Save object to file\n",
        "with open(gdrivePath +os.sep+\"results\"+os.sep+\"TVAE\"+os.sep+file_name+'_X_train.pkl', 'wb') as f:\n",
        "    pickle.dump(X_train_gen, f)\n",
        "\n",
        "with open(gdrivePath +os.sep+\"results\"+os.sep+\"TVAE\"+os.sep+file_name+'_X_test.pkl', 'wb') as f:\n",
        "    pickle.dump(X_test, f)\n",
        "\n",
        "with open(gdrivePath +os.sep+\"results\"+os.sep+\"TVAE\"+os.sep+file_name+'_y_train.pkl', 'wb') as f:\n",
        "    pickle.dump(y_train_gen, f)\n",
        "\n",
        "with open(gdrivePath +os.sep+\"results\"+os.sep+\"TVAE\"+os.sep+file_name+'_y_test.pkl', 'wb') as f:\n",
        "    pickle.dump(y_test, f)\n",
        "\n",
        "with open(gdrivePath +os.sep+\"results\"+os.sep+\"TVAE\"+os.sep+file_name+'_y_train_idx.pkl', 'wb') as f:\n",
        "    pickle.dump(y_train_indexes, f)"
      ],
      "metadata": {
        "id": "gdwKcl0ZBV1_"
      },
      "execution_count": null,
      "outputs": []
    }
  ],
  "metadata": {
    "accelerator": "TPU",
    "colab": {
      "gpuType": "V28",
      "machine_shape": "hm",
      "provenance": []
    },
    "kernelspec": {
      "display_name": "Python 3",
      "name": "python3"
    },
    "language_info": {
      "name": "python"
    }
  },
  "nbformat": 4,
  "nbformat_minor": 0
}