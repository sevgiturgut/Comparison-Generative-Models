{
  "cells": [
    {
      "cell_type": "code",
      "execution_count": null,
      "metadata": {
        "colab": {
          "base_uri": "https://localhost:8080/"
        },
        "id": "ZbAVfFHamI6n",
        "outputId": "ec5897a2-34b0-469d-bb85-71099b05ea69"
      },
      "outputs": [
        {
          "output_type": "stream",
          "name": "stdout",
          "text": [
            "Mounted at /content/gdrive\n"
          ]
        }
      ],
      "source": [
        "from google.colab import drive\n",
        "drive.mount('/content/gdrive')"
      ]
    },
    {
      "cell_type": "code",
      "execution_count": null,
      "metadata": {
        "id": "El8B1xmGn_z0",
        "colab": {
          "base_uri": "https://localhost:8080/"
        },
        "outputId": "56a8243b-2d03-4a6a-cbac-7515525c302e"
      },
      "outputs": [
        {
          "output_type": "stream",
          "name": "stdout",
          "text": [
            "\u001b[?25l   \u001b[90m━━━━━━━━━━━━━━━━━━━━━━━━━━━━━━━━━━━━━━━━\u001b[0m \u001b[32m0.0/154.0 kB\u001b[0m \u001b[31m?\u001b[0m eta \u001b[36m-:--:--\u001b[0m\r\u001b[2K   \u001b[90m━━━━━━━━━━━━━━━━━━━━━━━━━━━━━━━━━━━━━━━━\u001b[0m \u001b[32m154.0/154.0 kB\u001b[0m \u001b[31m4.4 MB/s\u001b[0m eta \u001b[36m0:00:00\u001b[0m\n",
            "\u001b[2K   \u001b[90m━━━━━━━━━━━━━━━━━━━━━━━━━━━━━━━━━━━━━━━━\u001b[0m \u001b[32m139.2/139.2 kB\u001b[0m \u001b[31m7.6 MB/s\u001b[0m eta \u001b[36m0:00:00\u001b[0m\n",
            "\u001b[2K   \u001b[90m━━━━━━━━━━━━━━━━━━━━━━━━━━━━━━━━━━━━━━━━\u001b[0m \u001b[32m13.2/13.2 MB\u001b[0m \u001b[31m101.4 MB/s\u001b[0m eta \u001b[36m0:00:00\u001b[0m\n",
            "\u001b[2K   \u001b[90m━━━━━━━━━━━━━━━━━━━━━━━━━━━━━━━━━━━━━━━━\u001b[0m \u001b[32m52.4/52.4 kB\u001b[0m \u001b[31m2.9 MB/s\u001b[0m eta \u001b[36m0:00:00\u001b[0m\n",
            "\u001b[2K   \u001b[90m━━━━━━━━━━━━━━━━━━━━━━━━━━━━━━━━━━━━━━━━\u001b[0m \u001b[32m47.1/47.1 kB\u001b[0m \u001b[31m3.2 MB/s\u001b[0m eta \u001b[36m0:00:00\u001b[0m\n",
            "\u001b[2K   \u001b[90m━━━━━━━━━━━━━━━━━━━━━━━━━━━━━━━━━━━━━━━━\u001b[0m \u001b[32m66.8/66.8 kB\u001b[0m \u001b[31m3.7 MB/s\u001b[0m eta \u001b[36m0:00:00\u001b[0m\n",
            "\u001b[2K   \u001b[90m━━━━━━━━━━━━━━━━━━━━━━━━━━━━━━━━━━━━━━━━\u001b[0m \u001b[32m175.1/175.1 kB\u001b[0m \u001b[31m10.5 MB/s\u001b[0m eta \u001b[36m0:00:00\u001b[0m\n",
            "\u001b[2K   \u001b[90m━━━━━━━━━━━━━━━━━━━━━━━━━━━━━━━━━━━━━━━━\u001b[0m \u001b[32m1.9/1.9 MB\u001b[0m \u001b[31m64.6 MB/s\u001b[0m eta \u001b[36m0:00:00\u001b[0m\n",
            "\u001b[2K   \u001b[90m━━━━━━━━━━━━━━━━━━━━━━━━━━━━━━━━━━━━━━━━\u001b[0m \u001b[32m83.2/83.2 kB\u001b[0m \u001b[31m4.3 MB/s\u001b[0m eta \u001b[36m0:00:00\u001b[0m\n",
            "\u001b[?25h"
          ]
        }
      ],
      "source": [
        "pip install sdv --quiet"
      ]
    },
    {
      "cell_type": "code",
      "execution_count": null,
      "metadata": {
        "id": "pQ6dXemJlvK_"
      },
      "outputs": [],
      "source": [
        "import sdv\n",
        "import os\n",
        "import time\n",
        "import numpy as np\n",
        "import pandas as pd\n",
        "import matplotlib.pyplot as plt\n"
      ]
    },
    {
      "cell_type": "code",
      "execution_count": null,
      "metadata": {
        "colab": {
          "base_uri": "https://localhost:8080/"
        },
        "id": "Q5MZnONumP8j",
        "outputId": "811f0965-f514-444d-e1d2-3e263f8daaa2"
      },
      "outputs": [
        {
          "output_type": "stream",
          "name": "stdout",
          "text": [
            "1.17.0\n"
          ]
        }
      ],
      "source": [
        "print(sdv.version.public)"
      ]
    },
    {
      "cell_type": "code",
      "execution_count": null,
      "metadata": {
        "colab": {
          "base_uri": "https://localhost:8080/"
        },
        "id": "jcnrOH_jmXNM",
        "outputId": "33c6d71a-0fcc-4163-b678-82a20429b60b"
      },
      "outputs": [
        {
          "output_type": "stream",
          "name": "stdout",
          "text": [
            "1.17.0\n"
          ]
        }
      ],
      "source": [
        "import sdv\n",
        "print(sdv.__version__)"
      ]
    },
    {
      "cell_type": "code",
      "execution_count": null,
      "metadata": {
        "id": "ofZw8fDdmlfl"
      },
      "outputs": [],
      "source": [
        "from sdv.single_table import GaussianCopulaSynthesizer\n",
        "from sdv.single_table import CTGANSynthesizer\n",
        "from sdv.single_table import TVAESynthesizer\n",
        "from sdv.single_table import CopulaGANSynthesizer\n",
        "\n",
        "from sdv.metadata import SingleTableMetadata"
      ]
    },
    {
      "cell_type": "code",
      "source": [
        "import pickle\n",
        "# Load object from file\n",
        "with open(gdrivePath +os.sep + \"data\" +os.sep+'X_train.pkl', 'rb') as f:\n",
        "    X_train = pickle.load(f)\n",
        "with open(gdrivePath +os.sep + \"data\" +os.sep+'X_test.pkl', 'rb') as f:\n",
        "    X_test = pickle.load(f)\n",
        "with open(gdrivePath +os.sep + \"data\" +os.sep+'y_train.pkl', 'rb') as f:\n",
        "    y_train = pickle.load(f)\n",
        "with open(gdrivePath +os.sep + \"data\" +os.sep+'y_test.pkl', 'rb') as f:\n",
        "    y_test = pickle.load(f)\n"
      ],
      "metadata": {
        "id": "bsG96DarAMH5"
      },
      "execution_count": null,
      "outputs": []
    },
    {
      "cell_type": "code",
      "source": [
        "print(X_train.shape,y_train.shape, X_test.shape,y_test.shape)"
      ],
      "metadata": {
        "colab": {
          "base_uri": "https://localhost:8080/"
        },
        "id": "5fvx44BvAIO4",
        "outputId": "bce16447-7021-4ff4-f93d-4fd325c0051e"
      },
      "execution_count": null,
      "outputs": [
        {
          "output_type": "stream",
          "name": "stdout",
          "text": [
            "(11337, 2500) (11337,) (2835, 2500) (2835,)\n"
          ]
        }
      ]
    },
    {
      "cell_type": "markdown",
      "metadata": {
        "id": "0tElnZlysuQE"
      },
      "source": [
        "Metadata"
      ]
    },
    {
      "cell_type": "code",
      "source": [
        "type(X_train)"
      ],
      "metadata": {
        "colab": {
          "base_uri": "https://localhost:8080/"
        },
        "id": "Zrc9zoTtHbM2",
        "outputId": "c7a250a9-7c4e-4f7d-aa3e-e71db7fc9fb1"
      },
      "execution_count": null,
      "outputs": [
        {
          "output_type": "execute_result",
          "data": {
            "text/plain": [
              "numpy.ndarray"
            ]
          },
          "metadata": {},
          "execution_count": 11
        }
      ]
    },
    {
      "cell_type": "code",
      "source": [
        "X_train_pd = pd.DataFrame(X_train)    # values\n",
        "             #index=data[1:,0],    # 1st column as index\n",
        "             #columns=data[0,1:])\n",
        "X_train_pd"
      ],
      "metadata": {
        "colab": {
          "base_uri": "https://localhost:8080/",
          "height": 423
        },
        "id": "tuF0Q979HkfC",
        "outputId": "f27adee7-d3cf-440e-e4b2-cfc9f6d82ecb"
      },
      "execution_count": null,
      "outputs": [
        {
          "output_type": "execute_result",
          "data": {
            "text/plain": [
              "                                   GCG        INS        TTR       IAPP  \\\n",
              "D30-6_78                      7.249645   2.294069   6.030809   0.000000   \n",
              "human1_lib1.final_cell_0177   6.078767   9.381356   0.000000   8.062669   \n",
              "human1_lib2.final_cell_0068   6.102869   7.504727   8.407906   7.961991   \n",
              "Sample_1217                  15.617643   4.479899  14.780370   0.000000   \n",
              "human1_lib3.final_cell_0012   3.350914  13.941968   6.031674  13.568537   \n",
              "...                                ...        ...        ...        ...   \n",
              "D29-1_70                      7.934243   9.832001   8.365056  10.296864   \n",
              "HP1506401_O3                 12.018419   2.633717  13.472902   0.000000   \n",
              "Sample_128                    5.572271  15.183680   9.560875  10.282165   \n",
              "human2_lib2.final_cell_0587   7.618290  13.625994   0.000000  11.698826   \n",
              "human2_lib1.final_cell_0379   6.060459  10.209822  10.209822   0.000000   \n",
              "\n",
              "                                   SST      REG1A       CHGB      CTRB2  \\\n",
              "D30-6_78                      7.598788   2.294069   0.000000   0.000000   \n",
              "human1_lib1.final_cell_0177   9.381356  15.692101   6.078767  14.630967   \n",
              "human1_lib2.final_cell_0068  15.853788   6.512649  10.225887   4.559289   \n",
              "Sample_1217                   1.699011   4.215210   7.451349   1.644917   \n",
              "human1_lib3.final_cell_0012   8.820001   6.389335   7.119400   4.278423   \n",
              "...                                ...        ...        ...        ...   \n",
              "D29-1_70                     10.296864   5.277260   6.131913   2.236041   \n",
              "HP1506401_O3                  0.000000   5.864644   9.759837   2.160539   \n",
              "Sample_128                    3.044460   4.455449   9.485811   0.841646   \n",
              "human2_lib2.final_cell_0587   7.618290   0.000000   0.000000   0.000000   \n",
              "human2_lib1.final_cell_0379   0.000000   0.000000   6.060459   0.000000   \n",
              "\n",
              "                                 CTRB1     CELA3A  ...  TRPC3  ASZ1  ADAM6  \\\n",
              "D30-6_78                      0.000000   0.000000  ...    0.0   0.0    0.0   \n",
              "human1_lib1.final_cell_0177  13.764726  12.915431  ...    0.0   0.0    0.0   \n",
              "human1_lib2.final_cell_0068   0.000000   0.000000  ...    0.0   0.0    0.0   \n",
              "Sample_1217                   0.625559   0.000000  ...    0.0   0.0    0.0   \n",
              "human1_lib3.final_cell_0012   0.000000   0.000000  ...    0.0   0.0    0.0   \n",
              "...                                ...        ...  ...    ...   ...    ...   \n",
              "D29-1_70                      0.000000   0.000000  ...    0.0   0.0    0.0   \n",
              "HP1506401_O3                  2.633717   0.000000  ...    0.0   0.0    0.0   \n",
              "Sample_128                    1.776240   1.736280  ...    0.0   0.0    0.0   \n",
              "human2_lib2.final_cell_0587   0.000000   0.000000  ...    0.0   0.0    0.0   \n",
              "human2_lib1.final_cell_0379   0.000000   0.000000  ...    0.0   0.0    0.0   \n",
              "\n",
              "                             EQTN  NR2E3  STYK1  SNX31  GNGT1  PATE2    SNHG11  \n",
              "D30-6_78                      0.0    0.0    0.0    0.0    0.0    0.0  2.294069  \n",
              "human1_lib1.final_cell_0177   0.0    0.0    0.0    0.0    0.0    0.0  0.000000  \n",
              "human1_lib2.final_cell_0068   0.0    0.0    0.0    0.0    0.0    0.0  0.000000  \n",
              "Sample_1217                   0.0    0.0    0.0    0.0    0.0    0.0  0.000000  \n",
              "human1_lib3.final_cell_0012   0.0    0.0    0.0    0.0    0.0    0.0  0.000000  \n",
              "...                           ...    ...    ...    ...    ...    ...       ...  \n",
              "D29-1_70                      0.0    0.0    0.0    0.0    0.0    0.0  0.000000  \n",
              "HP1506401_O3                  0.0    0.0    0.0    0.0    0.0    0.0  3.274567  \n",
              "Sample_128                    0.0    0.0    0.0    0.0    0.0    0.0  0.000000  \n",
              "human2_lib2.final_cell_0587   0.0    0.0    0.0    0.0    0.0    0.0  0.000000  \n",
              "human2_lib1.final_cell_0379   0.0    0.0    0.0    0.0    0.0    0.0  0.000000  \n",
              "\n",
              "[11337 rows x 7514 columns]"
            ],
            "text/html": [
              "\n",
              "  <div id=\"df-25067bd4-3775-4f09-84b3-290bbfdec837\" class=\"colab-df-container\">\n",
              "    <div>\n",
              "<style scoped>\n",
              "    .dataframe tbody tr th:only-of-type {\n",
              "        vertical-align: middle;\n",
              "    }\n",
              "\n",
              "    .dataframe tbody tr th {\n",
              "        vertical-align: top;\n",
              "    }\n",
              "\n",
              "    .dataframe thead th {\n",
              "        text-align: right;\n",
              "    }\n",
              "</style>\n",
              "<table border=\"1\" class=\"dataframe\">\n",
              "  <thead>\n",
              "    <tr style=\"text-align: right;\">\n",
              "      <th></th>\n",
              "      <th>GCG</th>\n",
              "      <th>INS</th>\n",
              "      <th>TTR</th>\n",
              "      <th>IAPP</th>\n",
              "      <th>SST</th>\n",
              "      <th>REG1A</th>\n",
              "      <th>CHGB</th>\n",
              "      <th>CTRB2</th>\n",
              "      <th>CTRB1</th>\n",
              "      <th>CELA3A</th>\n",
              "      <th>...</th>\n",
              "      <th>TRPC3</th>\n",
              "      <th>ASZ1</th>\n",
              "      <th>ADAM6</th>\n",
              "      <th>EQTN</th>\n",
              "      <th>NR2E3</th>\n",
              "      <th>STYK1</th>\n",
              "      <th>SNX31</th>\n",
              "      <th>GNGT1</th>\n",
              "      <th>PATE2</th>\n",
              "      <th>SNHG11</th>\n",
              "    </tr>\n",
              "  </thead>\n",
              "  <tbody>\n",
              "    <tr>\n",
              "      <th>D30-6_78</th>\n",
              "      <td>7.249645</td>\n",
              "      <td>2.294069</td>\n",
              "      <td>6.030809</td>\n",
              "      <td>0.000000</td>\n",
              "      <td>7.598788</td>\n",
              "      <td>2.294069</td>\n",
              "      <td>0.000000</td>\n",
              "      <td>0.000000</td>\n",
              "      <td>0.000000</td>\n",
              "      <td>0.000000</td>\n",
              "      <td>...</td>\n",
              "      <td>0.0</td>\n",
              "      <td>0.0</td>\n",
              "      <td>0.0</td>\n",
              "      <td>0.0</td>\n",
              "      <td>0.0</td>\n",
              "      <td>0.0</td>\n",
              "      <td>0.0</td>\n",
              "      <td>0.0</td>\n",
              "      <td>0.0</td>\n",
              "      <td>2.294069</td>\n",
              "    </tr>\n",
              "    <tr>\n",
              "      <th>human1_lib1.final_cell_0177</th>\n",
              "      <td>6.078767</td>\n",
              "      <td>9.381356</td>\n",
              "      <td>0.000000</td>\n",
              "      <td>8.062669</td>\n",
              "      <td>9.381356</td>\n",
              "      <td>15.692101</td>\n",
              "      <td>6.078767</td>\n",
              "      <td>14.630967</td>\n",
              "      <td>13.764726</td>\n",
              "      <td>12.915431</td>\n",
              "      <td>...</td>\n",
              "      <td>0.0</td>\n",
              "      <td>0.0</td>\n",
              "      <td>0.0</td>\n",
              "      <td>0.0</td>\n",
              "      <td>0.0</td>\n",
              "      <td>0.0</td>\n",
              "      <td>0.0</td>\n",
              "      <td>0.0</td>\n",
              "      <td>0.0</td>\n",
              "      <td>0.000000</td>\n",
              "    </tr>\n",
              "    <tr>\n",
              "      <th>human1_lib2.final_cell_0068</th>\n",
              "      <td>6.102869</td>\n",
              "      <td>7.504727</td>\n",
              "      <td>8.407906</td>\n",
              "      <td>7.961991</td>\n",
              "      <td>15.853788</td>\n",
              "      <td>6.512649</td>\n",
              "      <td>10.225887</td>\n",
              "      <td>4.559289</td>\n",
              "      <td>0.000000</td>\n",
              "      <td>0.000000</td>\n",
              "      <td>...</td>\n",
              "      <td>0.0</td>\n",
              "      <td>0.0</td>\n",
              "      <td>0.0</td>\n",
              "      <td>0.0</td>\n",
              "      <td>0.0</td>\n",
              "      <td>0.0</td>\n",
              "      <td>0.0</td>\n",
              "      <td>0.0</td>\n",
              "      <td>0.0</td>\n",
              "      <td>0.000000</td>\n",
              "    </tr>\n",
              "    <tr>\n",
              "      <th>Sample_1217</th>\n",
              "      <td>15.617643</td>\n",
              "      <td>4.479899</td>\n",
              "      <td>14.780370</td>\n",
              "      <td>0.000000</td>\n",
              "      <td>1.699011</td>\n",
              "      <td>4.215210</td>\n",
              "      <td>7.451349</td>\n",
              "      <td>1.644917</td>\n",
              "      <td>0.625559</td>\n",
              "      <td>0.000000</td>\n",
              "      <td>...</td>\n",
              "      <td>0.0</td>\n",
              "      <td>0.0</td>\n",
              "      <td>0.0</td>\n",
              "      <td>0.0</td>\n",
              "      <td>0.0</td>\n",
              "      <td>0.0</td>\n",
              "      <td>0.0</td>\n",
              "      <td>0.0</td>\n",
              "      <td>0.0</td>\n",
              "      <td>0.000000</td>\n",
              "    </tr>\n",
              "    <tr>\n",
              "      <th>human1_lib3.final_cell_0012</th>\n",
              "      <td>3.350914</td>\n",
              "      <td>13.941968</td>\n",
              "      <td>6.031674</td>\n",
              "      <td>13.568537</td>\n",
              "      <td>8.820001</td>\n",
              "      <td>6.389335</td>\n",
              "      <td>7.119400</td>\n",
              "      <td>4.278423</td>\n",
              "      <td>0.000000</td>\n",
              "      <td>0.000000</td>\n",
              "      <td>...</td>\n",
              "      <td>0.0</td>\n",
              "      <td>0.0</td>\n",
              "      <td>0.0</td>\n",
              "      <td>0.0</td>\n",
              "      <td>0.0</td>\n",
              "      <td>0.0</td>\n",
              "      <td>0.0</td>\n",
              "      <td>0.0</td>\n",
              "      <td>0.0</td>\n",
              "      <td>0.000000</td>\n",
              "    </tr>\n",
              "    <tr>\n",
              "      <th>...</th>\n",
              "      <td>...</td>\n",
              "      <td>...</td>\n",
              "      <td>...</td>\n",
              "      <td>...</td>\n",
              "      <td>...</td>\n",
              "      <td>...</td>\n",
              "      <td>...</td>\n",
              "      <td>...</td>\n",
              "      <td>...</td>\n",
              "      <td>...</td>\n",
              "      <td>...</td>\n",
              "      <td>...</td>\n",
              "      <td>...</td>\n",
              "      <td>...</td>\n",
              "      <td>...</td>\n",
              "      <td>...</td>\n",
              "      <td>...</td>\n",
              "      <td>...</td>\n",
              "      <td>...</td>\n",
              "      <td>...</td>\n",
              "      <td>...</td>\n",
              "    </tr>\n",
              "    <tr>\n",
              "      <th>D29-1_70</th>\n",
              "      <td>7.934243</td>\n",
              "      <td>9.832001</td>\n",
              "      <td>8.365056</td>\n",
              "      <td>10.296864</td>\n",
              "      <td>10.296864</td>\n",
              "      <td>5.277260</td>\n",
              "      <td>6.131913</td>\n",
              "      <td>2.236041</td>\n",
              "      <td>0.000000</td>\n",
              "      <td>0.000000</td>\n",
              "      <td>...</td>\n",
              "      <td>0.0</td>\n",
              "      <td>0.0</td>\n",
              "      <td>0.0</td>\n",
              "      <td>0.0</td>\n",
              "      <td>0.0</td>\n",
              "      <td>0.0</td>\n",
              "      <td>0.0</td>\n",
              "      <td>0.0</td>\n",
              "      <td>0.0</td>\n",
              "      <td>0.000000</td>\n",
              "    </tr>\n",
              "    <tr>\n",
              "      <th>HP1506401_O3</th>\n",
              "      <td>12.018419</td>\n",
              "      <td>2.633717</td>\n",
              "      <td>13.472902</td>\n",
              "      <td>0.000000</td>\n",
              "      <td>0.000000</td>\n",
              "      <td>5.864644</td>\n",
              "      <td>9.759837</td>\n",
              "      <td>2.160539</td>\n",
              "      <td>2.633717</td>\n",
              "      <td>0.000000</td>\n",
              "      <td>...</td>\n",
              "      <td>0.0</td>\n",
              "      <td>0.0</td>\n",
              "      <td>0.0</td>\n",
              "      <td>0.0</td>\n",
              "      <td>0.0</td>\n",
              "      <td>0.0</td>\n",
              "      <td>0.0</td>\n",
              "      <td>0.0</td>\n",
              "      <td>0.0</td>\n",
              "      <td>3.274567</td>\n",
              "    </tr>\n",
              "    <tr>\n",
              "      <th>Sample_128</th>\n",
              "      <td>5.572271</td>\n",
              "      <td>15.183680</td>\n",
              "      <td>9.560875</td>\n",
              "      <td>10.282165</td>\n",
              "      <td>3.044460</td>\n",
              "      <td>4.455449</td>\n",
              "      <td>9.485811</td>\n",
              "      <td>0.841646</td>\n",
              "      <td>1.776240</td>\n",
              "      <td>1.736280</td>\n",
              "      <td>...</td>\n",
              "      <td>0.0</td>\n",
              "      <td>0.0</td>\n",
              "      <td>0.0</td>\n",
              "      <td>0.0</td>\n",
              "      <td>0.0</td>\n",
              "      <td>0.0</td>\n",
              "      <td>0.0</td>\n",
              "      <td>0.0</td>\n",
              "      <td>0.0</td>\n",
              "      <td>0.000000</td>\n",
              "    </tr>\n",
              "    <tr>\n",
              "      <th>human2_lib2.final_cell_0587</th>\n",
              "      <td>7.618290</td>\n",
              "      <td>13.625994</td>\n",
              "      <td>0.000000</td>\n",
              "      <td>11.698826</td>\n",
              "      <td>7.618290</td>\n",
              "      <td>0.000000</td>\n",
              "      <td>0.000000</td>\n",
              "      <td>0.000000</td>\n",
              "      <td>0.000000</td>\n",
              "      <td>0.000000</td>\n",
              "      <td>...</td>\n",
              "      <td>0.0</td>\n",
              "      <td>0.0</td>\n",
              "      <td>0.0</td>\n",
              "      <td>0.0</td>\n",
              "      <td>0.0</td>\n",
              "      <td>0.0</td>\n",
              "      <td>0.0</td>\n",
              "      <td>0.0</td>\n",
              "      <td>0.0</td>\n",
              "      <td>0.000000</td>\n",
              "    </tr>\n",
              "    <tr>\n",
              "      <th>human2_lib1.final_cell_0379</th>\n",
              "      <td>6.060459</td>\n",
              "      <td>10.209822</td>\n",
              "      <td>10.209822</td>\n",
              "      <td>0.000000</td>\n",
              "      <td>0.000000</td>\n",
              "      <td>0.000000</td>\n",
              "      <td>6.060459</td>\n",
              "      <td>0.000000</td>\n",
              "      <td>0.000000</td>\n",
              "      <td>0.000000</td>\n",
              "      <td>...</td>\n",
              "      <td>0.0</td>\n",
              "      <td>0.0</td>\n",
              "      <td>0.0</td>\n",
              "      <td>0.0</td>\n",
              "      <td>0.0</td>\n",
              "      <td>0.0</td>\n",
              "      <td>0.0</td>\n",
              "      <td>0.0</td>\n",
              "      <td>0.0</td>\n",
              "      <td>0.000000</td>\n",
              "    </tr>\n",
              "  </tbody>\n",
              "</table>\n",
              "<p>11337 rows × 7514 columns</p>\n",
              "</div>\n",
              "    <div class=\"colab-df-buttons\">\n",
              "\n",
              "  <div class=\"colab-df-container\">\n",
              "    <button class=\"colab-df-convert\" onclick=\"convertToInteractive('df-25067bd4-3775-4f09-84b3-290bbfdec837')\"\n",
              "            title=\"Convert this dataframe to an interactive table.\"\n",
              "            style=\"display:none;\">\n",
              "\n",
              "  <svg xmlns=\"http://www.w3.org/2000/svg\" height=\"24px\" viewBox=\"0 -960 960 960\">\n",
              "    <path d=\"M120-120v-720h720v720H120Zm60-500h600v-160H180v160Zm220 220h160v-160H400v160Zm0 220h160v-160H400v160ZM180-400h160v-160H180v160Zm440 0h160v-160H620v160ZM180-180h160v-160H180v160Zm440 0h160v-160H620v160Z\"/>\n",
              "  </svg>\n",
              "    </button>\n",
              "\n",
              "  <style>\n",
              "    .colab-df-container {\n",
              "      display:flex;\n",
              "      gap: 12px;\n",
              "    }\n",
              "\n",
              "    .colab-df-convert {\n",
              "      background-color: #E8F0FE;\n",
              "      border: none;\n",
              "      border-radius: 50%;\n",
              "      cursor: pointer;\n",
              "      display: none;\n",
              "      fill: #1967D2;\n",
              "      height: 32px;\n",
              "      padding: 0 0 0 0;\n",
              "      width: 32px;\n",
              "    }\n",
              "\n",
              "    .colab-df-convert:hover {\n",
              "      background-color: #E2EBFA;\n",
              "      box-shadow: 0px 1px 2px rgba(60, 64, 67, 0.3), 0px 1px 3px 1px rgba(60, 64, 67, 0.15);\n",
              "      fill: #174EA6;\n",
              "    }\n",
              "\n",
              "    .colab-df-buttons div {\n",
              "      margin-bottom: 4px;\n",
              "    }\n",
              "\n",
              "    [theme=dark] .colab-df-convert {\n",
              "      background-color: #3B4455;\n",
              "      fill: #D2E3FC;\n",
              "    }\n",
              "\n",
              "    [theme=dark] .colab-df-convert:hover {\n",
              "      background-color: #434B5C;\n",
              "      box-shadow: 0px 1px 3px 1px rgba(0, 0, 0, 0.15);\n",
              "      filter: drop-shadow(0px 1px 2px rgba(0, 0, 0, 0.3));\n",
              "      fill: #FFFFFF;\n",
              "    }\n",
              "  </style>\n",
              "\n",
              "    <script>\n",
              "      const buttonEl =\n",
              "        document.querySelector('#df-25067bd4-3775-4f09-84b3-290bbfdec837 button.colab-df-convert');\n",
              "      buttonEl.style.display =\n",
              "        google.colab.kernel.accessAllowed ? 'block' : 'none';\n",
              "\n",
              "      async function convertToInteractive(key) {\n",
              "        const element = document.querySelector('#df-25067bd4-3775-4f09-84b3-290bbfdec837');\n",
              "        const dataTable =\n",
              "          await google.colab.kernel.invokeFunction('convertToInteractive',\n",
              "                                                    [key], {});\n",
              "        if (!dataTable) return;\n",
              "\n",
              "        const docLinkHtml = 'Like what you see? Visit the ' +\n",
              "          '<a target=\"_blank\" href=https://colab.research.google.com/notebooks/data_table.ipynb>data table notebook</a>'\n",
              "          + ' to learn more about interactive tables.';\n",
              "        element.innerHTML = '';\n",
              "        dataTable['output_type'] = 'display_data';\n",
              "        await google.colab.output.renderOutput(dataTable, element);\n",
              "        const docLink = document.createElement('div');\n",
              "        docLink.innerHTML = docLinkHtml;\n",
              "        element.appendChild(docLink);\n",
              "      }\n",
              "    </script>\n",
              "  </div>\n",
              "\n",
              "\n",
              "<div id=\"df-a2d6d9b9-1e52-44d1-84d4-3bc428c32f57\">\n",
              "  <button class=\"colab-df-quickchart\" onclick=\"quickchart('df-a2d6d9b9-1e52-44d1-84d4-3bc428c32f57')\"\n",
              "            title=\"Suggest charts\"\n",
              "            style=\"display:none;\">\n",
              "\n",
              "<svg xmlns=\"http://www.w3.org/2000/svg\" height=\"24px\"viewBox=\"0 0 24 24\"\n",
              "     width=\"24px\">\n",
              "    <g>\n",
              "        <path d=\"M19 3H5c-1.1 0-2 .9-2 2v14c0 1.1.9 2 2 2h14c1.1 0 2-.9 2-2V5c0-1.1-.9-2-2-2zM9 17H7v-7h2v7zm4 0h-2V7h2v10zm4 0h-2v-4h2v4z\"/>\n",
              "    </g>\n",
              "</svg>\n",
              "  </button>\n",
              "\n",
              "<style>\n",
              "  .colab-df-quickchart {\n",
              "      --bg-color: #E8F0FE;\n",
              "      --fill-color: #1967D2;\n",
              "      --hover-bg-color: #E2EBFA;\n",
              "      --hover-fill-color: #174EA6;\n",
              "      --disabled-fill-color: #AAA;\n",
              "      --disabled-bg-color: #DDD;\n",
              "  }\n",
              "\n",
              "  [theme=dark] .colab-df-quickchart {\n",
              "      --bg-color: #3B4455;\n",
              "      --fill-color: #D2E3FC;\n",
              "      --hover-bg-color: #434B5C;\n",
              "      --hover-fill-color: #FFFFFF;\n",
              "      --disabled-bg-color: #3B4455;\n",
              "      --disabled-fill-color: #666;\n",
              "  }\n",
              "\n",
              "  .colab-df-quickchart {\n",
              "    background-color: var(--bg-color);\n",
              "    border: none;\n",
              "    border-radius: 50%;\n",
              "    cursor: pointer;\n",
              "    display: none;\n",
              "    fill: var(--fill-color);\n",
              "    height: 32px;\n",
              "    padding: 0;\n",
              "    width: 32px;\n",
              "  }\n",
              "\n",
              "  .colab-df-quickchart:hover {\n",
              "    background-color: var(--hover-bg-color);\n",
              "    box-shadow: 0 1px 2px rgba(60, 64, 67, 0.3), 0 1px 3px 1px rgba(60, 64, 67, 0.15);\n",
              "    fill: var(--button-hover-fill-color);\n",
              "  }\n",
              "\n",
              "  .colab-df-quickchart-complete:disabled,\n",
              "  .colab-df-quickchart-complete:disabled:hover {\n",
              "    background-color: var(--disabled-bg-color);\n",
              "    fill: var(--disabled-fill-color);\n",
              "    box-shadow: none;\n",
              "  }\n",
              "\n",
              "  .colab-df-spinner {\n",
              "    border: 2px solid var(--fill-color);\n",
              "    border-color: transparent;\n",
              "    border-bottom-color: var(--fill-color);\n",
              "    animation:\n",
              "      spin 1s steps(1) infinite;\n",
              "  }\n",
              "\n",
              "  @keyframes spin {\n",
              "    0% {\n",
              "      border-color: transparent;\n",
              "      border-bottom-color: var(--fill-color);\n",
              "      border-left-color: var(--fill-color);\n",
              "    }\n",
              "    20% {\n",
              "      border-color: transparent;\n",
              "      border-left-color: var(--fill-color);\n",
              "      border-top-color: var(--fill-color);\n",
              "    }\n",
              "    30% {\n",
              "      border-color: transparent;\n",
              "      border-left-color: var(--fill-color);\n",
              "      border-top-color: var(--fill-color);\n",
              "      border-right-color: var(--fill-color);\n",
              "    }\n",
              "    40% {\n",
              "      border-color: transparent;\n",
              "      border-right-color: var(--fill-color);\n",
              "      border-top-color: var(--fill-color);\n",
              "    }\n",
              "    60% {\n",
              "      border-color: transparent;\n",
              "      border-right-color: var(--fill-color);\n",
              "    }\n",
              "    80% {\n",
              "      border-color: transparent;\n",
              "      border-right-color: var(--fill-color);\n",
              "      border-bottom-color: var(--fill-color);\n",
              "    }\n",
              "    90% {\n",
              "      border-color: transparent;\n",
              "      border-bottom-color: var(--fill-color);\n",
              "    }\n",
              "  }\n",
              "</style>\n",
              "\n",
              "  <script>\n",
              "    async function quickchart(key) {\n",
              "      const quickchartButtonEl =\n",
              "        document.querySelector('#' + key + ' button');\n",
              "      quickchartButtonEl.disabled = true;  // To prevent multiple clicks.\n",
              "      quickchartButtonEl.classList.add('colab-df-spinner');\n",
              "      try {\n",
              "        const charts = await google.colab.kernel.invokeFunction(\n",
              "            'suggestCharts', [key], {});\n",
              "      } catch (error) {\n",
              "        console.error('Error during call to suggestCharts:', error);\n",
              "      }\n",
              "      quickchartButtonEl.classList.remove('colab-df-spinner');\n",
              "      quickchartButtonEl.classList.add('colab-df-quickchart-complete');\n",
              "    }\n",
              "    (() => {\n",
              "      let quickchartButtonEl =\n",
              "        document.querySelector('#df-a2d6d9b9-1e52-44d1-84d4-3bc428c32f57 button');\n",
              "      quickchartButtonEl.style.display =\n",
              "        google.colab.kernel.accessAllowed ? 'block' : 'none';\n",
              "    })();\n",
              "  </script>\n",
              "</div>\n",
              "\n",
              "  <div id=\"id_7a4c0e60-58fe-4a82-a145-b79c74f0790f\">\n",
              "    <style>\n",
              "      .colab-df-generate {\n",
              "        background-color: #E8F0FE;\n",
              "        border: none;\n",
              "        border-radius: 50%;\n",
              "        cursor: pointer;\n",
              "        display: none;\n",
              "        fill: #1967D2;\n",
              "        height: 32px;\n",
              "        padding: 0 0 0 0;\n",
              "        width: 32px;\n",
              "      }\n",
              "\n",
              "      .colab-df-generate:hover {\n",
              "        background-color: #E2EBFA;\n",
              "        box-shadow: 0px 1px 2px rgba(60, 64, 67, 0.3), 0px 1px 3px 1px rgba(60, 64, 67, 0.15);\n",
              "        fill: #174EA6;\n",
              "      }\n",
              "\n",
              "      [theme=dark] .colab-df-generate {\n",
              "        background-color: #3B4455;\n",
              "        fill: #D2E3FC;\n",
              "      }\n",
              "\n",
              "      [theme=dark] .colab-df-generate:hover {\n",
              "        background-color: #434B5C;\n",
              "        box-shadow: 0px 1px 3px 1px rgba(0, 0, 0, 0.15);\n",
              "        filter: drop-shadow(0px 1px 2px rgba(0, 0, 0, 0.3));\n",
              "        fill: #FFFFFF;\n",
              "      }\n",
              "    </style>\n",
              "    <button class=\"colab-df-generate\" onclick=\"generateWithVariable('X_train_pd')\"\n",
              "            title=\"Generate code using this dataframe.\"\n",
              "            style=\"display:none;\">\n",
              "\n",
              "  <svg xmlns=\"http://www.w3.org/2000/svg\" height=\"24px\"viewBox=\"0 0 24 24\"\n",
              "       width=\"24px\">\n",
              "    <path d=\"M7,19H8.4L18.45,9,17,7.55,7,17.6ZM5,21V16.75L18.45,3.32a2,2,0,0,1,2.83,0l1.4,1.43a1.91,1.91,0,0,1,.58,1.4,1.91,1.91,0,0,1-.58,1.4L9.25,21ZM18.45,9,17,7.55Zm-12,3A5.31,5.31,0,0,0,4.9,8.1,5.31,5.31,0,0,0,1,6.5,5.31,5.31,0,0,0,4.9,4.9,5.31,5.31,0,0,0,6.5,1,5.31,5.31,0,0,0,8.1,4.9,5.31,5.31,0,0,0,12,6.5,5.46,5.46,0,0,0,6.5,12Z\"/>\n",
              "  </svg>\n",
              "    </button>\n",
              "    <script>\n",
              "      (() => {\n",
              "      const buttonEl =\n",
              "        document.querySelector('#id_7a4c0e60-58fe-4a82-a145-b79c74f0790f button.colab-df-generate');\n",
              "      buttonEl.style.display =\n",
              "        google.colab.kernel.accessAllowed ? 'block' : 'none';\n",
              "\n",
              "      buttonEl.onclick = () => {\n",
              "        google.colab.notebook.generateWithVariable('X_train_pd');\n",
              "      }\n",
              "      })();\n",
              "    </script>\n",
              "  </div>\n",
              "\n",
              "    </div>\n",
              "  </div>\n"
            ],
            "application/vnd.google.colaboratory.intrinsic+json": {
              "type": "dataframe",
              "variable_name": "X_train_pd"
            }
          },
          "metadata": {},
          "execution_count": 10
        }
      ]
    },
    {
      "cell_type": "code",
      "execution_count": null,
      "metadata": {
        "id": "z_JwYpYm1naU"
      },
      "outputs": [],
      "source": [
        "metadata = SingleTableMetadata()\n",
        "metadata.detect_from_dataframe(X_train_pd)\n",
        "#metadata.set_primary_key(column_name='gene')"
      ]
    },
    {
      "cell_type": "code",
      "execution_count": null,
      "metadata": {
        "id": "M1N9WneG4AeL",
        "colab": {
          "base_uri": "https://localhost:8080/",
          "height": 1000
        },
        "outputId": "17a81bf1-efb5-480e-99ff-28a1d167ff87",
        "collapsed": true
      },
      "outputs": [
        {
          "output_type": "execute_result",
          "data": {
            "image/svg+xml": "<?xml version=\"1.0\" encoding=\"UTF-8\" standalone=\"no\"?>\n<!DOCTYPE svg PUBLIC \"-//W3C//DTD SVG 1.1//EN\"\n \"http://www.w3.org/Graphics/SVG/1.1/DTD/svg11.dtd\">\n<!-- Generated by graphviz version 2.43.0 (0)\n -->\n<!-- Title: Metadata Pages: 1 -->\n<svg width=\"118pt\" height=\"22517pt\"\n viewBox=\"0.00 0.00 118.00 22517.00\" xmlns=\"http://www.w3.org/2000/svg\" xmlns:xlink=\"http://www.w3.org/1999/xlink\">\n<g id=\"graph0\" class=\"graph\" transform=\"scale(1 1) rotate(0) translate(4 22513)\">\n<title>Metadata</title>\n<polygon fill=\"white\" stroke=\"transparent\" points=\"-4,4 -4,-22513 114,-22513 114,4 -4,4\"/>\n<g id=\"node1\" class=\"node\">\n<title></title>\n<path fill=\"#ffec8b\" stroke=\"black\" d=\"M12,-0.5C12,-0.5 98,-0.5 98,-0.5 104,-0.5 110,-6.5 110,-12.5 110,-12.5 110,-22496.5 110,-22496.5 110,-22502.5 104,-22508.5 98,-22508.5 98,-22508.5 12,-22508.5 12,-22508.5 6,-22508.5 0,-22502.5 0,-22496.5 0,-22496.5 0,-12.5 0,-12.5 0,-6.5 6,-0.5 12,-0.5\"/>\n<text text-anchor=\"start\" x=\"8\" y=\"-22493.3\" font-family=\"Times,serif\" font-size=\"14.00\">0 : numerical</text>\n<text text-anchor=\"start\" x=\"8\" y=\"-22478.3\" font-family=\"Times,serif\" font-size=\"14.00\">1 : numerical</text>\n<text text-anchor=\"start\" x=\"8\" y=\"-22463.3\" font-family=\"Times,serif\" font-size=\"14.00\">2 : numerical</text>\n<text text-anchor=\"start\" x=\"8\" y=\"-22448.3\" font-family=\"Times,serif\" font-size=\"14.00\">3 : numerical</text>\n<text text-anchor=\"start\" x=\"8\" y=\"-22433.3\" font-family=\"Times,serif\" font-size=\"14.00\">4 : numerical</text>\n<text text-anchor=\"start\" x=\"8\" y=\"-22418.3\" font-family=\"Times,serif\" font-size=\"14.00\">5 : numerical</text>\n<text text-anchor=\"start\" x=\"8\" y=\"-22403.3\" font-family=\"Times,serif\" font-size=\"14.00\">6 : numerical</text>\n<text text-anchor=\"start\" x=\"8\" y=\"-22388.3\" font-family=\"Times,serif\" font-size=\"14.00\">7 : numerical</text>\n<text text-anchor=\"start\" x=\"8\" y=\"-22373.3\" font-family=\"Times,serif\" font-size=\"14.00\">8 : numerical</text>\n<text text-anchor=\"start\" x=\"8\" y=\"-22358.3\" font-family=\"Times,serif\" font-size=\"14.00\">9 : numerical</text>\n<text text-anchor=\"start\" x=\"8\" y=\"-22343.3\" font-family=\"Times,serif\" font-size=\"14.00\">10 : numerical</text>\n<text text-anchor=\"start\" x=\"8\" y=\"-22328.3\" font-family=\"Times,serif\" font-size=\"14.00\">11 : numerical</text>\n<text text-anchor=\"start\" x=\"8\" y=\"-22313.3\" font-family=\"Times,serif\" font-size=\"14.00\">12 : numerical</text>\n<text text-anchor=\"start\" x=\"8\" y=\"-22298.3\" font-family=\"Times,serif\" font-size=\"14.00\">13 : numerical</text>\n<text text-anchor=\"start\" x=\"8\" y=\"-22283.3\" font-family=\"Times,serif\" font-size=\"14.00\">14 : numerical</text>\n<text text-anchor=\"start\" x=\"8\" y=\"-22268.3\" font-family=\"Times,serif\" font-size=\"14.00\">15 : numerical</text>\n<text text-anchor=\"start\" x=\"8\" y=\"-22253.3\" font-family=\"Times,serif\" font-size=\"14.00\">16 : numerical</text>\n<text text-anchor=\"start\" x=\"8\" y=\"-22238.3\" font-family=\"Times,serif\" font-size=\"14.00\">17 : numerical</text>\n<text text-anchor=\"start\" x=\"8\" y=\"-22223.3\" font-family=\"Times,serif\" font-size=\"14.00\">18 : numerical</text>\n<text text-anchor=\"start\" x=\"8\" y=\"-22208.3\" font-family=\"Times,serif\" font-size=\"14.00\">19 : numerical</text>\n<text text-anchor=\"start\" x=\"8\" y=\"-22193.3\" font-family=\"Times,serif\" font-size=\"14.00\">20 : numerical</text>\n<text text-anchor=\"start\" x=\"8\" y=\"-22178.3\" font-family=\"Times,serif\" font-size=\"14.00\">21 : numerical</text>\n<text text-anchor=\"start\" x=\"8\" y=\"-22163.3\" font-family=\"Times,serif\" font-size=\"14.00\">22 : numerical</text>\n<text text-anchor=\"start\" x=\"8\" y=\"-22148.3\" font-family=\"Times,serif\" font-size=\"14.00\">23 : numerical</text>\n<text text-anchor=\"start\" x=\"8\" y=\"-22133.3\" font-family=\"Times,serif\" font-size=\"14.00\">24 : numerical</text>\n<text text-anchor=\"start\" x=\"8\" y=\"-22118.3\" font-family=\"Times,serif\" font-size=\"14.00\">25 : numerical</text>\n<text text-anchor=\"start\" x=\"8\" y=\"-22103.3\" font-family=\"Times,serif\" font-size=\"14.00\">26 : numerical</text>\n<text text-anchor=\"start\" x=\"8\" y=\"-22088.3\" font-family=\"Times,serif\" font-size=\"14.00\">27 : numerical</text>\n<text text-anchor=\"start\" x=\"8\" y=\"-22073.3\" font-family=\"Times,serif\" font-size=\"14.00\">28 : numerical</text>\n<text text-anchor=\"start\" x=\"8\" y=\"-22058.3\" font-family=\"Times,serif\" font-size=\"14.00\">29 : numerical</text>\n<text text-anchor=\"start\" x=\"8\" y=\"-22043.3\" font-family=\"Times,serif\" font-size=\"14.00\">30 : numerical</text>\n<text text-anchor=\"start\" x=\"8\" y=\"-22028.3\" font-family=\"Times,serif\" font-size=\"14.00\">31 : numerical</text>\n<text text-anchor=\"start\" x=\"8\" y=\"-22013.3\" font-family=\"Times,serif\" font-size=\"14.00\">32 : numerical</text>\n<text text-anchor=\"start\" x=\"8\" y=\"-21998.3\" font-family=\"Times,serif\" font-size=\"14.00\">33 : numerical</text>\n<text text-anchor=\"start\" x=\"8\" y=\"-21983.3\" font-family=\"Times,serif\" font-size=\"14.00\">34 : numerical</text>\n<text text-anchor=\"start\" x=\"8\" y=\"-21968.3\" font-family=\"Times,serif\" font-size=\"14.00\">35 : numerical</text>\n<text text-anchor=\"start\" x=\"8\" y=\"-21953.3\" font-family=\"Times,serif\" font-size=\"14.00\">36 : numerical</text>\n<text text-anchor=\"start\" x=\"8\" y=\"-21938.3\" font-family=\"Times,serif\" font-size=\"14.00\">37 : numerical</text>\n<text text-anchor=\"start\" x=\"8\" y=\"-21923.3\" font-family=\"Times,serif\" font-size=\"14.00\">38 : numerical</text>\n<text text-anchor=\"start\" x=\"8\" y=\"-21908.3\" font-family=\"Times,serif\" font-size=\"14.00\">39 : numerical</text>\n<text text-anchor=\"start\" x=\"8\" y=\"-21893.3\" font-family=\"Times,serif\" font-size=\"14.00\">40 : numerical</text>\n<text text-anchor=\"start\" x=\"8\" y=\"-21878.3\" font-family=\"Times,serif\" font-size=\"14.00\">41 : numerical</text>\n<text text-anchor=\"start\" x=\"8\" y=\"-21863.3\" font-family=\"Times,serif\" font-size=\"14.00\">42 : numerical</text>\n<text text-anchor=\"start\" x=\"8\" y=\"-21848.3\" font-family=\"Times,serif\" font-size=\"14.00\">43 : numerical</text>\n<text text-anchor=\"start\" x=\"8\" y=\"-21833.3\" font-family=\"Times,serif\" font-size=\"14.00\">44 : numerical</text>\n<text text-anchor=\"start\" x=\"8\" y=\"-21818.3\" font-family=\"Times,serif\" font-size=\"14.00\">45 : numerical</text>\n<text text-anchor=\"start\" x=\"8\" y=\"-21803.3\" font-family=\"Times,serif\" font-size=\"14.00\">46 : numerical</text>\n<text text-anchor=\"start\" x=\"8\" y=\"-21788.3\" font-family=\"Times,serif\" font-size=\"14.00\">47 : numerical</text>\n<text text-anchor=\"start\" x=\"8\" y=\"-21773.3\" font-family=\"Times,serif\" font-size=\"14.00\">48 : numerical</text>\n<text text-anchor=\"start\" x=\"8\" y=\"-21758.3\" font-family=\"Times,serif\" font-size=\"14.00\">49 : numerical</text>\n<text text-anchor=\"start\" x=\"8\" y=\"-21743.3\" font-family=\"Times,serif\" font-size=\"14.00\">50 : numerical</text>\n<text text-anchor=\"start\" x=\"8\" y=\"-21728.3\" font-family=\"Times,serif\" font-size=\"14.00\">51 : numerical</text>\n<text text-anchor=\"start\" x=\"8\" y=\"-21713.3\" font-family=\"Times,serif\" font-size=\"14.00\">52 : numerical</text>\n<text text-anchor=\"start\" x=\"8\" y=\"-21698.3\" font-family=\"Times,serif\" font-size=\"14.00\">53 : numerical</text>\n<text text-anchor=\"start\" x=\"8\" y=\"-21683.3\" font-family=\"Times,serif\" font-size=\"14.00\">54 : numerical</text>\n<text text-anchor=\"start\" x=\"8\" y=\"-21668.3\" font-family=\"Times,serif\" font-size=\"14.00\">55 : numerical</text>\n<text text-anchor=\"start\" x=\"8\" y=\"-21653.3\" font-family=\"Times,serif\" font-size=\"14.00\">56 : numerical</text>\n<text text-anchor=\"start\" x=\"8\" y=\"-21638.3\" font-family=\"Times,serif\" font-size=\"14.00\">57 : numerical</text>\n<text text-anchor=\"start\" x=\"8\" y=\"-21623.3\" font-family=\"Times,serif\" font-size=\"14.00\">58 : numerical</text>\n<text text-anchor=\"start\" x=\"8\" y=\"-21608.3\" font-family=\"Times,serif\" font-size=\"14.00\">59 : numerical</text>\n<text text-anchor=\"start\" x=\"8\" y=\"-21593.3\" font-family=\"Times,serif\" font-size=\"14.00\">60 : numerical</text>\n<text text-anchor=\"start\" x=\"8\" y=\"-21578.3\" font-family=\"Times,serif\" font-size=\"14.00\">61 : numerical</text>\n<text text-anchor=\"start\" x=\"8\" y=\"-21563.3\" font-family=\"Times,serif\" font-size=\"14.00\">62 : numerical</text>\n<text text-anchor=\"start\" x=\"8\" y=\"-21548.3\" font-family=\"Times,serif\" font-size=\"14.00\">63 : numerical</text>\n<text text-anchor=\"start\" x=\"8\" y=\"-21533.3\" font-family=\"Times,serif\" font-size=\"14.00\">64 : numerical</text>\n<text text-anchor=\"start\" x=\"8\" y=\"-21518.3\" font-family=\"Times,serif\" font-size=\"14.00\">65 : numerical</text>\n<text text-anchor=\"start\" x=\"8\" y=\"-21503.3\" font-family=\"Times,serif\" font-size=\"14.00\">66 : numerical</text>\n<text text-anchor=\"start\" x=\"8\" y=\"-21488.3\" font-family=\"Times,serif\" font-size=\"14.00\">67 : numerical</text>\n<text text-anchor=\"start\" x=\"8\" y=\"-21473.3\" font-family=\"Times,serif\" font-size=\"14.00\">68 : numerical</text>\n<text text-anchor=\"start\" x=\"8\" y=\"-21458.3\" font-family=\"Times,serif\" font-size=\"14.00\">69 : numerical</text>\n<text text-anchor=\"start\" x=\"8\" y=\"-21443.3\" font-family=\"Times,serif\" font-size=\"14.00\">70 : numerical</text>\n<text text-anchor=\"start\" x=\"8\" y=\"-21428.3\" font-family=\"Times,serif\" font-size=\"14.00\">71 : numerical</text>\n<text text-anchor=\"start\" x=\"8\" y=\"-21413.3\" font-family=\"Times,serif\" font-size=\"14.00\">72 : numerical</text>\n<text text-anchor=\"start\" x=\"8\" y=\"-21398.3\" font-family=\"Times,serif\" font-size=\"14.00\">73 : numerical</text>\n<text text-anchor=\"start\" x=\"8\" y=\"-21383.3\" font-family=\"Times,serif\" font-size=\"14.00\">74 : numerical</text>\n<text text-anchor=\"start\" x=\"8\" y=\"-21368.3\" font-family=\"Times,serif\" font-size=\"14.00\">75 : numerical</text>\n<text text-anchor=\"start\" x=\"8\" y=\"-21353.3\" font-family=\"Times,serif\" font-size=\"14.00\">76 : numerical</text>\n<text text-anchor=\"start\" x=\"8\" y=\"-21338.3\" font-family=\"Times,serif\" font-size=\"14.00\">77 : numerical</text>\n<text text-anchor=\"start\" x=\"8\" y=\"-21323.3\" font-family=\"Times,serif\" font-size=\"14.00\">78 : numerical</text>\n<text text-anchor=\"start\" x=\"8\" y=\"-21308.3\" font-family=\"Times,serif\" font-size=\"14.00\">79 : numerical</text>\n<text text-anchor=\"start\" x=\"8\" y=\"-21293.3\" font-family=\"Times,serif\" font-size=\"14.00\">80 : numerical</text>\n<text text-anchor=\"start\" x=\"8\" y=\"-21278.3\" font-family=\"Times,serif\" font-size=\"14.00\">81 : numerical</text>\n<text text-anchor=\"start\" x=\"8\" y=\"-21263.3\" font-family=\"Times,serif\" font-size=\"14.00\">82 : numerical</text>\n<text text-anchor=\"start\" x=\"8\" y=\"-21248.3\" font-family=\"Times,serif\" font-size=\"14.00\">83 : numerical</text>\n<text text-anchor=\"start\" x=\"8\" y=\"-21233.3\" font-family=\"Times,serif\" font-size=\"14.00\">84 : numerical</text>\n<text text-anchor=\"start\" x=\"8\" y=\"-21218.3\" font-family=\"Times,serif\" font-size=\"14.00\">85 : numerical</text>\n<text text-anchor=\"start\" x=\"8\" y=\"-21203.3\" font-family=\"Times,serif\" font-size=\"14.00\">86 : numerical</text>\n<text text-anchor=\"start\" x=\"8\" y=\"-21188.3\" font-family=\"Times,serif\" font-size=\"14.00\">87 : numerical</text>\n<text text-anchor=\"start\" x=\"8\" y=\"-21173.3\" font-family=\"Times,serif\" font-size=\"14.00\">88 : numerical</text>\n<text text-anchor=\"start\" x=\"8\" y=\"-21158.3\" font-family=\"Times,serif\" font-size=\"14.00\">89 : numerical</text>\n<text text-anchor=\"start\" x=\"8\" y=\"-21143.3\" font-family=\"Times,serif\" font-size=\"14.00\">90 : numerical</text>\n<text text-anchor=\"start\" x=\"8\" y=\"-21128.3\" font-family=\"Times,serif\" font-size=\"14.00\">91 : numerical</text>\n<text text-anchor=\"start\" x=\"8\" y=\"-21113.3\" font-family=\"Times,serif\" font-size=\"14.00\">92 : numerical</text>\n<text text-anchor=\"start\" x=\"8\" y=\"-21098.3\" font-family=\"Times,serif\" font-size=\"14.00\">93 : numerical</text>\n<text text-anchor=\"start\" x=\"8\" y=\"-21083.3\" font-family=\"Times,serif\" font-size=\"14.00\">94 : numerical</text>\n<text text-anchor=\"start\" x=\"8\" y=\"-21068.3\" font-family=\"Times,serif\" font-size=\"14.00\">95 : numerical</text>\n<text text-anchor=\"start\" x=\"8\" y=\"-21053.3\" font-family=\"Times,serif\" font-size=\"14.00\">96 : numerical</text>\n<text text-anchor=\"start\" x=\"8\" y=\"-21038.3\" font-family=\"Times,serif\" font-size=\"14.00\">97 : numerical</text>\n<text text-anchor=\"start\" x=\"8\" y=\"-21023.3\" font-family=\"Times,serif\" font-size=\"14.00\">98 : numerical</text>\n<text text-anchor=\"start\" x=\"8\" y=\"-21008.3\" font-family=\"Times,serif\" font-size=\"14.00\">99 : numerical</text>\n<text text-anchor=\"start\" x=\"8\" y=\"-20993.3\" font-family=\"Times,serif\" font-size=\"14.00\">100 : numerical</text>\n<text text-anchor=\"start\" x=\"8\" y=\"-20978.3\" font-family=\"Times,serif\" font-size=\"14.00\">101 : numerical</text>\n<text text-anchor=\"start\" x=\"8\" y=\"-20963.3\" font-family=\"Times,serif\" font-size=\"14.00\">102 : numerical</text>\n<text text-anchor=\"start\" x=\"8\" y=\"-20948.3\" font-family=\"Times,serif\" font-size=\"14.00\">103 : numerical</text>\n<text text-anchor=\"start\" x=\"8\" y=\"-20933.3\" font-family=\"Times,serif\" font-size=\"14.00\">104 : numerical</text>\n<text text-anchor=\"start\" x=\"8\" y=\"-20918.3\" font-family=\"Times,serif\" font-size=\"14.00\">105 : numerical</text>\n<text text-anchor=\"start\" x=\"8\" y=\"-20903.3\" font-family=\"Times,serif\" font-size=\"14.00\">106 : numerical</text>\n<text text-anchor=\"start\" x=\"8\" y=\"-20888.3\" font-family=\"Times,serif\" font-size=\"14.00\">107 : numerical</text>\n<text text-anchor=\"start\" x=\"8\" y=\"-20873.3\" font-family=\"Times,serif\" font-size=\"14.00\">108 : numerical</text>\n<text text-anchor=\"start\" x=\"8\" y=\"-20858.3\" font-family=\"Times,serif\" font-size=\"14.00\">109 : numerical</text>\n<text text-anchor=\"start\" x=\"8\" y=\"-20843.3\" font-family=\"Times,serif\" font-size=\"14.00\">110 : numerical</text>\n<text text-anchor=\"start\" x=\"8\" y=\"-20828.3\" font-family=\"Times,serif\" font-size=\"14.00\">111 : numerical</text>\n<text text-anchor=\"start\" x=\"8\" y=\"-20813.3\" font-family=\"Times,serif\" font-size=\"14.00\">112 : numerical</text>\n<text text-anchor=\"start\" x=\"8\" y=\"-20798.3\" font-family=\"Times,serif\" font-size=\"14.00\">113 : numerical</text>\n<text text-anchor=\"start\" x=\"8\" y=\"-20783.3\" font-family=\"Times,serif\" font-size=\"14.00\">114 : numerical</text>\n<text text-anchor=\"start\" x=\"8\" y=\"-20768.3\" font-family=\"Times,serif\" font-size=\"14.00\">115 : numerical</text>\n<text text-anchor=\"start\" x=\"8\" y=\"-20753.3\" font-family=\"Times,serif\" font-size=\"14.00\">116 : numerical</text>\n<text text-anchor=\"start\" x=\"8\" y=\"-20738.3\" font-family=\"Times,serif\" font-size=\"14.00\">117 : numerical</text>\n<text text-anchor=\"start\" x=\"8\" y=\"-20723.3\" font-family=\"Times,serif\" font-size=\"14.00\">118 : numerical</text>\n<text text-anchor=\"start\" x=\"8\" y=\"-20708.3\" font-family=\"Times,serif\" font-size=\"14.00\">119 : numerical</text>\n<text text-anchor=\"start\" x=\"8\" y=\"-20693.3\" font-family=\"Times,serif\" font-size=\"14.00\">120 : numerical</text>\n<text text-anchor=\"start\" x=\"8\" y=\"-20678.3\" font-family=\"Times,serif\" font-size=\"14.00\">121 : numerical</text>\n<text text-anchor=\"start\" x=\"8\" y=\"-20663.3\" font-family=\"Times,serif\" font-size=\"14.00\">122 : numerical</text>\n<text text-anchor=\"start\" x=\"8\" y=\"-20648.3\" font-family=\"Times,serif\" font-size=\"14.00\">123 : numerical</text>\n<text text-anchor=\"start\" x=\"8\" y=\"-20633.3\" font-family=\"Times,serif\" font-size=\"14.00\">124 : numerical</text>\n<text text-anchor=\"start\" x=\"8\" y=\"-20618.3\" font-family=\"Times,serif\" font-size=\"14.00\">125 : numerical</text>\n<text text-anchor=\"start\" x=\"8\" y=\"-20603.3\" font-family=\"Times,serif\" font-size=\"14.00\">126 : numerical</text>\n<text text-anchor=\"start\" x=\"8\" y=\"-20588.3\" font-family=\"Times,serif\" font-size=\"14.00\">127 : numerical</text>\n<text text-anchor=\"start\" x=\"8\" y=\"-20573.3\" font-family=\"Times,serif\" font-size=\"14.00\">128 : numerical</text>\n<text text-anchor=\"start\" x=\"8\" y=\"-20558.3\" font-family=\"Times,serif\" font-size=\"14.00\">129 : numerical</text>\n<text text-anchor=\"start\" x=\"8\" y=\"-20543.3\" font-family=\"Times,serif\" font-size=\"14.00\">130 : numerical</text>\n<text text-anchor=\"start\" x=\"8\" y=\"-20528.3\" font-family=\"Times,serif\" font-size=\"14.00\">131 : numerical</text>\n<text text-anchor=\"start\" x=\"8\" y=\"-20513.3\" font-family=\"Times,serif\" font-size=\"14.00\">132 : numerical</text>\n<text text-anchor=\"start\" x=\"8\" y=\"-20498.3\" font-family=\"Times,serif\" font-size=\"14.00\">133 : numerical</text>\n<text text-anchor=\"start\" x=\"8\" y=\"-20483.3\" font-family=\"Times,serif\" font-size=\"14.00\">134 : numerical</text>\n<text text-anchor=\"start\" x=\"8\" y=\"-20468.3\" font-family=\"Times,serif\" font-size=\"14.00\">135 : numerical</text>\n<text text-anchor=\"start\" x=\"8\" y=\"-20453.3\" font-family=\"Times,serif\" font-size=\"14.00\">136 : numerical</text>\n<text text-anchor=\"start\" x=\"8\" y=\"-20438.3\" font-family=\"Times,serif\" font-size=\"14.00\">137 : numerical</text>\n<text text-anchor=\"start\" x=\"8\" y=\"-20423.3\" font-family=\"Times,serif\" font-size=\"14.00\">138 : numerical</text>\n<text text-anchor=\"start\" x=\"8\" y=\"-20408.3\" font-family=\"Times,serif\" font-size=\"14.00\">139 : numerical</text>\n<text text-anchor=\"start\" x=\"8\" y=\"-20393.3\" font-family=\"Times,serif\" font-size=\"14.00\">140 : numerical</text>\n<text text-anchor=\"start\" x=\"8\" y=\"-20378.3\" font-family=\"Times,serif\" font-size=\"14.00\">141 : numerical</text>\n<text text-anchor=\"start\" x=\"8\" y=\"-20363.3\" font-family=\"Times,serif\" font-size=\"14.00\">142 : numerical</text>\n<text text-anchor=\"start\" x=\"8\" y=\"-20348.3\" font-family=\"Times,serif\" font-size=\"14.00\">143 : numerical</text>\n<text text-anchor=\"start\" x=\"8\" y=\"-20333.3\" font-family=\"Times,serif\" font-size=\"14.00\">144 : numerical</text>\n<text text-anchor=\"start\" x=\"8\" y=\"-20318.3\" font-family=\"Times,serif\" font-size=\"14.00\">145 : numerical</text>\n<text text-anchor=\"start\" x=\"8\" y=\"-20303.3\" font-family=\"Times,serif\" font-size=\"14.00\">146 : numerical</text>\n<text text-anchor=\"start\" x=\"8\" y=\"-20288.3\" font-family=\"Times,serif\" font-size=\"14.00\">147 : numerical</text>\n<text text-anchor=\"start\" x=\"8\" y=\"-20273.3\" font-family=\"Times,serif\" font-size=\"14.00\">148 : numerical</text>\n<text text-anchor=\"start\" x=\"8\" y=\"-20258.3\" font-family=\"Times,serif\" font-size=\"14.00\">149 : numerical</text>\n<text text-anchor=\"start\" x=\"8\" y=\"-20243.3\" font-family=\"Times,serif\" font-size=\"14.00\">150 : numerical</text>\n<text text-anchor=\"start\" x=\"8\" y=\"-20228.3\" font-family=\"Times,serif\" font-size=\"14.00\">151 : numerical</text>\n<text text-anchor=\"start\" x=\"8\" y=\"-20213.3\" font-family=\"Times,serif\" font-size=\"14.00\">152 : numerical</text>\n<text text-anchor=\"start\" x=\"8\" y=\"-20198.3\" font-family=\"Times,serif\" font-size=\"14.00\">153 : numerical</text>\n<text text-anchor=\"start\" x=\"8\" y=\"-20183.3\" font-family=\"Times,serif\" font-size=\"14.00\">154 : numerical</text>\n<text text-anchor=\"start\" x=\"8\" y=\"-20168.3\" font-family=\"Times,serif\" font-size=\"14.00\">155 : numerical</text>\n<text text-anchor=\"start\" x=\"8\" y=\"-20153.3\" font-family=\"Times,serif\" font-size=\"14.00\">156 : numerical</text>\n<text text-anchor=\"start\" x=\"8\" y=\"-20138.3\" font-family=\"Times,serif\" font-size=\"14.00\">157 : numerical</text>\n<text text-anchor=\"start\" x=\"8\" y=\"-20123.3\" font-family=\"Times,serif\" font-size=\"14.00\">158 : numerical</text>\n<text text-anchor=\"start\" x=\"8\" y=\"-20108.3\" font-family=\"Times,serif\" font-size=\"14.00\">159 : numerical</text>\n<text text-anchor=\"start\" x=\"8\" y=\"-20093.3\" font-family=\"Times,serif\" font-size=\"14.00\">160 : numerical</text>\n<text text-anchor=\"start\" x=\"8\" y=\"-20078.3\" font-family=\"Times,serif\" font-size=\"14.00\">161 : numerical</text>\n<text text-anchor=\"start\" x=\"8\" y=\"-20063.3\" font-family=\"Times,serif\" font-size=\"14.00\">162 : numerical</text>\n<text text-anchor=\"start\" x=\"8\" y=\"-20048.3\" font-family=\"Times,serif\" font-size=\"14.00\">163 : numerical</text>\n<text text-anchor=\"start\" x=\"8\" y=\"-20033.3\" font-family=\"Times,serif\" font-size=\"14.00\">164 : numerical</text>\n<text text-anchor=\"start\" x=\"8\" y=\"-20018.3\" font-family=\"Times,serif\" font-size=\"14.00\">165 : numerical</text>\n<text text-anchor=\"start\" x=\"8\" y=\"-20003.3\" font-family=\"Times,serif\" font-size=\"14.00\">166 : numerical</text>\n<text text-anchor=\"start\" x=\"8\" y=\"-19988.3\" font-family=\"Times,serif\" font-size=\"14.00\">167 : numerical</text>\n<text text-anchor=\"start\" x=\"8\" y=\"-19973.3\" font-family=\"Times,serif\" font-size=\"14.00\">168 : numerical</text>\n<text text-anchor=\"start\" x=\"8\" y=\"-19958.3\" font-family=\"Times,serif\" font-size=\"14.00\">169 : numerical</text>\n<text text-anchor=\"start\" x=\"8\" y=\"-19943.3\" font-family=\"Times,serif\" font-size=\"14.00\">170 : numerical</text>\n<text text-anchor=\"start\" x=\"8\" y=\"-19928.3\" font-family=\"Times,serif\" font-size=\"14.00\">171 : numerical</text>\n<text text-anchor=\"start\" x=\"8\" y=\"-19913.3\" font-family=\"Times,serif\" font-size=\"14.00\">172 : numerical</text>\n<text text-anchor=\"start\" x=\"8\" y=\"-19898.3\" font-family=\"Times,serif\" font-size=\"14.00\">173 : numerical</text>\n<text text-anchor=\"start\" x=\"8\" y=\"-19883.3\" font-family=\"Times,serif\" font-size=\"14.00\">174 : numerical</text>\n<text text-anchor=\"start\" x=\"8\" y=\"-19868.3\" font-family=\"Times,serif\" font-size=\"14.00\">175 : numerical</text>\n<text text-anchor=\"start\" x=\"8\" y=\"-19853.3\" font-family=\"Times,serif\" font-size=\"14.00\">176 : numerical</text>\n<text text-anchor=\"start\" x=\"8\" y=\"-19838.3\" font-family=\"Times,serif\" font-size=\"14.00\">177 : numerical</text>\n<text text-anchor=\"start\" x=\"8\" y=\"-19823.3\" font-family=\"Times,serif\" font-size=\"14.00\">178 : numerical</text>\n<text text-anchor=\"start\" x=\"8\" y=\"-19808.3\" font-family=\"Times,serif\" font-size=\"14.00\">179 : numerical</text>\n<text text-anchor=\"start\" x=\"8\" y=\"-19793.3\" font-family=\"Times,serif\" font-size=\"14.00\">180 : numerical</text>\n<text text-anchor=\"start\" x=\"8\" y=\"-19778.3\" font-family=\"Times,serif\" font-size=\"14.00\">181 : numerical</text>\n<text text-anchor=\"start\" x=\"8\" y=\"-19763.3\" font-family=\"Times,serif\" font-size=\"14.00\">182 : numerical</text>\n<text text-anchor=\"start\" x=\"8\" y=\"-19748.3\" font-family=\"Times,serif\" font-size=\"14.00\">183 : numerical</text>\n<text text-anchor=\"start\" x=\"8\" y=\"-19733.3\" font-family=\"Times,serif\" font-size=\"14.00\">184 : numerical</text>\n<text text-anchor=\"start\" x=\"8\" y=\"-19718.3\" font-family=\"Times,serif\" font-size=\"14.00\">185 : numerical</text>\n<text text-anchor=\"start\" x=\"8\" y=\"-19703.3\" font-family=\"Times,serif\" font-size=\"14.00\">186 : numerical</text>\n<text text-anchor=\"start\" x=\"8\" y=\"-19688.3\" font-family=\"Times,serif\" font-size=\"14.00\">187 : numerical</text>\n<text text-anchor=\"start\" x=\"8\" y=\"-19673.3\" font-family=\"Times,serif\" font-size=\"14.00\">188 : numerical</text>\n<text text-anchor=\"start\" x=\"8\" y=\"-19658.3\" font-family=\"Times,serif\" font-size=\"14.00\">189 : numerical</text>\n<text text-anchor=\"start\" x=\"8\" y=\"-19643.3\" font-family=\"Times,serif\" font-size=\"14.00\">190 : numerical</text>\n<text text-anchor=\"start\" x=\"8\" y=\"-19628.3\" font-family=\"Times,serif\" font-size=\"14.00\">191 : numerical</text>\n<text text-anchor=\"start\" x=\"8\" y=\"-19613.3\" font-family=\"Times,serif\" font-size=\"14.00\">192 : numerical</text>\n<text text-anchor=\"start\" x=\"8\" y=\"-19598.3\" font-family=\"Times,serif\" font-size=\"14.00\">193 : numerical</text>\n<text text-anchor=\"start\" x=\"8\" y=\"-19583.3\" font-family=\"Times,serif\" font-size=\"14.00\">194 : numerical</text>\n<text text-anchor=\"start\" x=\"8\" y=\"-19568.3\" font-family=\"Times,serif\" font-size=\"14.00\">195 : numerical</text>\n<text text-anchor=\"start\" x=\"8\" y=\"-19553.3\" font-family=\"Times,serif\" font-size=\"14.00\">196 : numerical</text>\n<text text-anchor=\"start\" x=\"8\" y=\"-19538.3\" font-family=\"Times,serif\" font-size=\"14.00\">197 : numerical</text>\n<text text-anchor=\"start\" x=\"8\" y=\"-19523.3\" font-family=\"Times,serif\" font-size=\"14.00\">198 : numerical</text>\n<text text-anchor=\"start\" x=\"8\" y=\"-19508.3\" font-family=\"Times,serif\" font-size=\"14.00\">199 : numerical</text>\n<text text-anchor=\"start\" x=\"8\" y=\"-19493.3\" font-family=\"Times,serif\" font-size=\"14.00\">200 : numerical</text>\n<text text-anchor=\"start\" x=\"8\" y=\"-19478.3\" font-family=\"Times,serif\" font-size=\"14.00\">201 : numerical</text>\n<text text-anchor=\"start\" x=\"8\" y=\"-19463.3\" font-family=\"Times,serif\" font-size=\"14.00\">202 : numerical</text>\n<text text-anchor=\"start\" x=\"8\" y=\"-19448.3\" font-family=\"Times,serif\" font-size=\"14.00\">203 : numerical</text>\n<text text-anchor=\"start\" x=\"8\" y=\"-19433.3\" font-family=\"Times,serif\" font-size=\"14.00\">204 : numerical</text>\n<text text-anchor=\"start\" x=\"8\" y=\"-19418.3\" font-family=\"Times,serif\" font-size=\"14.00\">205 : numerical</text>\n<text text-anchor=\"start\" x=\"8\" y=\"-19403.3\" font-family=\"Times,serif\" font-size=\"14.00\">206 : numerical</text>\n<text text-anchor=\"start\" x=\"8\" y=\"-19388.3\" font-family=\"Times,serif\" font-size=\"14.00\">207 : numerical</text>\n<text text-anchor=\"start\" x=\"8\" y=\"-19373.3\" font-family=\"Times,serif\" font-size=\"14.00\">208 : numerical</text>\n<text text-anchor=\"start\" x=\"8\" y=\"-19358.3\" font-family=\"Times,serif\" font-size=\"14.00\">209 : numerical</text>\n<text text-anchor=\"start\" x=\"8\" y=\"-19343.3\" font-family=\"Times,serif\" font-size=\"14.00\">210 : numerical</text>\n<text text-anchor=\"start\" x=\"8\" y=\"-19328.3\" font-family=\"Times,serif\" font-size=\"14.00\">211 : numerical</text>\n<text text-anchor=\"start\" x=\"8\" y=\"-19313.3\" font-family=\"Times,serif\" font-size=\"14.00\">212 : numerical</text>\n<text text-anchor=\"start\" x=\"8\" y=\"-19298.3\" font-family=\"Times,serif\" font-size=\"14.00\">213 : numerical</text>\n<text text-anchor=\"start\" x=\"8\" y=\"-19283.3\" font-family=\"Times,serif\" font-size=\"14.00\">214 : numerical</text>\n<text text-anchor=\"start\" x=\"8\" y=\"-19268.3\" font-family=\"Times,serif\" font-size=\"14.00\">215 : numerical</text>\n<text text-anchor=\"start\" x=\"8\" y=\"-19253.3\" font-family=\"Times,serif\" font-size=\"14.00\">216 : numerical</text>\n<text text-anchor=\"start\" x=\"8\" y=\"-19238.3\" font-family=\"Times,serif\" font-size=\"14.00\">217 : numerical</text>\n<text text-anchor=\"start\" x=\"8\" y=\"-19223.3\" font-family=\"Times,serif\" font-size=\"14.00\">218 : numerical</text>\n<text text-anchor=\"start\" x=\"8\" y=\"-19208.3\" font-family=\"Times,serif\" font-size=\"14.00\">219 : numerical</text>\n<text text-anchor=\"start\" x=\"8\" y=\"-19193.3\" font-family=\"Times,serif\" font-size=\"14.00\">220 : numerical</text>\n<text text-anchor=\"start\" x=\"8\" y=\"-19178.3\" font-family=\"Times,serif\" font-size=\"14.00\">221 : numerical</text>\n<text text-anchor=\"start\" x=\"8\" y=\"-19163.3\" font-family=\"Times,serif\" font-size=\"14.00\">222 : numerical</text>\n<text text-anchor=\"start\" x=\"8\" y=\"-19148.3\" font-family=\"Times,serif\" font-size=\"14.00\">223 : numerical</text>\n<text text-anchor=\"start\" x=\"8\" y=\"-19133.3\" font-family=\"Times,serif\" font-size=\"14.00\">224 : numerical</text>\n<text text-anchor=\"start\" x=\"8\" y=\"-19118.3\" font-family=\"Times,serif\" font-size=\"14.00\">225 : numerical</text>\n<text text-anchor=\"start\" x=\"8\" y=\"-19103.3\" font-family=\"Times,serif\" font-size=\"14.00\">226 : numerical</text>\n<text text-anchor=\"start\" x=\"8\" y=\"-19088.3\" font-family=\"Times,serif\" font-size=\"14.00\">227 : numerical</text>\n<text text-anchor=\"start\" x=\"8\" y=\"-19073.3\" font-family=\"Times,serif\" font-size=\"14.00\">228 : numerical</text>\n<text text-anchor=\"start\" x=\"8\" y=\"-19058.3\" font-family=\"Times,serif\" font-size=\"14.00\">229 : numerical</text>\n<text text-anchor=\"start\" x=\"8\" y=\"-19043.3\" font-family=\"Times,serif\" font-size=\"14.00\">230 : numerical</text>\n<text text-anchor=\"start\" x=\"8\" y=\"-19028.3\" font-family=\"Times,serif\" font-size=\"14.00\">231 : numerical</text>\n<text text-anchor=\"start\" x=\"8\" y=\"-19013.3\" font-family=\"Times,serif\" font-size=\"14.00\">232 : numerical</text>\n<text text-anchor=\"start\" x=\"8\" y=\"-18998.3\" font-family=\"Times,serif\" font-size=\"14.00\">233 : numerical</text>\n<text text-anchor=\"start\" x=\"8\" y=\"-18983.3\" font-family=\"Times,serif\" font-size=\"14.00\">234 : numerical</text>\n<text text-anchor=\"start\" x=\"8\" y=\"-18968.3\" font-family=\"Times,serif\" font-size=\"14.00\">235 : numerical</text>\n<text text-anchor=\"start\" x=\"8\" y=\"-18953.3\" font-family=\"Times,serif\" font-size=\"14.00\">236 : numerical</text>\n<text text-anchor=\"start\" x=\"8\" y=\"-18938.3\" font-family=\"Times,serif\" font-size=\"14.00\">237 : numerical</text>\n<text text-anchor=\"start\" x=\"8\" y=\"-18923.3\" font-family=\"Times,serif\" font-size=\"14.00\">238 : numerical</text>\n<text text-anchor=\"start\" x=\"8\" y=\"-18908.3\" font-family=\"Times,serif\" font-size=\"14.00\">239 : numerical</text>\n<text text-anchor=\"start\" x=\"8\" y=\"-18893.3\" font-family=\"Times,serif\" font-size=\"14.00\">240 : numerical</text>\n<text text-anchor=\"start\" x=\"8\" y=\"-18878.3\" font-family=\"Times,serif\" font-size=\"14.00\">241 : numerical</text>\n<text text-anchor=\"start\" x=\"8\" y=\"-18863.3\" font-family=\"Times,serif\" font-size=\"14.00\">242 : numerical</text>\n<text text-anchor=\"start\" x=\"8\" y=\"-18848.3\" font-family=\"Times,serif\" font-size=\"14.00\">243 : numerical</text>\n<text text-anchor=\"start\" x=\"8\" y=\"-18833.3\" font-family=\"Times,serif\" font-size=\"14.00\">244 : numerical</text>\n<text text-anchor=\"start\" x=\"8\" y=\"-18818.3\" font-family=\"Times,serif\" font-size=\"14.00\">245 : numerical</text>\n<text text-anchor=\"start\" x=\"8\" y=\"-18803.3\" font-family=\"Times,serif\" font-size=\"14.00\">246 : numerical</text>\n<text text-anchor=\"start\" x=\"8\" y=\"-18788.3\" font-family=\"Times,serif\" font-size=\"14.00\">247 : numerical</text>\n<text text-anchor=\"start\" x=\"8\" y=\"-18773.3\" font-family=\"Times,serif\" font-size=\"14.00\">248 : numerical</text>\n<text text-anchor=\"start\" x=\"8\" y=\"-18758.3\" font-family=\"Times,serif\" font-size=\"14.00\">249 : numerical</text>\n<text text-anchor=\"start\" x=\"8\" y=\"-18743.3\" font-family=\"Times,serif\" font-size=\"14.00\">250 : numerical</text>\n<text text-anchor=\"start\" x=\"8\" y=\"-18728.3\" font-family=\"Times,serif\" font-size=\"14.00\">251 : numerical</text>\n<text text-anchor=\"start\" x=\"8\" y=\"-18713.3\" font-family=\"Times,serif\" font-size=\"14.00\">252 : numerical</text>\n<text text-anchor=\"start\" x=\"8\" y=\"-18698.3\" font-family=\"Times,serif\" font-size=\"14.00\">253 : numerical</text>\n<text text-anchor=\"start\" x=\"8\" y=\"-18683.3\" font-family=\"Times,serif\" font-size=\"14.00\">254 : numerical</text>\n<text text-anchor=\"start\" x=\"8\" y=\"-18668.3\" font-family=\"Times,serif\" font-size=\"14.00\">255 : numerical</text>\n<text text-anchor=\"start\" x=\"8\" y=\"-18653.3\" font-family=\"Times,serif\" font-size=\"14.00\">256 : numerical</text>\n<text text-anchor=\"start\" x=\"8\" y=\"-18638.3\" font-family=\"Times,serif\" font-size=\"14.00\">257 : numerical</text>\n<text text-anchor=\"start\" x=\"8\" y=\"-18623.3\" font-family=\"Times,serif\" font-size=\"14.00\">258 : numerical</text>\n<text text-anchor=\"start\" x=\"8\" y=\"-18608.3\" font-family=\"Times,serif\" font-size=\"14.00\">259 : numerical</text>\n<text text-anchor=\"start\" x=\"8\" y=\"-18593.3\" font-family=\"Times,serif\" font-size=\"14.00\">260 : numerical</text>\n<text text-anchor=\"start\" x=\"8\" y=\"-18578.3\" font-family=\"Times,serif\" font-size=\"14.00\">261 : numerical</text>\n<text text-anchor=\"start\" x=\"8\" y=\"-18563.3\" font-family=\"Times,serif\" font-size=\"14.00\">262 : numerical</text>\n<text text-anchor=\"start\" x=\"8\" y=\"-18548.3\" font-family=\"Times,serif\" font-size=\"14.00\">263 : numerical</text>\n<text text-anchor=\"start\" x=\"8\" y=\"-18533.3\" font-family=\"Times,serif\" font-size=\"14.00\">264 : numerical</text>\n<text text-anchor=\"start\" x=\"8\" y=\"-18518.3\" font-family=\"Times,serif\" font-size=\"14.00\">265 : numerical</text>\n<text text-anchor=\"start\" x=\"8\" y=\"-18503.3\" font-family=\"Times,serif\" font-size=\"14.00\">266 : numerical</text>\n<text text-anchor=\"start\" x=\"8\" y=\"-18488.3\" font-family=\"Times,serif\" font-size=\"14.00\">267 : numerical</text>\n<text text-anchor=\"start\" x=\"8\" y=\"-18473.3\" font-family=\"Times,serif\" font-size=\"14.00\">268 : numerical</text>\n<text text-anchor=\"start\" x=\"8\" y=\"-18458.3\" font-family=\"Times,serif\" font-size=\"14.00\">269 : numerical</text>\n<text text-anchor=\"start\" x=\"8\" y=\"-18443.3\" font-family=\"Times,serif\" font-size=\"14.00\">270 : numerical</text>\n<text text-anchor=\"start\" x=\"8\" y=\"-18428.3\" font-family=\"Times,serif\" font-size=\"14.00\">271 : numerical</text>\n<text text-anchor=\"start\" x=\"8\" y=\"-18413.3\" font-family=\"Times,serif\" font-size=\"14.00\">272 : numerical</text>\n<text text-anchor=\"start\" x=\"8\" y=\"-18398.3\" font-family=\"Times,serif\" font-size=\"14.00\">273 : numerical</text>\n<text text-anchor=\"start\" x=\"8\" y=\"-18383.3\" font-family=\"Times,serif\" font-size=\"14.00\">274 : numerical</text>\n<text text-anchor=\"start\" x=\"8\" y=\"-18368.3\" font-family=\"Times,serif\" font-size=\"14.00\">275 : numerical</text>\n<text text-anchor=\"start\" x=\"8\" y=\"-18353.3\" font-family=\"Times,serif\" font-size=\"14.00\">276 : numerical</text>\n<text text-anchor=\"start\" x=\"8\" y=\"-18338.3\" font-family=\"Times,serif\" font-size=\"14.00\">277 : numerical</text>\n<text text-anchor=\"start\" x=\"8\" y=\"-18323.3\" font-family=\"Times,serif\" font-size=\"14.00\">278 : numerical</text>\n<text text-anchor=\"start\" x=\"8\" y=\"-18308.3\" font-family=\"Times,serif\" font-size=\"14.00\">279 : numerical</text>\n<text text-anchor=\"start\" x=\"8\" y=\"-18293.3\" font-family=\"Times,serif\" font-size=\"14.00\">280 : numerical</text>\n<text text-anchor=\"start\" x=\"8\" y=\"-18278.3\" font-family=\"Times,serif\" font-size=\"14.00\">281 : numerical</text>\n<text text-anchor=\"start\" x=\"8\" y=\"-18263.3\" font-family=\"Times,serif\" font-size=\"14.00\">282 : numerical</text>\n<text text-anchor=\"start\" x=\"8\" y=\"-18248.3\" font-family=\"Times,serif\" font-size=\"14.00\">283 : numerical</text>\n<text text-anchor=\"start\" x=\"8\" y=\"-18233.3\" font-family=\"Times,serif\" font-size=\"14.00\">284 : numerical</text>\n<text text-anchor=\"start\" x=\"8\" y=\"-18218.3\" font-family=\"Times,serif\" font-size=\"14.00\">285 : numerical</text>\n<text text-anchor=\"start\" x=\"8\" y=\"-18203.3\" font-family=\"Times,serif\" font-size=\"14.00\">286 : numerical</text>\n<text text-anchor=\"start\" x=\"8\" y=\"-18188.3\" font-family=\"Times,serif\" font-size=\"14.00\">287 : numerical</text>\n<text text-anchor=\"start\" x=\"8\" y=\"-18173.3\" font-family=\"Times,serif\" font-size=\"14.00\">288 : numerical</text>\n<text text-anchor=\"start\" x=\"8\" y=\"-18158.3\" font-family=\"Times,serif\" font-size=\"14.00\">289 : numerical</text>\n<text text-anchor=\"start\" x=\"8\" y=\"-18143.3\" font-family=\"Times,serif\" font-size=\"14.00\">290 : numerical</text>\n<text text-anchor=\"start\" x=\"8\" y=\"-18128.3\" font-family=\"Times,serif\" font-size=\"14.00\">291 : numerical</text>\n<text text-anchor=\"start\" x=\"8\" y=\"-18113.3\" font-family=\"Times,serif\" font-size=\"14.00\">292 : numerical</text>\n<text text-anchor=\"start\" x=\"8\" y=\"-18098.3\" font-family=\"Times,serif\" font-size=\"14.00\">293 : numerical</text>\n<text text-anchor=\"start\" x=\"8\" y=\"-18083.3\" font-family=\"Times,serif\" font-size=\"14.00\">294 : numerical</text>\n<text text-anchor=\"start\" x=\"8\" y=\"-18068.3\" font-family=\"Times,serif\" font-size=\"14.00\">295 : numerical</text>\n<text text-anchor=\"start\" x=\"8\" y=\"-18053.3\" font-family=\"Times,serif\" font-size=\"14.00\">296 : numerical</text>\n<text text-anchor=\"start\" x=\"8\" y=\"-18038.3\" font-family=\"Times,serif\" font-size=\"14.00\">297 : numerical</text>\n<text text-anchor=\"start\" x=\"8\" y=\"-18023.3\" font-family=\"Times,serif\" font-size=\"14.00\">298 : numerical</text>\n<text text-anchor=\"start\" x=\"8\" y=\"-18008.3\" font-family=\"Times,serif\" font-size=\"14.00\">299 : numerical</text>\n<text text-anchor=\"start\" x=\"8\" y=\"-17993.3\" font-family=\"Times,serif\" font-size=\"14.00\">300 : numerical</text>\n<text text-anchor=\"start\" x=\"8\" y=\"-17978.3\" font-family=\"Times,serif\" font-size=\"14.00\">301 : numerical</text>\n<text text-anchor=\"start\" x=\"8\" y=\"-17963.3\" font-family=\"Times,serif\" font-size=\"14.00\">302 : numerical</text>\n<text text-anchor=\"start\" x=\"8\" y=\"-17948.3\" font-family=\"Times,serif\" font-size=\"14.00\">303 : numerical</text>\n<text text-anchor=\"start\" x=\"8\" y=\"-17933.3\" font-family=\"Times,serif\" font-size=\"14.00\">304 : numerical</text>\n<text text-anchor=\"start\" x=\"8\" y=\"-17918.3\" font-family=\"Times,serif\" font-size=\"14.00\">305 : numerical</text>\n<text text-anchor=\"start\" x=\"8\" y=\"-17903.3\" font-family=\"Times,serif\" font-size=\"14.00\">306 : numerical</text>\n<text text-anchor=\"start\" x=\"8\" y=\"-17888.3\" font-family=\"Times,serif\" font-size=\"14.00\">307 : numerical</text>\n<text text-anchor=\"start\" x=\"8\" y=\"-17873.3\" font-family=\"Times,serif\" font-size=\"14.00\">308 : numerical</text>\n<text text-anchor=\"start\" x=\"8\" y=\"-17858.3\" font-family=\"Times,serif\" font-size=\"14.00\">309 : numerical</text>\n<text text-anchor=\"start\" x=\"8\" y=\"-17843.3\" font-family=\"Times,serif\" font-size=\"14.00\">310 : numerical</text>\n<text text-anchor=\"start\" x=\"8\" y=\"-17828.3\" font-family=\"Times,serif\" font-size=\"14.00\">311 : numerical</text>\n<text text-anchor=\"start\" x=\"8\" y=\"-17813.3\" font-family=\"Times,serif\" font-size=\"14.00\">312 : numerical</text>\n<text text-anchor=\"start\" x=\"8\" y=\"-17798.3\" font-family=\"Times,serif\" font-size=\"14.00\">313 : numerical</text>\n<text text-anchor=\"start\" x=\"8\" y=\"-17783.3\" font-family=\"Times,serif\" font-size=\"14.00\">314 : numerical</text>\n<text text-anchor=\"start\" x=\"8\" y=\"-17768.3\" font-family=\"Times,serif\" font-size=\"14.00\">315 : numerical</text>\n<text text-anchor=\"start\" x=\"8\" y=\"-17753.3\" font-family=\"Times,serif\" font-size=\"14.00\">316 : numerical</text>\n<text text-anchor=\"start\" x=\"8\" y=\"-17738.3\" font-family=\"Times,serif\" font-size=\"14.00\">317 : numerical</text>\n<text text-anchor=\"start\" x=\"8\" y=\"-17723.3\" font-family=\"Times,serif\" font-size=\"14.00\">318 : numerical</text>\n<text text-anchor=\"start\" x=\"8\" y=\"-17708.3\" font-family=\"Times,serif\" font-size=\"14.00\">319 : numerical</text>\n<text text-anchor=\"start\" x=\"8\" y=\"-17693.3\" font-family=\"Times,serif\" font-size=\"14.00\">320 : numerical</text>\n<text text-anchor=\"start\" x=\"8\" y=\"-17678.3\" font-family=\"Times,serif\" font-size=\"14.00\">321 : numerical</text>\n<text text-anchor=\"start\" x=\"8\" y=\"-17663.3\" font-family=\"Times,serif\" font-size=\"14.00\">322 : numerical</text>\n<text text-anchor=\"start\" x=\"8\" y=\"-17648.3\" font-family=\"Times,serif\" font-size=\"14.00\">323 : numerical</text>\n<text text-anchor=\"start\" x=\"8\" y=\"-17633.3\" font-family=\"Times,serif\" font-size=\"14.00\">324 : numerical</text>\n<text text-anchor=\"start\" x=\"8\" y=\"-17618.3\" font-family=\"Times,serif\" font-size=\"14.00\">325 : numerical</text>\n<text text-anchor=\"start\" x=\"8\" y=\"-17603.3\" font-family=\"Times,serif\" font-size=\"14.00\">326 : numerical</text>\n<text text-anchor=\"start\" x=\"8\" y=\"-17588.3\" font-family=\"Times,serif\" font-size=\"14.00\">327 : numerical</text>\n<text text-anchor=\"start\" x=\"8\" y=\"-17573.3\" font-family=\"Times,serif\" font-size=\"14.00\">328 : numerical</text>\n<text text-anchor=\"start\" x=\"8\" y=\"-17558.3\" font-family=\"Times,serif\" font-size=\"14.00\">329 : numerical</text>\n<text text-anchor=\"start\" x=\"8\" y=\"-17543.3\" font-family=\"Times,serif\" font-size=\"14.00\">330 : numerical</text>\n<text text-anchor=\"start\" x=\"8\" y=\"-17528.3\" font-family=\"Times,serif\" font-size=\"14.00\">331 : numerical</text>\n<text text-anchor=\"start\" x=\"8\" y=\"-17513.3\" font-family=\"Times,serif\" font-size=\"14.00\">332 : numerical</text>\n<text text-anchor=\"start\" x=\"8\" y=\"-17498.3\" font-family=\"Times,serif\" font-size=\"14.00\">333 : numerical</text>\n<text text-anchor=\"start\" x=\"8\" y=\"-17483.3\" font-family=\"Times,serif\" font-size=\"14.00\">334 : numerical</text>\n<text text-anchor=\"start\" x=\"8\" y=\"-17468.3\" font-family=\"Times,serif\" font-size=\"14.00\">335 : numerical</text>\n<text text-anchor=\"start\" x=\"8\" y=\"-17453.3\" font-family=\"Times,serif\" font-size=\"14.00\">336 : numerical</text>\n<text text-anchor=\"start\" x=\"8\" y=\"-17438.3\" font-family=\"Times,serif\" font-size=\"14.00\">337 : numerical</text>\n<text text-anchor=\"start\" x=\"8\" y=\"-17423.3\" font-family=\"Times,serif\" font-size=\"14.00\">338 : numerical</text>\n<text text-anchor=\"start\" x=\"8\" y=\"-17408.3\" font-family=\"Times,serif\" font-size=\"14.00\">339 : numerical</text>\n<text text-anchor=\"start\" x=\"8\" y=\"-17393.3\" font-family=\"Times,serif\" font-size=\"14.00\">340 : numerical</text>\n<text text-anchor=\"start\" x=\"8\" y=\"-17378.3\" font-family=\"Times,serif\" font-size=\"14.00\">341 : numerical</text>\n<text text-anchor=\"start\" x=\"8\" y=\"-17363.3\" font-family=\"Times,serif\" font-size=\"14.00\">342 : numerical</text>\n<text text-anchor=\"start\" x=\"8\" y=\"-17348.3\" font-family=\"Times,serif\" font-size=\"14.00\">343 : numerical</text>\n<text text-anchor=\"start\" x=\"8\" y=\"-17333.3\" font-family=\"Times,serif\" font-size=\"14.00\">344 : numerical</text>\n<text text-anchor=\"start\" x=\"8\" y=\"-17318.3\" font-family=\"Times,serif\" font-size=\"14.00\">345 : numerical</text>\n<text text-anchor=\"start\" x=\"8\" y=\"-17303.3\" font-family=\"Times,serif\" font-size=\"14.00\">346 : numerical</text>\n<text text-anchor=\"start\" x=\"8\" y=\"-17288.3\" font-family=\"Times,serif\" font-size=\"14.00\">347 : numerical</text>\n<text text-anchor=\"start\" x=\"8\" y=\"-17273.3\" font-family=\"Times,serif\" font-size=\"14.00\">348 : numerical</text>\n<text text-anchor=\"start\" x=\"8\" y=\"-17258.3\" font-family=\"Times,serif\" font-size=\"14.00\">349 : numerical</text>\n<text text-anchor=\"start\" x=\"8\" y=\"-17243.3\" font-family=\"Times,serif\" font-size=\"14.00\">350 : numerical</text>\n<text text-anchor=\"start\" x=\"8\" y=\"-17228.3\" font-family=\"Times,serif\" font-size=\"14.00\">351 : numerical</text>\n<text text-anchor=\"start\" x=\"8\" y=\"-17213.3\" font-family=\"Times,serif\" font-size=\"14.00\">352 : numerical</text>\n<text text-anchor=\"start\" x=\"8\" y=\"-17198.3\" font-family=\"Times,serif\" font-size=\"14.00\">353 : numerical</text>\n<text text-anchor=\"start\" x=\"8\" y=\"-17183.3\" font-family=\"Times,serif\" font-size=\"14.00\">354 : numerical</text>\n<text text-anchor=\"start\" x=\"8\" y=\"-17168.3\" font-family=\"Times,serif\" font-size=\"14.00\">355 : numerical</text>\n<text text-anchor=\"start\" x=\"8\" y=\"-17153.3\" font-family=\"Times,serif\" font-size=\"14.00\">356 : numerical</text>\n<text text-anchor=\"start\" x=\"8\" y=\"-17138.3\" font-family=\"Times,serif\" font-size=\"14.00\">357 : numerical</text>\n<text text-anchor=\"start\" x=\"8\" y=\"-17123.3\" font-family=\"Times,serif\" font-size=\"14.00\">358 : numerical</text>\n<text text-anchor=\"start\" x=\"8\" y=\"-17108.3\" font-family=\"Times,serif\" font-size=\"14.00\">359 : numerical</text>\n<text text-anchor=\"start\" x=\"8\" y=\"-17093.3\" font-family=\"Times,serif\" font-size=\"14.00\">360 : numerical</text>\n<text text-anchor=\"start\" x=\"8\" y=\"-17078.3\" font-family=\"Times,serif\" font-size=\"14.00\">361 : numerical</text>\n<text text-anchor=\"start\" x=\"8\" y=\"-17063.3\" font-family=\"Times,serif\" font-size=\"14.00\">362 : numerical</text>\n<text text-anchor=\"start\" x=\"8\" y=\"-17048.3\" font-family=\"Times,serif\" font-size=\"14.00\">363 : numerical</text>\n<text text-anchor=\"start\" x=\"8\" y=\"-17033.3\" font-family=\"Times,serif\" font-size=\"14.00\">364 : numerical</text>\n<text text-anchor=\"start\" x=\"8\" y=\"-17018.3\" font-family=\"Times,serif\" font-size=\"14.00\">365 : numerical</text>\n<text text-anchor=\"start\" x=\"8\" y=\"-17003.3\" font-family=\"Times,serif\" font-size=\"14.00\">366 : numerical</text>\n<text text-anchor=\"start\" x=\"8\" y=\"-16988.3\" font-family=\"Times,serif\" font-size=\"14.00\">367 : numerical</text>\n<text text-anchor=\"start\" x=\"8\" y=\"-16973.3\" font-family=\"Times,serif\" font-size=\"14.00\">368 : numerical</text>\n<text text-anchor=\"start\" x=\"8\" y=\"-16958.3\" font-family=\"Times,serif\" font-size=\"14.00\">369 : numerical</text>\n<text text-anchor=\"start\" x=\"8\" y=\"-16943.3\" font-family=\"Times,serif\" font-size=\"14.00\">370 : numerical</text>\n<text text-anchor=\"start\" x=\"8\" y=\"-16928.3\" font-family=\"Times,serif\" font-size=\"14.00\">371 : numerical</text>\n<text text-anchor=\"start\" x=\"8\" y=\"-16913.3\" font-family=\"Times,serif\" font-size=\"14.00\">372 : numerical</text>\n<text text-anchor=\"start\" x=\"8\" y=\"-16898.3\" font-family=\"Times,serif\" font-size=\"14.00\">373 : numerical</text>\n<text text-anchor=\"start\" x=\"8\" y=\"-16883.3\" font-family=\"Times,serif\" font-size=\"14.00\">374 : numerical</text>\n<text text-anchor=\"start\" x=\"8\" y=\"-16868.3\" font-family=\"Times,serif\" font-size=\"14.00\">375 : numerical</text>\n<text text-anchor=\"start\" x=\"8\" y=\"-16853.3\" font-family=\"Times,serif\" font-size=\"14.00\">376 : numerical</text>\n<text text-anchor=\"start\" x=\"8\" y=\"-16838.3\" font-family=\"Times,serif\" font-size=\"14.00\">377 : numerical</text>\n<text text-anchor=\"start\" x=\"8\" y=\"-16823.3\" font-family=\"Times,serif\" font-size=\"14.00\">378 : numerical</text>\n<text text-anchor=\"start\" x=\"8\" y=\"-16808.3\" font-family=\"Times,serif\" font-size=\"14.00\">379 : numerical</text>\n<text text-anchor=\"start\" x=\"8\" y=\"-16793.3\" font-family=\"Times,serif\" font-size=\"14.00\">380 : numerical</text>\n<text text-anchor=\"start\" x=\"8\" y=\"-16778.3\" font-family=\"Times,serif\" font-size=\"14.00\">381 : numerical</text>\n<text text-anchor=\"start\" x=\"8\" y=\"-16763.3\" font-family=\"Times,serif\" font-size=\"14.00\">382 : numerical</text>\n<text text-anchor=\"start\" x=\"8\" y=\"-16748.3\" font-family=\"Times,serif\" font-size=\"14.00\">383 : numerical</text>\n<text text-anchor=\"start\" x=\"8\" y=\"-16733.3\" font-family=\"Times,serif\" font-size=\"14.00\">384 : numerical</text>\n<text text-anchor=\"start\" x=\"8\" y=\"-16718.3\" font-family=\"Times,serif\" font-size=\"14.00\">385 : numerical</text>\n<text text-anchor=\"start\" x=\"8\" y=\"-16703.3\" font-family=\"Times,serif\" font-size=\"14.00\">386 : numerical</text>\n<text text-anchor=\"start\" x=\"8\" y=\"-16688.3\" font-family=\"Times,serif\" font-size=\"14.00\">387 : numerical</text>\n<text text-anchor=\"start\" x=\"8\" y=\"-16673.3\" font-family=\"Times,serif\" font-size=\"14.00\">388 : numerical</text>\n<text text-anchor=\"start\" x=\"8\" y=\"-16658.3\" font-family=\"Times,serif\" font-size=\"14.00\">389 : numerical</text>\n<text text-anchor=\"start\" x=\"8\" y=\"-16643.3\" font-family=\"Times,serif\" font-size=\"14.00\">390 : numerical</text>\n<text text-anchor=\"start\" x=\"8\" y=\"-16628.3\" font-family=\"Times,serif\" font-size=\"14.00\">391 : numerical</text>\n<text text-anchor=\"start\" x=\"8\" y=\"-16613.3\" font-family=\"Times,serif\" font-size=\"14.00\">392 : numerical</text>\n<text text-anchor=\"start\" x=\"8\" y=\"-16598.3\" font-family=\"Times,serif\" font-size=\"14.00\">393 : numerical</text>\n<text text-anchor=\"start\" x=\"8\" y=\"-16583.3\" font-family=\"Times,serif\" font-size=\"14.00\">394 : numerical</text>\n<text text-anchor=\"start\" x=\"8\" y=\"-16568.3\" font-family=\"Times,serif\" font-size=\"14.00\">395 : numerical</text>\n<text text-anchor=\"start\" x=\"8\" y=\"-16553.3\" font-family=\"Times,serif\" font-size=\"14.00\">396 : numerical</text>\n<text text-anchor=\"start\" x=\"8\" y=\"-16538.3\" font-family=\"Times,serif\" font-size=\"14.00\">397 : numerical</text>\n<text text-anchor=\"start\" x=\"8\" y=\"-16523.3\" font-family=\"Times,serif\" font-size=\"14.00\">398 : numerical</text>\n<text text-anchor=\"start\" x=\"8\" y=\"-16508.3\" font-family=\"Times,serif\" font-size=\"14.00\">399 : numerical</text>\n<text text-anchor=\"start\" x=\"8\" y=\"-16493.3\" font-family=\"Times,serif\" font-size=\"14.00\">400 : numerical</text>\n<text text-anchor=\"start\" x=\"8\" y=\"-16478.3\" font-family=\"Times,serif\" font-size=\"14.00\">401 : numerical</text>\n<text text-anchor=\"start\" x=\"8\" y=\"-16463.3\" font-family=\"Times,serif\" font-size=\"14.00\">402 : numerical</text>\n<text text-anchor=\"start\" x=\"8\" y=\"-16448.3\" font-family=\"Times,serif\" font-size=\"14.00\">403 : numerical</text>\n<text text-anchor=\"start\" x=\"8\" y=\"-16433.3\" font-family=\"Times,serif\" font-size=\"14.00\">404 : numerical</text>\n<text text-anchor=\"start\" x=\"8\" y=\"-16418.3\" font-family=\"Times,serif\" font-size=\"14.00\">405 : numerical</text>\n<text text-anchor=\"start\" x=\"8\" y=\"-16403.3\" font-family=\"Times,serif\" font-size=\"14.00\">406 : numerical</text>\n<text text-anchor=\"start\" x=\"8\" y=\"-16388.3\" font-family=\"Times,serif\" font-size=\"14.00\">407 : numerical</text>\n<text text-anchor=\"start\" x=\"8\" y=\"-16373.3\" font-family=\"Times,serif\" font-size=\"14.00\">408 : numerical</text>\n<text text-anchor=\"start\" x=\"8\" y=\"-16358.3\" font-family=\"Times,serif\" font-size=\"14.00\">409 : numerical</text>\n<text text-anchor=\"start\" x=\"8\" y=\"-16343.3\" font-family=\"Times,serif\" font-size=\"14.00\">410 : numerical</text>\n<text text-anchor=\"start\" x=\"8\" y=\"-16328.3\" font-family=\"Times,serif\" font-size=\"14.00\">411 : numerical</text>\n<text text-anchor=\"start\" x=\"8\" y=\"-16313.3\" font-family=\"Times,serif\" font-size=\"14.00\">412 : numerical</text>\n<text text-anchor=\"start\" x=\"8\" y=\"-16298.3\" font-family=\"Times,serif\" font-size=\"14.00\">413 : numerical</text>\n<text text-anchor=\"start\" x=\"8\" y=\"-16283.3\" font-family=\"Times,serif\" font-size=\"14.00\">414 : numerical</text>\n<text text-anchor=\"start\" x=\"8\" y=\"-16268.3\" font-family=\"Times,serif\" font-size=\"14.00\">415 : numerical</text>\n<text text-anchor=\"start\" x=\"8\" y=\"-16253.3\" font-family=\"Times,serif\" font-size=\"14.00\">416 : numerical</text>\n<text text-anchor=\"start\" x=\"8\" y=\"-16238.3\" font-family=\"Times,serif\" font-size=\"14.00\">417 : numerical</text>\n<text text-anchor=\"start\" x=\"8\" y=\"-16223.3\" font-family=\"Times,serif\" font-size=\"14.00\">418 : numerical</text>\n<text text-anchor=\"start\" x=\"8\" y=\"-16208.3\" font-family=\"Times,serif\" font-size=\"14.00\">419 : numerical</text>\n<text text-anchor=\"start\" x=\"8\" y=\"-16193.3\" font-family=\"Times,serif\" font-size=\"14.00\">420 : numerical</text>\n<text text-anchor=\"start\" x=\"8\" y=\"-16178.3\" font-family=\"Times,serif\" font-size=\"14.00\">421 : numerical</text>\n<text text-anchor=\"start\" x=\"8\" y=\"-16163.3\" font-family=\"Times,serif\" font-size=\"14.00\">422 : numerical</text>\n<text text-anchor=\"start\" x=\"8\" y=\"-16148.3\" font-family=\"Times,serif\" font-size=\"14.00\">423 : numerical</text>\n<text text-anchor=\"start\" x=\"8\" y=\"-16133.3\" font-family=\"Times,serif\" font-size=\"14.00\">424 : numerical</text>\n<text text-anchor=\"start\" x=\"8\" y=\"-16118.3\" font-family=\"Times,serif\" font-size=\"14.00\">425 : numerical</text>\n<text text-anchor=\"start\" x=\"8\" y=\"-16103.3\" font-family=\"Times,serif\" font-size=\"14.00\">426 : numerical</text>\n<text text-anchor=\"start\" x=\"8\" y=\"-16088.3\" font-family=\"Times,serif\" font-size=\"14.00\">427 : numerical</text>\n<text text-anchor=\"start\" x=\"8\" y=\"-16073.3\" font-family=\"Times,serif\" font-size=\"14.00\">428 : numerical</text>\n<text text-anchor=\"start\" x=\"8\" y=\"-16058.3\" font-family=\"Times,serif\" font-size=\"14.00\">429 : numerical</text>\n<text text-anchor=\"start\" x=\"8\" y=\"-16043.3\" font-family=\"Times,serif\" font-size=\"14.00\">430 : numerical</text>\n<text text-anchor=\"start\" x=\"8\" y=\"-16028.3\" font-family=\"Times,serif\" font-size=\"14.00\">431 : numerical</text>\n<text text-anchor=\"start\" x=\"8\" y=\"-16013.3\" font-family=\"Times,serif\" font-size=\"14.00\">432 : numerical</text>\n<text text-anchor=\"start\" x=\"8\" y=\"-15998.3\" font-family=\"Times,serif\" font-size=\"14.00\">433 : numerical</text>\n<text text-anchor=\"start\" x=\"8\" y=\"-15983.3\" font-family=\"Times,serif\" font-size=\"14.00\">434 : numerical</text>\n<text text-anchor=\"start\" x=\"8\" y=\"-15968.3\" font-family=\"Times,serif\" font-size=\"14.00\">435 : numerical</text>\n<text text-anchor=\"start\" x=\"8\" y=\"-15953.3\" font-family=\"Times,serif\" font-size=\"14.00\">436 : numerical</text>\n<text text-anchor=\"start\" x=\"8\" y=\"-15938.3\" font-family=\"Times,serif\" font-size=\"14.00\">437 : numerical</text>\n<text text-anchor=\"start\" x=\"8\" y=\"-15923.3\" font-family=\"Times,serif\" font-size=\"14.00\">438 : numerical</text>\n<text text-anchor=\"start\" x=\"8\" y=\"-15908.3\" font-family=\"Times,serif\" font-size=\"14.00\">439 : numerical</text>\n<text text-anchor=\"start\" x=\"8\" y=\"-15893.3\" font-family=\"Times,serif\" font-size=\"14.00\">440 : numerical</text>\n<text text-anchor=\"start\" x=\"8\" y=\"-15878.3\" font-family=\"Times,serif\" font-size=\"14.00\">441 : numerical</text>\n<text text-anchor=\"start\" x=\"8\" y=\"-15863.3\" font-family=\"Times,serif\" font-size=\"14.00\">442 : numerical</text>\n<text text-anchor=\"start\" x=\"8\" y=\"-15848.3\" font-family=\"Times,serif\" font-size=\"14.00\">443 : numerical</text>\n<text text-anchor=\"start\" x=\"8\" y=\"-15833.3\" font-family=\"Times,serif\" font-size=\"14.00\">444 : numerical</text>\n<text text-anchor=\"start\" x=\"8\" y=\"-15818.3\" font-family=\"Times,serif\" font-size=\"14.00\">445 : numerical</text>\n<text text-anchor=\"start\" x=\"8\" y=\"-15803.3\" font-family=\"Times,serif\" font-size=\"14.00\">446 : numerical</text>\n<text text-anchor=\"start\" x=\"8\" y=\"-15788.3\" font-family=\"Times,serif\" font-size=\"14.00\">447 : numerical</text>\n<text text-anchor=\"start\" x=\"8\" y=\"-15773.3\" font-family=\"Times,serif\" font-size=\"14.00\">448 : numerical</text>\n<text text-anchor=\"start\" x=\"8\" y=\"-15758.3\" font-family=\"Times,serif\" font-size=\"14.00\">449 : numerical</text>\n<text text-anchor=\"start\" x=\"8\" y=\"-15743.3\" font-family=\"Times,serif\" font-size=\"14.00\">450 : numerical</text>\n<text text-anchor=\"start\" x=\"8\" y=\"-15728.3\" font-family=\"Times,serif\" font-size=\"14.00\">451 : numerical</text>\n<text text-anchor=\"start\" x=\"8\" y=\"-15713.3\" font-family=\"Times,serif\" font-size=\"14.00\">452 : numerical</text>\n<text text-anchor=\"start\" x=\"8\" y=\"-15698.3\" font-family=\"Times,serif\" font-size=\"14.00\">453 : numerical</text>\n<text text-anchor=\"start\" x=\"8\" y=\"-15683.3\" font-family=\"Times,serif\" font-size=\"14.00\">454 : numerical</text>\n<text text-anchor=\"start\" x=\"8\" y=\"-15668.3\" font-family=\"Times,serif\" font-size=\"14.00\">455 : numerical</text>\n<text text-anchor=\"start\" x=\"8\" y=\"-15653.3\" font-family=\"Times,serif\" font-size=\"14.00\">456 : numerical</text>\n<text text-anchor=\"start\" x=\"8\" y=\"-15638.3\" font-family=\"Times,serif\" font-size=\"14.00\">457 : numerical</text>\n<text text-anchor=\"start\" x=\"8\" y=\"-15623.3\" font-family=\"Times,serif\" font-size=\"14.00\">458 : numerical</text>\n<text text-anchor=\"start\" x=\"8\" y=\"-15608.3\" font-family=\"Times,serif\" font-size=\"14.00\">459 : numerical</text>\n<text text-anchor=\"start\" x=\"8\" y=\"-15593.3\" font-family=\"Times,serif\" font-size=\"14.00\">460 : numerical</text>\n<text text-anchor=\"start\" x=\"8\" y=\"-15578.3\" font-family=\"Times,serif\" font-size=\"14.00\">461 : numerical</text>\n<text text-anchor=\"start\" x=\"8\" y=\"-15563.3\" font-family=\"Times,serif\" font-size=\"14.00\">462 : numerical</text>\n<text text-anchor=\"start\" x=\"8\" y=\"-15548.3\" font-family=\"Times,serif\" font-size=\"14.00\">463 : numerical</text>\n<text text-anchor=\"start\" x=\"8\" y=\"-15533.3\" font-family=\"Times,serif\" font-size=\"14.00\">464 : numerical</text>\n<text text-anchor=\"start\" x=\"8\" y=\"-15518.3\" font-family=\"Times,serif\" font-size=\"14.00\">465 : numerical</text>\n<text text-anchor=\"start\" x=\"8\" y=\"-15503.3\" font-family=\"Times,serif\" font-size=\"14.00\">466 : numerical</text>\n<text text-anchor=\"start\" x=\"8\" y=\"-15488.3\" font-family=\"Times,serif\" font-size=\"14.00\">467 : numerical</text>\n<text text-anchor=\"start\" x=\"8\" y=\"-15473.3\" font-family=\"Times,serif\" font-size=\"14.00\">468 : numerical</text>\n<text text-anchor=\"start\" x=\"8\" y=\"-15458.3\" font-family=\"Times,serif\" font-size=\"14.00\">469 : numerical</text>\n<text text-anchor=\"start\" x=\"8\" y=\"-15443.3\" font-family=\"Times,serif\" font-size=\"14.00\">470 : numerical</text>\n<text text-anchor=\"start\" x=\"8\" y=\"-15428.3\" font-family=\"Times,serif\" font-size=\"14.00\">471 : numerical</text>\n<text text-anchor=\"start\" x=\"8\" y=\"-15413.3\" font-family=\"Times,serif\" font-size=\"14.00\">472 : numerical</text>\n<text text-anchor=\"start\" x=\"8\" y=\"-15398.3\" font-family=\"Times,serif\" font-size=\"14.00\">473 : numerical</text>\n<text text-anchor=\"start\" x=\"8\" y=\"-15383.3\" font-family=\"Times,serif\" font-size=\"14.00\">474 : numerical</text>\n<text text-anchor=\"start\" x=\"8\" y=\"-15368.3\" font-family=\"Times,serif\" font-size=\"14.00\">475 : numerical</text>\n<text text-anchor=\"start\" x=\"8\" y=\"-15353.3\" font-family=\"Times,serif\" font-size=\"14.00\">476 : numerical</text>\n<text text-anchor=\"start\" x=\"8\" y=\"-15338.3\" font-family=\"Times,serif\" font-size=\"14.00\">477 : numerical</text>\n<text text-anchor=\"start\" x=\"8\" y=\"-15323.3\" font-family=\"Times,serif\" font-size=\"14.00\">478 : numerical</text>\n<text text-anchor=\"start\" x=\"8\" y=\"-15308.3\" font-family=\"Times,serif\" font-size=\"14.00\">479 : numerical</text>\n<text text-anchor=\"start\" x=\"8\" y=\"-15293.3\" font-family=\"Times,serif\" font-size=\"14.00\">480 : numerical</text>\n<text text-anchor=\"start\" x=\"8\" y=\"-15278.3\" font-family=\"Times,serif\" font-size=\"14.00\">481 : numerical</text>\n<text text-anchor=\"start\" x=\"8\" y=\"-15263.3\" font-family=\"Times,serif\" font-size=\"14.00\">482 : numerical</text>\n<text text-anchor=\"start\" x=\"8\" y=\"-15248.3\" font-family=\"Times,serif\" font-size=\"14.00\">483 : numerical</text>\n<text text-anchor=\"start\" x=\"8\" y=\"-15233.3\" font-family=\"Times,serif\" font-size=\"14.00\">484 : numerical</text>\n<text text-anchor=\"start\" x=\"8\" y=\"-15218.3\" font-family=\"Times,serif\" font-size=\"14.00\">485 : numerical</text>\n<text text-anchor=\"start\" x=\"8\" y=\"-15203.3\" font-family=\"Times,serif\" font-size=\"14.00\">486 : numerical</text>\n<text text-anchor=\"start\" x=\"8\" y=\"-15188.3\" font-family=\"Times,serif\" font-size=\"14.00\">487 : numerical</text>\n<text text-anchor=\"start\" x=\"8\" y=\"-15173.3\" font-family=\"Times,serif\" font-size=\"14.00\">488 : numerical</text>\n<text text-anchor=\"start\" x=\"8\" y=\"-15158.3\" font-family=\"Times,serif\" font-size=\"14.00\">489 : numerical</text>\n<text text-anchor=\"start\" x=\"8\" y=\"-15143.3\" font-family=\"Times,serif\" font-size=\"14.00\">490 : numerical</text>\n<text text-anchor=\"start\" x=\"8\" y=\"-15128.3\" font-family=\"Times,serif\" font-size=\"14.00\">491 : numerical</text>\n<text text-anchor=\"start\" x=\"8\" y=\"-15113.3\" font-family=\"Times,serif\" font-size=\"14.00\">492 : numerical</text>\n<text text-anchor=\"start\" x=\"8\" y=\"-15098.3\" font-family=\"Times,serif\" font-size=\"14.00\">493 : numerical</text>\n<text text-anchor=\"start\" x=\"8\" y=\"-15083.3\" font-family=\"Times,serif\" font-size=\"14.00\">494 : numerical</text>\n<text text-anchor=\"start\" x=\"8\" y=\"-15068.3\" font-family=\"Times,serif\" font-size=\"14.00\">495 : numerical</text>\n<text text-anchor=\"start\" x=\"8\" y=\"-15053.3\" font-family=\"Times,serif\" font-size=\"14.00\">496 : numerical</text>\n<text text-anchor=\"start\" x=\"8\" y=\"-15038.3\" font-family=\"Times,serif\" font-size=\"14.00\">497 : numerical</text>\n<text text-anchor=\"start\" x=\"8\" y=\"-15023.3\" font-family=\"Times,serif\" font-size=\"14.00\">498 : numerical</text>\n<text text-anchor=\"start\" x=\"8\" y=\"-15008.3\" font-family=\"Times,serif\" font-size=\"14.00\">499 : numerical</text>\n<text text-anchor=\"start\" x=\"8\" y=\"-14993.3\" font-family=\"Times,serif\" font-size=\"14.00\">500 : numerical</text>\n<text text-anchor=\"start\" x=\"8\" y=\"-14978.3\" font-family=\"Times,serif\" font-size=\"14.00\">501 : numerical</text>\n<text text-anchor=\"start\" x=\"8\" y=\"-14963.3\" font-family=\"Times,serif\" font-size=\"14.00\">502 : numerical</text>\n<text text-anchor=\"start\" x=\"8\" y=\"-14948.3\" font-family=\"Times,serif\" font-size=\"14.00\">503 : numerical</text>\n<text text-anchor=\"start\" x=\"8\" y=\"-14933.3\" font-family=\"Times,serif\" font-size=\"14.00\">504 : numerical</text>\n<text text-anchor=\"start\" x=\"8\" y=\"-14918.3\" font-family=\"Times,serif\" font-size=\"14.00\">505 : numerical</text>\n<text text-anchor=\"start\" x=\"8\" y=\"-14903.3\" font-family=\"Times,serif\" font-size=\"14.00\">506 : numerical</text>\n<text text-anchor=\"start\" x=\"8\" y=\"-14888.3\" font-family=\"Times,serif\" font-size=\"14.00\">507 : numerical</text>\n<text text-anchor=\"start\" x=\"8\" y=\"-14873.3\" font-family=\"Times,serif\" font-size=\"14.00\">508 : numerical</text>\n<text text-anchor=\"start\" x=\"8\" y=\"-14858.3\" font-family=\"Times,serif\" font-size=\"14.00\">509 : numerical</text>\n<text text-anchor=\"start\" x=\"8\" y=\"-14843.3\" font-family=\"Times,serif\" font-size=\"14.00\">510 : numerical</text>\n<text text-anchor=\"start\" x=\"8\" y=\"-14828.3\" font-family=\"Times,serif\" font-size=\"14.00\">511 : numerical</text>\n<text text-anchor=\"start\" x=\"8\" y=\"-14813.3\" font-family=\"Times,serif\" font-size=\"14.00\">512 : numerical</text>\n<text text-anchor=\"start\" x=\"8\" y=\"-14798.3\" font-family=\"Times,serif\" font-size=\"14.00\">513 : numerical</text>\n<text text-anchor=\"start\" x=\"8\" y=\"-14783.3\" font-family=\"Times,serif\" font-size=\"14.00\">514 : numerical</text>\n<text text-anchor=\"start\" x=\"8\" y=\"-14768.3\" font-family=\"Times,serif\" font-size=\"14.00\">515 : numerical</text>\n<text text-anchor=\"start\" x=\"8\" y=\"-14753.3\" font-family=\"Times,serif\" font-size=\"14.00\">516 : numerical</text>\n<text text-anchor=\"start\" x=\"8\" y=\"-14738.3\" font-family=\"Times,serif\" font-size=\"14.00\">517 : numerical</text>\n<text text-anchor=\"start\" x=\"8\" y=\"-14723.3\" font-family=\"Times,serif\" font-size=\"14.00\">518 : numerical</text>\n<text text-anchor=\"start\" x=\"8\" y=\"-14708.3\" font-family=\"Times,serif\" font-size=\"14.00\">519 : numerical</text>\n<text text-anchor=\"start\" x=\"8\" y=\"-14693.3\" font-family=\"Times,serif\" font-size=\"14.00\">520 : numerical</text>\n<text text-anchor=\"start\" x=\"8\" y=\"-14678.3\" font-family=\"Times,serif\" font-size=\"14.00\">521 : numerical</text>\n<text text-anchor=\"start\" x=\"8\" y=\"-14663.3\" font-family=\"Times,serif\" font-size=\"14.00\">522 : numerical</text>\n<text text-anchor=\"start\" x=\"8\" y=\"-14648.3\" font-family=\"Times,serif\" font-size=\"14.00\">523 : numerical</text>\n<text text-anchor=\"start\" x=\"8\" y=\"-14633.3\" font-family=\"Times,serif\" font-size=\"14.00\">524 : numerical</text>\n<text text-anchor=\"start\" x=\"8\" y=\"-14618.3\" font-family=\"Times,serif\" font-size=\"14.00\">525 : numerical</text>\n<text text-anchor=\"start\" x=\"8\" y=\"-14603.3\" font-family=\"Times,serif\" font-size=\"14.00\">526 : numerical</text>\n<text text-anchor=\"start\" x=\"8\" y=\"-14588.3\" font-family=\"Times,serif\" font-size=\"14.00\">527 : numerical</text>\n<text text-anchor=\"start\" x=\"8\" y=\"-14573.3\" font-family=\"Times,serif\" font-size=\"14.00\">528 : numerical</text>\n<text text-anchor=\"start\" x=\"8\" y=\"-14558.3\" font-family=\"Times,serif\" font-size=\"14.00\">529 : numerical</text>\n<text text-anchor=\"start\" x=\"8\" y=\"-14543.3\" font-family=\"Times,serif\" font-size=\"14.00\">530 : numerical</text>\n<text text-anchor=\"start\" x=\"8\" y=\"-14528.3\" font-family=\"Times,serif\" font-size=\"14.00\">531 : numerical</text>\n<text text-anchor=\"start\" x=\"8\" y=\"-14513.3\" font-family=\"Times,serif\" font-size=\"14.00\">532 : numerical</text>\n<text text-anchor=\"start\" x=\"8\" y=\"-14498.3\" font-family=\"Times,serif\" font-size=\"14.00\">533 : numerical</text>\n<text text-anchor=\"start\" x=\"8\" y=\"-14483.3\" font-family=\"Times,serif\" font-size=\"14.00\">534 : numerical</text>\n<text text-anchor=\"start\" x=\"8\" y=\"-14468.3\" font-family=\"Times,serif\" font-size=\"14.00\">535 : numerical</text>\n<text text-anchor=\"start\" x=\"8\" y=\"-14453.3\" font-family=\"Times,serif\" font-size=\"14.00\">536 : numerical</text>\n<text text-anchor=\"start\" x=\"8\" y=\"-14438.3\" font-family=\"Times,serif\" font-size=\"14.00\">537 : numerical</text>\n<text text-anchor=\"start\" x=\"8\" y=\"-14423.3\" font-family=\"Times,serif\" font-size=\"14.00\">538 : numerical</text>\n<text text-anchor=\"start\" x=\"8\" y=\"-14408.3\" font-family=\"Times,serif\" font-size=\"14.00\">539 : numerical</text>\n<text text-anchor=\"start\" x=\"8\" y=\"-14393.3\" font-family=\"Times,serif\" font-size=\"14.00\">540 : numerical</text>\n<text text-anchor=\"start\" x=\"8\" y=\"-14378.3\" font-family=\"Times,serif\" font-size=\"14.00\">541 : numerical</text>\n<text text-anchor=\"start\" x=\"8\" y=\"-14363.3\" font-family=\"Times,serif\" font-size=\"14.00\">542 : numerical</text>\n<text text-anchor=\"start\" x=\"8\" y=\"-14348.3\" font-family=\"Times,serif\" font-size=\"14.00\">543 : numerical</text>\n<text text-anchor=\"start\" x=\"8\" y=\"-14333.3\" font-family=\"Times,serif\" font-size=\"14.00\">544 : numerical</text>\n<text text-anchor=\"start\" x=\"8\" y=\"-14318.3\" font-family=\"Times,serif\" font-size=\"14.00\">545 : numerical</text>\n<text text-anchor=\"start\" x=\"8\" y=\"-14303.3\" font-family=\"Times,serif\" font-size=\"14.00\">546 : numerical</text>\n<text text-anchor=\"start\" x=\"8\" y=\"-14288.3\" font-family=\"Times,serif\" font-size=\"14.00\">547 : numerical</text>\n<text text-anchor=\"start\" x=\"8\" y=\"-14273.3\" font-family=\"Times,serif\" font-size=\"14.00\">548 : numerical</text>\n<text text-anchor=\"start\" x=\"8\" y=\"-14258.3\" font-family=\"Times,serif\" font-size=\"14.00\">549 : numerical</text>\n<text text-anchor=\"start\" x=\"8\" y=\"-14243.3\" font-family=\"Times,serif\" font-size=\"14.00\">550 : numerical</text>\n<text text-anchor=\"start\" x=\"8\" y=\"-14228.3\" font-family=\"Times,serif\" font-size=\"14.00\">551 : numerical</text>\n<text text-anchor=\"start\" x=\"8\" y=\"-14213.3\" font-family=\"Times,serif\" font-size=\"14.00\">552 : numerical</text>\n<text text-anchor=\"start\" x=\"8\" y=\"-14198.3\" font-family=\"Times,serif\" font-size=\"14.00\">553 : numerical</text>\n<text text-anchor=\"start\" x=\"8\" y=\"-14183.3\" font-family=\"Times,serif\" font-size=\"14.00\">554 : numerical</text>\n<text text-anchor=\"start\" x=\"8\" y=\"-14168.3\" font-family=\"Times,serif\" font-size=\"14.00\">555 : numerical</text>\n<text text-anchor=\"start\" x=\"8\" y=\"-14153.3\" font-family=\"Times,serif\" font-size=\"14.00\">556 : numerical</text>\n<text text-anchor=\"start\" x=\"8\" y=\"-14138.3\" font-family=\"Times,serif\" font-size=\"14.00\">557 : numerical</text>\n<text text-anchor=\"start\" x=\"8\" y=\"-14123.3\" font-family=\"Times,serif\" font-size=\"14.00\">558 : numerical</text>\n<text text-anchor=\"start\" x=\"8\" y=\"-14108.3\" font-family=\"Times,serif\" font-size=\"14.00\">559 : numerical</text>\n<text text-anchor=\"start\" x=\"8\" y=\"-14093.3\" font-family=\"Times,serif\" font-size=\"14.00\">560 : numerical</text>\n<text text-anchor=\"start\" x=\"8\" y=\"-14078.3\" font-family=\"Times,serif\" font-size=\"14.00\">561 : numerical</text>\n<text text-anchor=\"start\" x=\"8\" y=\"-14063.3\" font-family=\"Times,serif\" font-size=\"14.00\">562 : numerical</text>\n<text text-anchor=\"start\" x=\"8\" y=\"-14048.3\" font-family=\"Times,serif\" font-size=\"14.00\">563 : numerical</text>\n<text text-anchor=\"start\" x=\"8\" y=\"-14033.3\" font-family=\"Times,serif\" font-size=\"14.00\">564 : numerical</text>\n<text text-anchor=\"start\" x=\"8\" y=\"-14018.3\" font-family=\"Times,serif\" font-size=\"14.00\">565 : numerical</text>\n<text text-anchor=\"start\" x=\"8\" y=\"-14003.3\" font-family=\"Times,serif\" font-size=\"14.00\">566 : numerical</text>\n<text text-anchor=\"start\" x=\"8\" y=\"-13988.3\" font-family=\"Times,serif\" font-size=\"14.00\">567 : numerical</text>\n<text text-anchor=\"start\" x=\"8\" y=\"-13973.3\" font-family=\"Times,serif\" font-size=\"14.00\">568 : numerical</text>\n<text text-anchor=\"start\" x=\"8\" y=\"-13958.3\" font-family=\"Times,serif\" font-size=\"14.00\">569 : numerical</text>\n<text text-anchor=\"start\" x=\"8\" y=\"-13943.3\" font-family=\"Times,serif\" font-size=\"14.00\">570 : numerical</text>\n<text text-anchor=\"start\" x=\"8\" y=\"-13928.3\" font-family=\"Times,serif\" font-size=\"14.00\">571 : numerical</text>\n<text text-anchor=\"start\" x=\"8\" y=\"-13913.3\" font-family=\"Times,serif\" font-size=\"14.00\">572 : numerical</text>\n<text text-anchor=\"start\" x=\"8\" y=\"-13898.3\" font-family=\"Times,serif\" font-size=\"14.00\">573 : numerical</text>\n<text text-anchor=\"start\" x=\"8\" y=\"-13883.3\" font-family=\"Times,serif\" font-size=\"14.00\">574 : numerical</text>\n<text text-anchor=\"start\" x=\"8\" y=\"-13868.3\" font-family=\"Times,serif\" font-size=\"14.00\">575 : numerical</text>\n<text text-anchor=\"start\" x=\"8\" y=\"-13853.3\" font-family=\"Times,serif\" font-size=\"14.00\">576 : numerical</text>\n<text text-anchor=\"start\" x=\"8\" y=\"-13838.3\" font-family=\"Times,serif\" font-size=\"14.00\">577 : numerical</text>\n<text text-anchor=\"start\" x=\"8\" y=\"-13823.3\" font-family=\"Times,serif\" font-size=\"14.00\">578 : numerical</text>\n<text text-anchor=\"start\" x=\"8\" y=\"-13808.3\" font-family=\"Times,serif\" font-size=\"14.00\">579 : numerical</text>\n<text text-anchor=\"start\" x=\"8\" y=\"-13793.3\" font-family=\"Times,serif\" font-size=\"14.00\">580 : numerical</text>\n<text text-anchor=\"start\" x=\"8\" y=\"-13778.3\" font-family=\"Times,serif\" font-size=\"14.00\">581 : numerical</text>\n<text text-anchor=\"start\" x=\"8\" y=\"-13763.3\" font-family=\"Times,serif\" font-size=\"14.00\">582 : numerical</text>\n<text text-anchor=\"start\" x=\"8\" y=\"-13748.3\" font-family=\"Times,serif\" font-size=\"14.00\">583 : numerical</text>\n<text text-anchor=\"start\" x=\"8\" y=\"-13733.3\" font-family=\"Times,serif\" font-size=\"14.00\">584 : numerical</text>\n<text text-anchor=\"start\" x=\"8\" y=\"-13718.3\" font-family=\"Times,serif\" font-size=\"14.00\">585 : numerical</text>\n<text text-anchor=\"start\" x=\"8\" y=\"-13703.3\" font-family=\"Times,serif\" font-size=\"14.00\">586 : numerical</text>\n<text text-anchor=\"start\" x=\"8\" y=\"-13688.3\" font-family=\"Times,serif\" font-size=\"14.00\">587 : numerical</text>\n<text text-anchor=\"start\" x=\"8\" y=\"-13673.3\" font-family=\"Times,serif\" font-size=\"14.00\">588 : numerical</text>\n<text text-anchor=\"start\" x=\"8\" y=\"-13658.3\" font-family=\"Times,serif\" font-size=\"14.00\">589 : numerical</text>\n<text text-anchor=\"start\" x=\"8\" y=\"-13643.3\" font-family=\"Times,serif\" font-size=\"14.00\">590 : numerical</text>\n<text text-anchor=\"start\" x=\"8\" y=\"-13628.3\" font-family=\"Times,serif\" font-size=\"14.00\">591 : numerical</text>\n<text text-anchor=\"start\" x=\"8\" y=\"-13613.3\" font-family=\"Times,serif\" font-size=\"14.00\">592 : numerical</text>\n<text text-anchor=\"start\" x=\"8\" y=\"-13598.3\" font-family=\"Times,serif\" font-size=\"14.00\">593 : numerical</text>\n<text text-anchor=\"start\" x=\"8\" y=\"-13583.3\" font-family=\"Times,serif\" font-size=\"14.00\">594 : numerical</text>\n<text text-anchor=\"start\" x=\"8\" y=\"-13568.3\" font-family=\"Times,serif\" font-size=\"14.00\">595 : numerical</text>\n<text text-anchor=\"start\" x=\"8\" y=\"-13553.3\" font-family=\"Times,serif\" font-size=\"14.00\">596 : numerical</text>\n<text text-anchor=\"start\" x=\"8\" y=\"-13538.3\" font-family=\"Times,serif\" font-size=\"14.00\">597 : numerical</text>\n<text text-anchor=\"start\" x=\"8\" y=\"-13523.3\" font-family=\"Times,serif\" font-size=\"14.00\">598 : numerical</text>\n<text text-anchor=\"start\" x=\"8\" y=\"-13508.3\" font-family=\"Times,serif\" font-size=\"14.00\">599 : numerical</text>\n<text text-anchor=\"start\" x=\"8\" y=\"-13493.3\" font-family=\"Times,serif\" font-size=\"14.00\">600 : numerical</text>\n<text text-anchor=\"start\" x=\"8\" y=\"-13478.3\" font-family=\"Times,serif\" font-size=\"14.00\">601 : numerical</text>\n<text text-anchor=\"start\" x=\"8\" y=\"-13463.3\" font-family=\"Times,serif\" font-size=\"14.00\">602 : numerical</text>\n<text text-anchor=\"start\" x=\"8\" y=\"-13448.3\" font-family=\"Times,serif\" font-size=\"14.00\">603 : numerical</text>\n<text text-anchor=\"start\" x=\"8\" y=\"-13433.3\" font-family=\"Times,serif\" font-size=\"14.00\">604 : numerical</text>\n<text text-anchor=\"start\" x=\"8\" y=\"-13418.3\" font-family=\"Times,serif\" font-size=\"14.00\">605 : numerical</text>\n<text text-anchor=\"start\" x=\"8\" y=\"-13403.3\" font-family=\"Times,serif\" font-size=\"14.00\">606 : numerical</text>\n<text text-anchor=\"start\" x=\"8\" y=\"-13388.3\" font-family=\"Times,serif\" font-size=\"14.00\">607 : numerical</text>\n<text text-anchor=\"start\" x=\"8\" y=\"-13373.3\" font-family=\"Times,serif\" font-size=\"14.00\">608 : numerical</text>\n<text text-anchor=\"start\" x=\"8\" y=\"-13358.3\" font-family=\"Times,serif\" font-size=\"14.00\">609 : numerical</text>\n<text text-anchor=\"start\" x=\"8\" y=\"-13343.3\" font-family=\"Times,serif\" font-size=\"14.00\">610 : numerical</text>\n<text text-anchor=\"start\" x=\"8\" y=\"-13328.3\" font-family=\"Times,serif\" font-size=\"14.00\">611 : numerical</text>\n<text text-anchor=\"start\" x=\"8\" y=\"-13313.3\" font-family=\"Times,serif\" font-size=\"14.00\">612 : numerical</text>\n<text text-anchor=\"start\" x=\"8\" y=\"-13298.3\" font-family=\"Times,serif\" font-size=\"14.00\">613 : numerical</text>\n<text text-anchor=\"start\" x=\"8\" y=\"-13283.3\" font-family=\"Times,serif\" font-size=\"14.00\">614 : numerical</text>\n<text text-anchor=\"start\" x=\"8\" y=\"-13268.3\" font-family=\"Times,serif\" font-size=\"14.00\">615 : numerical</text>\n<text text-anchor=\"start\" x=\"8\" y=\"-13253.3\" font-family=\"Times,serif\" font-size=\"14.00\">616 : numerical</text>\n<text text-anchor=\"start\" x=\"8\" y=\"-13238.3\" font-family=\"Times,serif\" font-size=\"14.00\">617 : numerical</text>\n<text text-anchor=\"start\" x=\"8\" y=\"-13223.3\" font-family=\"Times,serif\" font-size=\"14.00\">618 : numerical</text>\n<text text-anchor=\"start\" x=\"8\" y=\"-13208.3\" font-family=\"Times,serif\" font-size=\"14.00\">619 : numerical</text>\n<text text-anchor=\"start\" x=\"8\" y=\"-13193.3\" font-family=\"Times,serif\" font-size=\"14.00\">620 : numerical</text>\n<text text-anchor=\"start\" x=\"8\" y=\"-13178.3\" font-family=\"Times,serif\" font-size=\"14.00\">621 : numerical</text>\n<text text-anchor=\"start\" x=\"8\" y=\"-13163.3\" font-family=\"Times,serif\" font-size=\"14.00\">622 : numerical</text>\n<text text-anchor=\"start\" x=\"8\" y=\"-13148.3\" font-family=\"Times,serif\" font-size=\"14.00\">623 : numerical</text>\n<text text-anchor=\"start\" x=\"8\" y=\"-13133.3\" font-family=\"Times,serif\" font-size=\"14.00\">624 : numerical</text>\n<text text-anchor=\"start\" x=\"8\" y=\"-13118.3\" font-family=\"Times,serif\" font-size=\"14.00\">625 : numerical</text>\n<text text-anchor=\"start\" x=\"8\" y=\"-13103.3\" font-family=\"Times,serif\" font-size=\"14.00\">626 : numerical</text>\n<text text-anchor=\"start\" x=\"8\" y=\"-13088.3\" font-family=\"Times,serif\" font-size=\"14.00\">627 : numerical</text>\n<text text-anchor=\"start\" x=\"8\" y=\"-13073.3\" font-family=\"Times,serif\" font-size=\"14.00\">628 : numerical</text>\n<text text-anchor=\"start\" x=\"8\" y=\"-13058.3\" font-family=\"Times,serif\" font-size=\"14.00\">629 : numerical</text>\n<text text-anchor=\"start\" x=\"8\" y=\"-13043.3\" font-family=\"Times,serif\" font-size=\"14.00\">630 : numerical</text>\n<text text-anchor=\"start\" x=\"8\" y=\"-13028.3\" font-family=\"Times,serif\" font-size=\"14.00\">631 : numerical</text>\n<text text-anchor=\"start\" x=\"8\" y=\"-13013.3\" font-family=\"Times,serif\" font-size=\"14.00\">632 : numerical</text>\n<text text-anchor=\"start\" x=\"8\" y=\"-12998.3\" font-family=\"Times,serif\" font-size=\"14.00\">633 : numerical</text>\n<text text-anchor=\"start\" x=\"8\" y=\"-12983.3\" font-family=\"Times,serif\" font-size=\"14.00\">634 : numerical</text>\n<text text-anchor=\"start\" x=\"8\" y=\"-12968.3\" font-family=\"Times,serif\" font-size=\"14.00\">635 : numerical</text>\n<text text-anchor=\"start\" x=\"8\" y=\"-12953.3\" font-family=\"Times,serif\" font-size=\"14.00\">636 : numerical</text>\n<text text-anchor=\"start\" x=\"8\" y=\"-12938.3\" font-family=\"Times,serif\" font-size=\"14.00\">637 : numerical</text>\n<text text-anchor=\"start\" x=\"8\" y=\"-12923.3\" font-family=\"Times,serif\" font-size=\"14.00\">638 : numerical</text>\n<text text-anchor=\"start\" x=\"8\" y=\"-12908.3\" font-family=\"Times,serif\" font-size=\"14.00\">639 : numerical</text>\n<text text-anchor=\"start\" x=\"8\" y=\"-12893.3\" font-family=\"Times,serif\" font-size=\"14.00\">640 : numerical</text>\n<text text-anchor=\"start\" x=\"8\" y=\"-12878.3\" font-family=\"Times,serif\" font-size=\"14.00\">641 : numerical</text>\n<text text-anchor=\"start\" x=\"8\" y=\"-12863.3\" font-family=\"Times,serif\" font-size=\"14.00\">642 : numerical</text>\n<text text-anchor=\"start\" x=\"8\" y=\"-12848.3\" font-family=\"Times,serif\" font-size=\"14.00\">643 : numerical</text>\n<text text-anchor=\"start\" x=\"8\" y=\"-12833.3\" font-family=\"Times,serif\" font-size=\"14.00\">644 : numerical</text>\n<text text-anchor=\"start\" x=\"8\" y=\"-12818.3\" font-family=\"Times,serif\" font-size=\"14.00\">645 : numerical</text>\n<text text-anchor=\"start\" x=\"8\" y=\"-12803.3\" font-family=\"Times,serif\" font-size=\"14.00\">646 : numerical</text>\n<text text-anchor=\"start\" x=\"8\" y=\"-12788.3\" font-family=\"Times,serif\" font-size=\"14.00\">647 : numerical</text>\n<text text-anchor=\"start\" x=\"8\" y=\"-12773.3\" font-family=\"Times,serif\" font-size=\"14.00\">648 : numerical</text>\n<text text-anchor=\"start\" x=\"8\" y=\"-12758.3\" font-family=\"Times,serif\" font-size=\"14.00\">649 : numerical</text>\n<text text-anchor=\"start\" x=\"8\" y=\"-12743.3\" font-family=\"Times,serif\" font-size=\"14.00\">650 : numerical</text>\n<text text-anchor=\"start\" x=\"8\" y=\"-12728.3\" font-family=\"Times,serif\" font-size=\"14.00\">651 : numerical</text>\n<text text-anchor=\"start\" x=\"8\" y=\"-12713.3\" font-family=\"Times,serif\" font-size=\"14.00\">652 : numerical</text>\n<text text-anchor=\"start\" x=\"8\" y=\"-12698.3\" font-family=\"Times,serif\" font-size=\"14.00\">653 : numerical</text>\n<text text-anchor=\"start\" x=\"8\" y=\"-12683.3\" font-family=\"Times,serif\" font-size=\"14.00\">654 : numerical</text>\n<text text-anchor=\"start\" x=\"8\" y=\"-12668.3\" font-family=\"Times,serif\" font-size=\"14.00\">655 : numerical</text>\n<text text-anchor=\"start\" x=\"8\" y=\"-12653.3\" font-family=\"Times,serif\" font-size=\"14.00\">656 : numerical</text>\n<text text-anchor=\"start\" x=\"8\" y=\"-12638.3\" font-family=\"Times,serif\" font-size=\"14.00\">657 : numerical</text>\n<text text-anchor=\"start\" x=\"8\" y=\"-12623.3\" font-family=\"Times,serif\" font-size=\"14.00\">658 : numerical</text>\n<text text-anchor=\"start\" x=\"8\" y=\"-12608.3\" font-family=\"Times,serif\" font-size=\"14.00\">659 : numerical</text>\n<text text-anchor=\"start\" x=\"8\" y=\"-12593.3\" font-family=\"Times,serif\" font-size=\"14.00\">660 : numerical</text>\n<text text-anchor=\"start\" x=\"8\" y=\"-12578.3\" font-family=\"Times,serif\" font-size=\"14.00\">661 : numerical</text>\n<text text-anchor=\"start\" x=\"8\" y=\"-12563.3\" font-family=\"Times,serif\" font-size=\"14.00\">662 : numerical</text>\n<text text-anchor=\"start\" x=\"8\" y=\"-12548.3\" font-family=\"Times,serif\" font-size=\"14.00\">663 : numerical</text>\n<text text-anchor=\"start\" x=\"8\" y=\"-12533.3\" font-family=\"Times,serif\" font-size=\"14.00\">664 : numerical</text>\n<text text-anchor=\"start\" x=\"8\" y=\"-12518.3\" font-family=\"Times,serif\" font-size=\"14.00\">665 : numerical</text>\n<text text-anchor=\"start\" x=\"8\" y=\"-12503.3\" font-family=\"Times,serif\" font-size=\"14.00\">666 : numerical</text>\n<text text-anchor=\"start\" x=\"8\" y=\"-12488.3\" font-family=\"Times,serif\" font-size=\"14.00\">667 : numerical</text>\n<text text-anchor=\"start\" x=\"8\" y=\"-12473.3\" font-family=\"Times,serif\" font-size=\"14.00\">668 : numerical</text>\n<text text-anchor=\"start\" x=\"8\" y=\"-12458.3\" font-family=\"Times,serif\" font-size=\"14.00\">669 : numerical</text>\n<text text-anchor=\"start\" x=\"8\" y=\"-12443.3\" font-family=\"Times,serif\" font-size=\"14.00\">670 : numerical</text>\n<text text-anchor=\"start\" x=\"8\" y=\"-12428.3\" font-family=\"Times,serif\" font-size=\"14.00\">671 : numerical</text>\n<text text-anchor=\"start\" x=\"8\" y=\"-12413.3\" font-family=\"Times,serif\" font-size=\"14.00\">672 : numerical</text>\n<text text-anchor=\"start\" x=\"8\" y=\"-12398.3\" font-family=\"Times,serif\" font-size=\"14.00\">673 : numerical</text>\n<text text-anchor=\"start\" x=\"8\" y=\"-12383.3\" font-family=\"Times,serif\" font-size=\"14.00\">674 : numerical</text>\n<text text-anchor=\"start\" x=\"8\" y=\"-12368.3\" font-family=\"Times,serif\" font-size=\"14.00\">675 : numerical</text>\n<text text-anchor=\"start\" x=\"8\" y=\"-12353.3\" font-family=\"Times,serif\" font-size=\"14.00\">676 : numerical</text>\n<text text-anchor=\"start\" x=\"8\" y=\"-12338.3\" font-family=\"Times,serif\" font-size=\"14.00\">677 : numerical</text>\n<text text-anchor=\"start\" x=\"8\" y=\"-12323.3\" font-family=\"Times,serif\" font-size=\"14.00\">678 : numerical</text>\n<text text-anchor=\"start\" x=\"8\" y=\"-12308.3\" font-family=\"Times,serif\" font-size=\"14.00\">679 : numerical</text>\n<text text-anchor=\"start\" x=\"8\" y=\"-12293.3\" font-family=\"Times,serif\" font-size=\"14.00\">680 : numerical</text>\n<text text-anchor=\"start\" x=\"8\" y=\"-12278.3\" font-family=\"Times,serif\" font-size=\"14.00\">681 : numerical</text>\n<text text-anchor=\"start\" x=\"8\" y=\"-12263.3\" font-family=\"Times,serif\" font-size=\"14.00\">682 : numerical</text>\n<text text-anchor=\"start\" x=\"8\" y=\"-12248.3\" font-family=\"Times,serif\" font-size=\"14.00\">683 : numerical</text>\n<text text-anchor=\"start\" x=\"8\" y=\"-12233.3\" font-family=\"Times,serif\" font-size=\"14.00\">684 : numerical</text>\n<text text-anchor=\"start\" x=\"8\" y=\"-12218.3\" font-family=\"Times,serif\" font-size=\"14.00\">685 : numerical</text>\n<text text-anchor=\"start\" x=\"8\" y=\"-12203.3\" font-family=\"Times,serif\" font-size=\"14.00\">686 : numerical</text>\n<text text-anchor=\"start\" x=\"8\" y=\"-12188.3\" font-family=\"Times,serif\" font-size=\"14.00\">687 : numerical</text>\n<text text-anchor=\"start\" x=\"8\" y=\"-12173.3\" font-family=\"Times,serif\" font-size=\"14.00\">688 : numerical</text>\n<text text-anchor=\"start\" x=\"8\" y=\"-12158.3\" font-family=\"Times,serif\" font-size=\"14.00\">689 : numerical</text>\n<text text-anchor=\"start\" x=\"8\" y=\"-12143.3\" font-family=\"Times,serif\" font-size=\"14.00\">690 : numerical</text>\n<text text-anchor=\"start\" x=\"8\" y=\"-12128.3\" font-family=\"Times,serif\" font-size=\"14.00\">691 : numerical</text>\n<text text-anchor=\"start\" x=\"8\" y=\"-12113.3\" font-family=\"Times,serif\" font-size=\"14.00\">692 : numerical</text>\n<text text-anchor=\"start\" x=\"8\" y=\"-12098.3\" font-family=\"Times,serif\" font-size=\"14.00\">693 : numerical</text>\n<text text-anchor=\"start\" x=\"8\" y=\"-12083.3\" font-family=\"Times,serif\" font-size=\"14.00\">694 : numerical</text>\n<text text-anchor=\"start\" x=\"8\" y=\"-12068.3\" font-family=\"Times,serif\" font-size=\"14.00\">695 : numerical</text>\n<text text-anchor=\"start\" x=\"8\" y=\"-12053.3\" font-family=\"Times,serif\" font-size=\"14.00\">696 : numerical</text>\n<text text-anchor=\"start\" x=\"8\" y=\"-12038.3\" font-family=\"Times,serif\" font-size=\"14.00\">697 : numerical</text>\n<text text-anchor=\"start\" x=\"8\" y=\"-12023.3\" font-family=\"Times,serif\" font-size=\"14.00\">698 : numerical</text>\n<text text-anchor=\"start\" x=\"8\" y=\"-12008.3\" font-family=\"Times,serif\" font-size=\"14.00\">699 : numerical</text>\n<text text-anchor=\"start\" x=\"8\" y=\"-11993.3\" font-family=\"Times,serif\" font-size=\"14.00\">700 : numerical</text>\n<text text-anchor=\"start\" x=\"8\" y=\"-11978.3\" font-family=\"Times,serif\" font-size=\"14.00\">701 : numerical</text>\n<text text-anchor=\"start\" x=\"8\" y=\"-11963.3\" font-family=\"Times,serif\" font-size=\"14.00\">702 : numerical</text>\n<text text-anchor=\"start\" x=\"8\" y=\"-11948.3\" font-family=\"Times,serif\" font-size=\"14.00\">703 : numerical</text>\n<text text-anchor=\"start\" x=\"8\" y=\"-11933.3\" font-family=\"Times,serif\" font-size=\"14.00\">704 : numerical</text>\n<text text-anchor=\"start\" x=\"8\" y=\"-11918.3\" font-family=\"Times,serif\" font-size=\"14.00\">705 : numerical</text>\n<text text-anchor=\"start\" x=\"8\" y=\"-11903.3\" font-family=\"Times,serif\" font-size=\"14.00\">706 : numerical</text>\n<text text-anchor=\"start\" x=\"8\" y=\"-11888.3\" font-family=\"Times,serif\" font-size=\"14.00\">707 : numerical</text>\n<text text-anchor=\"start\" x=\"8\" y=\"-11873.3\" font-family=\"Times,serif\" font-size=\"14.00\">708 : numerical</text>\n<text text-anchor=\"start\" x=\"8\" y=\"-11858.3\" font-family=\"Times,serif\" font-size=\"14.00\">709 : numerical</text>\n<text text-anchor=\"start\" x=\"8\" y=\"-11843.3\" font-family=\"Times,serif\" font-size=\"14.00\">710 : numerical</text>\n<text text-anchor=\"start\" x=\"8\" y=\"-11828.3\" font-family=\"Times,serif\" font-size=\"14.00\">711 : numerical</text>\n<text text-anchor=\"start\" x=\"8\" y=\"-11813.3\" font-family=\"Times,serif\" font-size=\"14.00\">712 : numerical</text>\n<text text-anchor=\"start\" x=\"8\" y=\"-11798.3\" font-family=\"Times,serif\" font-size=\"14.00\">713 : numerical</text>\n<text text-anchor=\"start\" x=\"8\" y=\"-11783.3\" font-family=\"Times,serif\" font-size=\"14.00\">714 : numerical</text>\n<text text-anchor=\"start\" x=\"8\" y=\"-11768.3\" font-family=\"Times,serif\" font-size=\"14.00\">715 : numerical</text>\n<text text-anchor=\"start\" x=\"8\" y=\"-11753.3\" font-family=\"Times,serif\" font-size=\"14.00\">716 : numerical</text>\n<text text-anchor=\"start\" x=\"8\" y=\"-11738.3\" font-family=\"Times,serif\" font-size=\"14.00\">717 : numerical</text>\n<text text-anchor=\"start\" x=\"8\" y=\"-11723.3\" font-family=\"Times,serif\" font-size=\"14.00\">718 : numerical</text>\n<text text-anchor=\"start\" x=\"8\" y=\"-11708.3\" font-family=\"Times,serif\" font-size=\"14.00\">719 : numerical</text>\n<text text-anchor=\"start\" x=\"8\" y=\"-11693.3\" font-family=\"Times,serif\" font-size=\"14.00\">720 : numerical</text>\n<text text-anchor=\"start\" x=\"8\" y=\"-11678.3\" font-family=\"Times,serif\" font-size=\"14.00\">721 : numerical</text>\n<text text-anchor=\"start\" x=\"8\" y=\"-11663.3\" font-family=\"Times,serif\" font-size=\"14.00\">722 : numerical</text>\n<text text-anchor=\"start\" x=\"8\" y=\"-11648.3\" font-family=\"Times,serif\" font-size=\"14.00\">723 : numerical</text>\n<text text-anchor=\"start\" x=\"8\" y=\"-11633.3\" font-family=\"Times,serif\" font-size=\"14.00\">724 : numerical</text>\n<text text-anchor=\"start\" x=\"8\" y=\"-11618.3\" font-family=\"Times,serif\" font-size=\"14.00\">725 : numerical</text>\n<text text-anchor=\"start\" x=\"8\" y=\"-11603.3\" font-family=\"Times,serif\" font-size=\"14.00\">726 : numerical</text>\n<text text-anchor=\"start\" x=\"8\" y=\"-11588.3\" font-family=\"Times,serif\" font-size=\"14.00\">727 : numerical</text>\n<text text-anchor=\"start\" x=\"8\" y=\"-11573.3\" font-family=\"Times,serif\" font-size=\"14.00\">728 : numerical</text>\n<text text-anchor=\"start\" x=\"8\" y=\"-11558.3\" font-family=\"Times,serif\" font-size=\"14.00\">729 : numerical</text>\n<text text-anchor=\"start\" x=\"8\" y=\"-11543.3\" font-family=\"Times,serif\" font-size=\"14.00\">730 : numerical</text>\n<text text-anchor=\"start\" x=\"8\" y=\"-11528.3\" font-family=\"Times,serif\" font-size=\"14.00\">731 : numerical</text>\n<text text-anchor=\"start\" x=\"8\" y=\"-11513.3\" font-family=\"Times,serif\" font-size=\"14.00\">732 : numerical</text>\n<text text-anchor=\"start\" x=\"8\" y=\"-11498.3\" font-family=\"Times,serif\" font-size=\"14.00\">733 : numerical</text>\n<text text-anchor=\"start\" x=\"8\" y=\"-11483.3\" font-family=\"Times,serif\" font-size=\"14.00\">734 : numerical</text>\n<text text-anchor=\"start\" x=\"8\" y=\"-11468.3\" font-family=\"Times,serif\" font-size=\"14.00\">735 : numerical</text>\n<text text-anchor=\"start\" x=\"8\" y=\"-11453.3\" font-family=\"Times,serif\" font-size=\"14.00\">736 : numerical</text>\n<text text-anchor=\"start\" x=\"8\" y=\"-11438.3\" font-family=\"Times,serif\" font-size=\"14.00\">737 : numerical</text>\n<text text-anchor=\"start\" x=\"8\" y=\"-11423.3\" font-family=\"Times,serif\" font-size=\"14.00\">738 : numerical</text>\n<text text-anchor=\"start\" x=\"8\" y=\"-11408.3\" font-family=\"Times,serif\" font-size=\"14.00\">739 : numerical</text>\n<text text-anchor=\"start\" x=\"8\" y=\"-11393.3\" font-family=\"Times,serif\" font-size=\"14.00\">740 : numerical</text>\n<text text-anchor=\"start\" x=\"8\" y=\"-11378.3\" font-family=\"Times,serif\" font-size=\"14.00\">741 : numerical</text>\n<text text-anchor=\"start\" x=\"8\" y=\"-11363.3\" font-family=\"Times,serif\" font-size=\"14.00\">742 : numerical</text>\n<text text-anchor=\"start\" x=\"8\" y=\"-11348.3\" font-family=\"Times,serif\" font-size=\"14.00\">743 : numerical</text>\n<text text-anchor=\"start\" x=\"8\" y=\"-11333.3\" font-family=\"Times,serif\" font-size=\"14.00\">744 : numerical</text>\n<text text-anchor=\"start\" x=\"8\" y=\"-11318.3\" font-family=\"Times,serif\" font-size=\"14.00\">745 : numerical</text>\n<text text-anchor=\"start\" x=\"8\" y=\"-11303.3\" font-family=\"Times,serif\" font-size=\"14.00\">746 : numerical</text>\n<text text-anchor=\"start\" x=\"8\" y=\"-11288.3\" font-family=\"Times,serif\" font-size=\"14.00\">747 : numerical</text>\n<text text-anchor=\"start\" x=\"8\" y=\"-11273.3\" font-family=\"Times,serif\" font-size=\"14.00\">748 : numerical</text>\n<text text-anchor=\"start\" x=\"8\" y=\"-11258.3\" font-family=\"Times,serif\" font-size=\"14.00\">749 : numerical</text>\n<text text-anchor=\"start\" x=\"8\" y=\"-11243.3\" font-family=\"Times,serif\" font-size=\"14.00\">750 : numerical</text>\n<text text-anchor=\"start\" x=\"8\" y=\"-11228.3\" font-family=\"Times,serif\" font-size=\"14.00\">751 : numerical</text>\n<text text-anchor=\"start\" x=\"8\" y=\"-11213.3\" font-family=\"Times,serif\" font-size=\"14.00\">752 : numerical</text>\n<text text-anchor=\"start\" x=\"8\" y=\"-11198.3\" font-family=\"Times,serif\" font-size=\"14.00\">753 : numerical</text>\n<text text-anchor=\"start\" x=\"8\" y=\"-11183.3\" font-family=\"Times,serif\" font-size=\"14.00\">754 : numerical</text>\n<text text-anchor=\"start\" x=\"8\" y=\"-11168.3\" font-family=\"Times,serif\" font-size=\"14.00\">755 : numerical</text>\n<text text-anchor=\"start\" x=\"8\" y=\"-11153.3\" font-family=\"Times,serif\" font-size=\"14.00\">756 : numerical</text>\n<text text-anchor=\"start\" x=\"8\" y=\"-11138.3\" font-family=\"Times,serif\" font-size=\"14.00\">757 : numerical</text>\n<text text-anchor=\"start\" x=\"8\" y=\"-11123.3\" font-family=\"Times,serif\" font-size=\"14.00\">758 : numerical</text>\n<text text-anchor=\"start\" x=\"8\" y=\"-11108.3\" font-family=\"Times,serif\" font-size=\"14.00\">759 : numerical</text>\n<text text-anchor=\"start\" x=\"8\" y=\"-11093.3\" font-family=\"Times,serif\" font-size=\"14.00\">760 : numerical</text>\n<text text-anchor=\"start\" x=\"8\" y=\"-11078.3\" font-family=\"Times,serif\" font-size=\"14.00\">761 : numerical</text>\n<text text-anchor=\"start\" x=\"8\" y=\"-11063.3\" font-family=\"Times,serif\" font-size=\"14.00\">762 : numerical</text>\n<text text-anchor=\"start\" x=\"8\" y=\"-11048.3\" font-family=\"Times,serif\" font-size=\"14.00\">763 : numerical</text>\n<text text-anchor=\"start\" x=\"8\" y=\"-11033.3\" font-family=\"Times,serif\" font-size=\"14.00\">764 : numerical</text>\n<text text-anchor=\"start\" x=\"8\" y=\"-11018.3\" font-family=\"Times,serif\" font-size=\"14.00\">765 : numerical</text>\n<text text-anchor=\"start\" x=\"8\" y=\"-11003.3\" font-family=\"Times,serif\" font-size=\"14.00\">766 : numerical</text>\n<text text-anchor=\"start\" x=\"8\" y=\"-10988.3\" font-family=\"Times,serif\" font-size=\"14.00\">767 : numerical</text>\n<text text-anchor=\"start\" x=\"8\" y=\"-10973.3\" font-family=\"Times,serif\" font-size=\"14.00\">768 : numerical</text>\n<text text-anchor=\"start\" x=\"8\" y=\"-10958.3\" font-family=\"Times,serif\" font-size=\"14.00\">769 : numerical</text>\n<text text-anchor=\"start\" x=\"8\" y=\"-10943.3\" font-family=\"Times,serif\" font-size=\"14.00\">770 : numerical</text>\n<text text-anchor=\"start\" x=\"8\" y=\"-10928.3\" font-family=\"Times,serif\" font-size=\"14.00\">771 : numerical</text>\n<text text-anchor=\"start\" x=\"8\" y=\"-10913.3\" font-family=\"Times,serif\" font-size=\"14.00\">772 : numerical</text>\n<text text-anchor=\"start\" x=\"8\" y=\"-10898.3\" font-family=\"Times,serif\" font-size=\"14.00\">773 : numerical</text>\n<text text-anchor=\"start\" x=\"8\" y=\"-10883.3\" font-family=\"Times,serif\" font-size=\"14.00\">774 : numerical</text>\n<text text-anchor=\"start\" x=\"8\" y=\"-10868.3\" font-family=\"Times,serif\" font-size=\"14.00\">775 : numerical</text>\n<text text-anchor=\"start\" x=\"8\" y=\"-10853.3\" font-family=\"Times,serif\" font-size=\"14.00\">776 : numerical</text>\n<text text-anchor=\"start\" x=\"8\" y=\"-10838.3\" font-family=\"Times,serif\" font-size=\"14.00\">777 : numerical</text>\n<text text-anchor=\"start\" x=\"8\" y=\"-10823.3\" font-family=\"Times,serif\" font-size=\"14.00\">778 : numerical</text>\n<text text-anchor=\"start\" x=\"8\" y=\"-10808.3\" font-family=\"Times,serif\" font-size=\"14.00\">779 : numerical</text>\n<text text-anchor=\"start\" x=\"8\" y=\"-10793.3\" font-family=\"Times,serif\" font-size=\"14.00\">780 : numerical</text>\n<text text-anchor=\"start\" x=\"8\" y=\"-10778.3\" font-family=\"Times,serif\" font-size=\"14.00\">781 : numerical</text>\n<text text-anchor=\"start\" x=\"8\" y=\"-10763.3\" font-family=\"Times,serif\" font-size=\"14.00\">782 : numerical</text>\n<text text-anchor=\"start\" x=\"8\" y=\"-10748.3\" font-family=\"Times,serif\" font-size=\"14.00\">783 : numerical</text>\n<text text-anchor=\"start\" x=\"8\" y=\"-10733.3\" font-family=\"Times,serif\" font-size=\"14.00\">784 : numerical</text>\n<text text-anchor=\"start\" x=\"8\" y=\"-10718.3\" font-family=\"Times,serif\" font-size=\"14.00\">785 : numerical</text>\n<text text-anchor=\"start\" x=\"8\" y=\"-10703.3\" font-family=\"Times,serif\" font-size=\"14.00\">786 : numerical</text>\n<text text-anchor=\"start\" x=\"8\" y=\"-10688.3\" font-family=\"Times,serif\" font-size=\"14.00\">787 : numerical</text>\n<text text-anchor=\"start\" x=\"8\" y=\"-10673.3\" font-family=\"Times,serif\" font-size=\"14.00\">788 : numerical</text>\n<text text-anchor=\"start\" x=\"8\" y=\"-10658.3\" font-family=\"Times,serif\" font-size=\"14.00\">789 : numerical</text>\n<text text-anchor=\"start\" x=\"8\" y=\"-10643.3\" font-family=\"Times,serif\" font-size=\"14.00\">790 : numerical</text>\n<text text-anchor=\"start\" x=\"8\" y=\"-10628.3\" font-family=\"Times,serif\" font-size=\"14.00\">791 : numerical</text>\n<text text-anchor=\"start\" x=\"8\" y=\"-10613.3\" font-family=\"Times,serif\" font-size=\"14.00\">792 : numerical</text>\n<text text-anchor=\"start\" x=\"8\" y=\"-10598.3\" font-family=\"Times,serif\" font-size=\"14.00\">793 : numerical</text>\n<text text-anchor=\"start\" x=\"8\" y=\"-10583.3\" font-family=\"Times,serif\" font-size=\"14.00\">794 : numerical</text>\n<text text-anchor=\"start\" x=\"8\" y=\"-10568.3\" font-family=\"Times,serif\" font-size=\"14.00\">795 : numerical</text>\n<text text-anchor=\"start\" x=\"8\" y=\"-10553.3\" font-family=\"Times,serif\" font-size=\"14.00\">796 : numerical</text>\n<text text-anchor=\"start\" x=\"8\" y=\"-10538.3\" font-family=\"Times,serif\" font-size=\"14.00\">797 : numerical</text>\n<text text-anchor=\"start\" x=\"8\" y=\"-10523.3\" font-family=\"Times,serif\" font-size=\"14.00\">798 : numerical</text>\n<text text-anchor=\"start\" x=\"8\" y=\"-10508.3\" font-family=\"Times,serif\" font-size=\"14.00\">799 : numerical</text>\n<text text-anchor=\"start\" x=\"8\" y=\"-10493.3\" font-family=\"Times,serif\" font-size=\"14.00\">800 : numerical</text>\n<text text-anchor=\"start\" x=\"8\" y=\"-10478.3\" font-family=\"Times,serif\" font-size=\"14.00\">801 : numerical</text>\n<text text-anchor=\"start\" x=\"8\" y=\"-10463.3\" font-family=\"Times,serif\" font-size=\"14.00\">802 : numerical</text>\n<text text-anchor=\"start\" x=\"8\" y=\"-10448.3\" font-family=\"Times,serif\" font-size=\"14.00\">803 : numerical</text>\n<text text-anchor=\"start\" x=\"8\" y=\"-10433.3\" font-family=\"Times,serif\" font-size=\"14.00\">804 : numerical</text>\n<text text-anchor=\"start\" x=\"8\" y=\"-10418.3\" font-family=\"Times,serif\" font-size=\"14.00\">805 : numerical</text>\n<text text-anchor=\"start\" x=\"8\" y=\"-10403.3\" font-family=\"Times,serif\" font-size=\"14.00\">806 : numerical</text>\n<text text-anchor=\"start\" x=\"8\" y=\"-10388.3\" font-family=\"Times,serif\" font-size=\"14.00\">807 : numerical</text>\n<text text-anchor=\"start\" x=\"8\" y=\"-10373.3\" font-family=\"Times,serif\" font-size=\"14.00\">808 : numerical</text>\n<text text-anchor=\"start\" x=\"8\" y=\"-10358.3\" font-family=\"Times,serif\" font-size=\"14.00\">809 : numerical</text>\n<text text-anchor=\"start\" x=\"8\" y=\"-10343.3\" font-family=\"Times,serif\" font-size=\"14.00\">810 : numerical</text>\n<text text-anchor=\"start\" x=\"8\" y=\"-10328.3\" font-family=\"Times,serif\" font-size=\"14.00\">811 : numerical</text>\n<text text-anchor=\"start\" x=\"8\" y=\"-10313.3\" font-family=\"Times,serif\" font-size=\"14.00\">812 : numerical</text>\n<text text-anchor=\"start\" x=\"8\" y=\"-10298.3\" font-family=\"Times,serif\" font-size=\"14.00\">813 : numerical</text>\n<text text-anchor=\"start\" x=\"8\" y=\"-10283.3\" font-family=\"Times,serif\" font-size=\"14.00\">814 : numerical</text>\n<text text-anchor=\"start\" x=\"8\" y=\"-10268.3\" font-family=\"Times,serif\" font-size=\"14.00\">815 : numerical</text>\n<text text-anchor=\"start\" x=\"8\" y=\"-10253.3\" font-family=\"Times,serif\" font-size=\"14.00\">816 : numerical</text>\n<text text-anchor=\"start\" x=\"8\" y=\"-10238.3\" font-family=\"Times,serif\" font-size=\"14.00\">817 : numerical</text>\n<text text-anchor=\"start\" x=\"8\" y=\"-10223.3\" font-family=\"Times,serif\" font-size=\"14.00\">818 : numerical</text>\n<text text-anchor=\"start\" x=\"8\" y=\"-10208.3\" font-family=\"Times,serif\" font-size=\"14.00\">819 : numerical</text>\n<text text-anchor=\"start\" x=\"8\" y=\"-10193.3\" font-family=\"Times,serif\" font-size=\"14.00\">820 : numerical</text>\n<text text-anchor=\"start\" x=\"8\" y=\"-10178.3\" font-family=\"Times,serif\" font-size=\"14.00\">821 : numerical</text>\n<text text-anchor=\"start\" x=\"8\" y=\"-10163.3\" font-family=\"Times,serif\" font-size=\"14.00\">822 : numerical</text>\n<text text-anchor=\"start\" x=\"8\" y=\"-10148.3\" font-family=\"Times,serif\" font-size=\"14.00\">823 : numerical</text>\n<text text-anchor=\"start\" x=\"8\" y=\"-10133.3\" font-family=\"Times,serif\" font-size=\"14.00\">824 : numerical</text>\n<text text-anchor=\"start\" x=\"8\" y=\"-10118.3\" font-family=\"Times,serif\" font-size=\"14.00\">825 : numerical</text>\n<text text-anchor=\"start\" x=\"8\" y=\"-10103.3\" font-family=\"Times,serif\" font-size=\"14.00\">826 : numerical</text>\n<text text-anchor=\"start\" x=\"8\" y=\"-10088.3\" font-family=\"Times,serif\" font-size=\"14.00\">827 : numerical</text>\n<text text-anchor=\"start\" x=\"8\" y=\"-10073.3\" font-family=\"Times,serif\" font-size=\"14.00\">828 : numerical</text>\n<text text-anchor=\"start\" x=\"8\" y=\"-10058.3\" font-family=\"Times,serif\" font-size=\"14.00\">829 : numerical</text>\n<text text-anchor=\"start\" x=\"8\" y=\"-10043.3\" font-family=\"Times,serif\" font-size=\"14.00\">830 : numerical</text>\n<text text-anchor=\"start\" x=\"8\" y=\"-10028.3\" font-family=\"Times,serif\" font-size=\"14.00\">831 : numerical</text>\n<text text-anchor=\"start\" x=\"8\" y=\"-10013.3\" font-family=\"Times,serif\" font-size=\"14.00\">832 : numerical</text>\n<text text-anchor=\"start\" x=\"8\" y=\"-9998.3\" font-family=\"Times,serif\" font-size=\"14.00\">833 : numerical</text>\n<text text-anchor=\"start\" x=\"8\" y=\"-9983.3\" font-family=\"Times,serif\" font-size=\"14.00\">834 : numerical</text>\n<text text-anchor=\"start\" x=\"8\" y=\"-9968.3\" font-family=\"Times,serif\" font-size=\"14.00\">835 : numerical</text>\n<text text-anchor=\"start\" x=\"8\" y=\"-9953.3\" font-family=\"Times,serif\" font-size=\"14.00\">836 : numerical</text>\n<text text-anchor=\"start\" x=\"8\" y=\"-9938.3\" font-family=\"Times,serif\" font-size=\"14.00\">837 : numerical</text>\n<text text-anchor=\"start\" x=\"8\" y=\"-9923.3\" font-family=\"Times,serif\" font-size=\"14.00\">838 : numerical</text>\n<text text-anchor=\"start\" x=\"8\" y=\"-9908.3\" font-family=\"Times,serif\" font-size=\"14.00\">839 : numerical</text>\n<text text-anchor=\"start\" x=\"8\" y=\"-9893.3\" font-family=\"Times,serif\" font-size=\"14.00\">840 : numerical</text>\n<text text-anchor=\"start\" x=\"8\" y=\"-9878.3\" font-family=\"Times,serif\" font-size=\"14.00\">841 : numerical</text>\n<text text-anchor=\"start\" x=\"8\" y=\"-9863.3\" font-family=\"Times,serif\" font-size=\"14.00\">842 : numerical</text>\n<text text-anchor=\"start\" x=\"8\" y=\"-9848.3\" font-family=\"Times,serif\" font-size=\"14.00\">843 : numerical</text>\n<text text-anchor=\"start\" x=\"8\" y=\"-9833.3\" font-family=\"Times,serif\" font-size=\"14.00\">844 : numerical</text>\n<text text-anchor=\"start\" x=\"8\" y=\"-9818.3\" font-family=\"Times,serif\" font-size=\"14.00\">845 : numerical</text>\n<text text-anchor=\"start\" x=\"8\" y=\"-9803.3\" font-family=\"Times,serif\" font-size=\"14.00\">846 : numerical</text>\n<text text-anchor=\"start\" x=\"8\" y=\"-9788.3\" font-family=\"Times,serif\" font-size=\"14.00\">847 : numerical</text>\n<text text-anchor=\"start\" x=\"8\" y=\"-9773.3\" font-family=\"Times,serif\" font-size=\"14.00\">848 : numerical</text>\n<text text-anchor=\"start\" x=\"8\" y=\"-9758.3\" font-family=\"Times,serif\" font-size=\"14.00\">849 : numerical</text>\n<text text-anchor=\"start\" x=\"8\" y=\"-9743.3\" font-family=\"Times,serif\" font-size=\"14.00\">850 : numerical</text>\n<text text-anchor=\"start\" x=\"8\" y=\"-9728.3\" font-family=\"Times,serif\" font-size=\"14.00\">851 : numerical</text>\n<text text-anchor=\"start\" x=\"8\" y=\"-9713.3\" font-family=\"Times,serif\" font-size=\"14.00\">852 : numerical</text>\n<text text-anchor=\"start\" x=\"8\" y=\"-9698.3\" font-family=\"Times,serif\" font-size=\"14.00\">853 : numerical</text>\n<text text-anchor=\"start\" x=\"8\" y=\"-9683.3\" font-family=\"Times,serif\" font-size=\"14.00\">854 : numerical</text>\n<text text-anchor=\"start\" x=\"8\" y=\"-9668.3\" font-family=\"Times,serif\" font-size=\"14.00\">855 : numerical</text>\n<text text-anchor=\"start\" x=\"8\" y=\"-9653.3\" font-family=\"Times,serif\" font-size=\"14.00\">856 : numerical</text>\n<text text-anchor=\"start\" x=\"8\" y=\"-9638.3\" font-family=\"Times,serif\" font-size=\"14.00\">857 : numerical</text>\n<text text-anchor=\"start\" x=\"8\" y=\"-9623.3\" font-family=\"Times,serif\" font-size=\"14.00\">858 : numerical</text>\n<text text-anchor=\"start\" x=\"8\" y=\"-9608.3\" font-family=\"Times,serif\" font-size=\"14.00\">859 : numerical</text>\n<text text-anchor=\"start\" x=\"8\" y=\"-9593.3\" font-family=\"Times,serif\" font-size=\"14.00\">860 : numerical</text>\n<text text-anchor=\"start\" x=\"8\" y=\"-9578.3\" font-family=\"Times,serif\" font-size=\"14.00\">861 : numerical</text>\n<text text-anchor=\"start\" x=\"8\" y=\"-9563.3\" font-family=\"Times,serif\" font-size=\"14.00\">862 : numerical</text>\n<text text-anchor=\"start\" x=\"8\" y=\"-9548.3\" font-family=\"Times,serif\" font-size=\"14.00\">863 : numerical</text>\n<text text-anchor=\"start\" x=\"8\" y=\"-9533.3\" font-family=\"Times,serif\" font-size=\"14.00\">864 : numerical</text>\n<text text-anchor=\"start\" x=\"8\" y=\"-9518.3\" font-family=\"Times,serif\" font-size=\"14.00\">865 : numerical</text>\n<text text-anchor=\"start\" x=\"8\" y=\"-9503.3\" font-family=\"Times,serif\" font-size=\"14.00\">866 : numerical</text>\n<text text-anchor=\"start\" x=\"8\" y=\"-9488.3\" font-family=\"Times,serif\" font-size=\"14.00\">867 : numerical</text>\n<text text-anchor=\"start\" x=\"8\" y=\"-9473.3\" font-family=\"Times,serif\" font-size=\"14.00\">868 : numerical</text>\n<text text-anchor=\"start\" x=\"8\" y=\"-9458.3\" font-family=\"Times,serif\" font-size=\"14.00\">869 : numerical</text>\n<text text-anchor=\"start\" x=\"8\" y=\"-9443.3\" font-family=\"Times,serif\" font-size=\"14.00\">870 : numerical</text>\n<text text-anchor=\"start\" x=\"8\" y=\"-9428.3\" font-family=\"Times,serif\" font-size=\"14.00\">871 : numerical</text>\n<text text-anchor=\"start\" x=\"8\" y=\"-9413.3\" font-family=\"Times,serif\" font-size=\"14.00\">872 : numerical</text>\n<text text-anchor=\"start\" x=\"8\" y=\"-9398.3\" font-family=\"Times,serif\" font-size=\"14.00\">873 : numerical</text>\n<text text-anchor=\"start\" x=\"8\" y=\"-9383.3\" font-family=\"Times,serif\" font-size=\"14.00\">874 : numerical</text>\n<text text-anchor=\"start\" x=\"8\" y=\"-9368.3\" font-family=\"Times,serif\" font-size=\"14.00\">875 : numerical</text>\n<text text-anchor=\"start\" x=\"8\" y=\"-9353.3\" font-family=\"Times,serif\" font-size=\"14.00\">876 : numerical</text>\n<text text-anchor=\"start\" x=\"8\" y=\"-9338.3\" font-family=\"Times,serif\" font-size=\"14.00\">877 : numerical</text>\n<text text-anchor=\"start\" x=\"8\" y=\"-9323.3\" font-family=\"Times,serif\" font-size=\"14.00\">878 : numerical</text>\n<text text-anchor=\"start\" x=\"8\" y=\"-9308.3\" font-family=\"Times,serif\" font-size=\"14.00\">879 : numerical</text>\n<text text-anchor=\"start\" x=\"8\" y=\"-9293.3\" font-family=\"Times,serif\" font-size=\"14.00\">880 : numerical</text>\n<text text-anchor=\"start\" x=\"8\" y=\"-9278.3\" font-family=\"Times,serif\" font-size=\"14.00\">881 : numerical</text>\n<text text-anchor=\"start\" x=\"8\" y=\"-9263.3\" font-family=\"Times,serif\" font-size=\"14.00\">882 : numerical</text>\n<text text-anchor=\"start\" x=\"8\" y=\"-9248.3\" font-family=\"Times,serif\" font-size=\"14.00\">883 : numerical</text>\n<text text-anchor=\"start\" x=\"8\" y=\"-9233.3\" font-family=\"Times,serif\" font-size=\"14.00\">884 : numerical</text>\n<text text-anchor=\"start\" x=\"8\" y=\"-9218.3\" font-family=\"Times,serif\" font-size=\"14.00\">885 : numerical</text>\n<text text-anchor=\"start\" x=\"8\" y=\"-9203.3\" font-family=\"Times,serif\" font-size=\"14.00\">886 : numerical</text>\n<text text-anchor=\"start\" x=\"8\" y=\"-9188.3\" font-family=\"Times,serif\" font-size=\"14.00\">887 : numerical</text>\n<text text-anchor=\"start\" x=\"8\" y=\"-9173.3\" font-family=\"Times,serif\" font-size=\"14.00\">888 : numerical</text>\n<text text-anchor=\"start\" x=\"8\" y=\"-9158.3\" font-family=\"Times,serif\" font-size=\"14.00\">889 : numerical</text>\n<text text-anchor=\"start\" x=\"8\" y=\"-9143.3\" font-family=\"Times,serif\" font-size=\"14.00\">890 : numerical</text>\n<text text-anchor=\"start\" x=\"8\" y=\"-9128.3\" font-family=\"Times,serif\" font-size=\"14.00\">891 : numerical</text>\n<text text-anchor=\"start\" x=\"8\" y=\"-9113.3\" font-family=\"Times,serif\" font-size=\"14.00\">892 : numerical</text>\n<text text-anchor=\"start\" x=\"8\" y=\"-9098.3\" font-family=\"Times,serif\" font-size=\"14.00\">893 : numerical</text>\n<text text-anchor=\"start\" x=\"8\" y=\"-9083.3\" font-family=\"Times,serif\" font-size=\"14.00\">894 : numerical</text>\n<text text-anchor=\"start\" x=\"8\" y=\"-9068.3\" font-family=\"Times,serif\" font-size=\"14.00\">895 : numerical</text>\n<text text-anchor=\"start\" x=\"8\" y=\"-9053.3\" font-family=\"Times,serif\" font-size=\"14.00\">896 : numerical</text>\n<text text-anchor=\"start\" x=\"8\" y=\"-9038.3\" font-family=\"Times,serif\" font-size=\"14.00\">897 : numerical</text>\n<text text-anchor=\"start\" x=\"8\" y=\"-9023.3\" font-family=\"Times,serif\" font-size=\"14.00\">898 : numerical</text>\n<text text-anchor=\"start\" x=\"8\" y=\"-9008.3\" font-family=\"Times,serif\" font-size=\"14.00\">899 : numerical</text>\n<text text-anchor=\"start\" x=\"8\" y=\"-8993.3\" font-family=\"Times,serif\" font-size=\"14.00\">900 : numerical</text>\n<text text-anchor=\"start\" x=\"8\" y=\"-8978.3\" font-family=\"Times,serif\" font-size=\"14.00\">901 : numerical</text>\n<text text-anchor=\"start\" x=\"8\" y=\"-8963.3\" font-family=\"Times,serif\" font-size=\"14.00\">902 : numerical</text>\n<text text-anchor=\"start\" x=\"8\" y=\"-8948.3\" font-family=\"Times,serif\" font-size=\"14.00\">903 : numerical</text>\n<text text-anchor=\"start\" x=\"8\" y=\"-8933.3\" font-family=\"Times,serif\" font-size=\"14.00\">904 : numerical</text>\n<text text-anchor=\"start\" x=\"8\" y=\"-8918.3\" font-family=\"Times,serif\" font-size=\"14.00\">905 : numerical</text>\n<text text-anchor=\"start\" x=\"8\" y=\"-8903.3\" font-family=\"Times,serif\" font-size=\"14.00\">906 : numerical</text>\n<text text-anchor=\"start\" x=\"8\" y=\"-8888.3\" font-family=\"Times,serif\" font-size=\"14.00\">907 : numerical</text>\n<text text-anchor=\"start\" x=\"8\" y=\"-8873.3\" font-family=\"Times,serif\" font-size=\"14.00\">908 : numerical</text>\n<text text-anchor=\"start\" x=\"8\" y=\"-8858.3\" font-family=\"Times,serif\" font-size=\"14.00\">909 : numerical</text>\n<text text-anchor=\"start\" x=\"8\" y=\"-8843.3\" font-family=\"Times,serif\" font-size=\"14.00\">910 : numerical</text>\n<text text-anchor=\"start\" x=\"8\" y=\"-8828.3\" font-family=\"Times,serif\" font-size=\"14.00\">911 : numerical</text>\n<text text-anchor=\"start\" x=\"8\" y=\"-8813.3\" font-family=\"Times,serif\" font-size=\"14.00\">912 : numerical</text>\n<text text-anchor=\"start\" x=\"8\" y=\"-8798.3\" font-family=\"Times,serif\" font-size=\"14.00\">913 : numerical</text>\n<text text-anchor=\"start\" x=\"8\" y=\"-8783.3\" font-family=\"Times,serif\" font-size=\"14.00\">914 : numerical</text>\n<text text-anchor=\"start\" x=\"8\" y=\"-8768.3\" font-family=\"Times,serif\" font-size=\"14.00\">915 : numerical</text>\n<text text-anchor=\"start\" x=\"8\" y=\"-8753.3\" font-family=\"Times,serif\" font-size=\"14.00\">916 : numerical</text>\n<text text-anchor=\"start\" x=\"8\" y=\"-8738.3\" font-family=\"Times,serif\" font-size=\"14.00\">917 : numerical</text>\n<text text-anchor=\"start\" x=\"8\" y=\"-8723.3\" font-family=\"Times,serif\" font-size=\"14.00\">918 : numerical</text>\n<text text-anchor=\"start\" x=\"8\" y=\"-8708.3\" font-family=\"Times,serif\" font-size=\"14.00\">919 : numerical</text>\n<text text-anchor=\"start\" x=\"8\" y=\"-8693.3\" font-family=\"Times,serif\" font-size=\"14.00\">920 : numerical</text>\n<text text-anchor=\"start\" x=\"8\" y=\"-8678.3\" font-family=\"Times,serif\" font-size=\"14.00\">921 : numerical</text>\n<text text-anchor=\"start\" x=\"8\" y=\"-8663.3\" font-family=\"Times,serif\" font-size=\"14.00\">922 : numerical</text>\n<text text-anchor=\"start\" x=\"8\" y=\"-8648.3\" font-family=\"Times,serif\" font-size=\"14.00\">923 : numerical</text>\n<text text-anchor=\"start\" x=\"8\" y=\"-8633.3\" font-family=\"Times,serif\" font-size=\"14.00\">924 : numerical</text>\n<text text-anchor=\"start\" x=\"8\" y=\"-8618.3\" font-family=\"Times,serif\" font-size=\"14.00\">925 : numerical</text>\n<text text-anchor=\"start\" x=\"8\" y=\"-8603.3\" font-family=\"Times,serif\" font-size=\"14.00\">926 : numerical</text>\n<text text-anchor=\"start\" x=\"8\" y=\"-8588.3\" font-family=\"Times,serif\" font-size=\"14.00\">927 : numerical</text>\n<text text-anchor=\"start\" x=\"8\" y=\"-8573.3\" font-family=\"Times,serif\" font-size=\"14.00\">928 : numerical</text>\n<text text-anchor=\"start\" x=\"8\" y=\"-8558.3\" font-family=\"Times,serif\" font-size=\"14.00\">929 : numerical</text>\n<text text-anchor=\"start\" x=\"8\" y=\"-8543.3\" font-family=\"Times,serif\" font-size=\"14.00\">930 : numerical</text>\n<text text-anchor=\"start\" x=\"8\" y=\"-8528.3\" font-family=\"Times,serif\" font-size=\"14.00\">931 : numerical</text>\n<text text-anchor=\"start\" x=\"8\" y=\"-8513.3\" font-family=\"Times,serif\" font-size=\"14.00\">932 : numerical</text>\n<text text-anchor=\"start\" x=\"8\" y=\"-8498.3\" font-family=\"Times,serif\" font-size=\"14.00\">933 : numerical</text>\n<text text-anchor=\"start\" x=\"8\" y=\"-8483.3\" font-family=\"Times,serif\" font-size=\"14.00\">934 : numerical</text>\n<text text-anchor=\"start\" x=\"8\" y=\"-8468.3\" font-family=\"Times,serif\" font-size=\"14.00\">935 : numerical</text>\n<text text-anchor=\"start\" x=\"8\" y=\"-8453.3\" font-family=\"Times,serif\" font-size=\"14.00\">936 : numerical</text>\n<text text-anchor=\"start\" x=\"8\" y=\"-8438.3\" font-family=\"Times,serif\" font-size=\"14.00\">937 : numerical</text>\n<text text-anchor=\"start\" x=\"8\" y=\"-8423.3\" font-family=\"Times,serif\" font-size=\"14.00\">938 : numerical</text>\n<text text-anchor=\"start\" x=\"8\" y=\"-8408.3\" font-family=\"Times,serif\" font-size=\"14.00\">939 : numerical</text>\n<text text-anchor=\"start\" x=\"8\" y=\"-8393.3\" font-family=\"Times,serif\" font-size=\"14.00\">940 : numerical</text>\n<text text-anchor=\"start\" x=\"8\" y=\"-8378.3\" font-family=\"Times,serif\" font-size=\"14.00\">941 : numerical</text>\n<text text-anchor=\"start\" x=\"8\" y=\"-8363.3\" font-family=\"Times,serif\" font-size=\"14.00\">942 : numerical</text>\n<text text-anchor=\"start\" x=\"8\" y=\"-8348.3\" font-family=\"Times,serif\" font-size=\"14.00\">943 : numerical</text>\n<text text-anchor=\"start\" x=\"8\" y=\"-8333.3\" font-family=\"Times,serif\" font-size=\"14.00\">944 : numerical</text>\n<text text-anchor=\"start\" x=\"8\" y=\"-8318.3\" font-family=\"Times,serif\" font-size=\"14.00\">945 : numerical</text>\n<text text-anchor=\"start\" x=\"8\" y=\"-8303.3\" font-family=\"Times,serif\" font-size=\"14.00\">946 : numerical</text>\n<text text-anchor=\"start\" x=\"8\" y=\"-8288.3\" font-family=\"Times,serif\" font-size=\"14.00\">947 : numerical</text>\n<text text-anchor=\"start\" x=\"8\" y=\"-8273.3\" font-family=\"Times,serif\" font-size=\"14.00\">948 : numerical</text>\n<text text-anchor=\"start\" x=\"8\" y=\"-8258.3\" font-family=\"Times,serif\" font-size=\"14.00\">949 : numerical</text>\n<text text-anchor=\"start\" x=\"8\" y=\"-8243.3\" font-family=\"Times,serif\" font-size=\"14.00\">950 : numerical</text>\n<text text-anchor=\"start\" x=\"8\" y=\"-8228.3\" font-family=\"Times,serif\" font-size=\"14.00\">951 : numerical</text>\n<text text-anchor=\"start\" x=\"8\" y=\"-8213.3\" font-family=\"Times,serif\" font-size=\"14.00\">952 : numerical</text>\n<text text-anchor=\"start\" x=\"8\" y=\"-8198.3\" font-family=\"Times,serif\" font-size=\"14.00\">953 : numerical</text>\n<text text-anchor=\"start\" x=\"8\" y=\"-8183.3\" font-family=\"Times,serif\" font-size=\"14.00\">954 : numerical</text>\n<text text-anchor=\"start\" x=\"8\" y=\"-8168.3\" font-family=\"Times,serif\" font-size=\"14.00\">955 : numerical</text>\n<text text-anchor=\"start\" x=\"8\" y=\"-8153.3\" font-family=\"Times,serif\" font-size=\"14.00\">956 : numerical</text>\n<text text-anchor=\"start\" x=\"8\" y=\"-8138.3\" font-family=\"Times,serif\" font-size=\"14.00\">957 : numerical</text>\n<text text-anchor=\"start\" x=\"8\" y=\"-8123.3\" font-family=\"Times,serif\" font-size=\"14.00\">958 : numerical</text>\n<text text-anchor=\"start\" x=\"8\" y=\"-8108.3\" font-family=\"Times,serif\" font-size=\"14.00\">959 : numerical</text>\n<text text-anchor=\"start\" x=\"8\" y=\"-8093.3\" font-family=\"Times,serif\" font-size=\"14.00\">960 : numerical</text>\n<text text-anchor=\"start\" x=\"8\" y=\"-8078.3\" font-family=\"Times,serif\" font-size=\"14.00\">961 : numerical</text>\n<text text-anchor=\"start\" x=\"8\" y=\"-8063.3\" font-family=\"Times,serif\" font-size=\"14.00\">962 : numerical</text>\n<text text-anchor=\"start\" x=\"8\" y=\"-8048.3\" font-family=\"Times,serif\" font-size=\"14.00\">963 : numerical</text>\n<text text-anchor=\"start\" x=\"8\" y=\"-8033.3\" font-family=\"Times,serif\" font-size=\"14.00\">964 : numerical</text>\n<text text-anchor=\"start\" x=\"8\" y=\"-8018.3\" font-family=\"Times,serif\" font-size=\"14.00\">965 : numerical</text>\n<text text-anchor=\"start\" x=\"8\" y=\"-8003.3\" font-family=\"Times,serif\" font-size=\"14.00\">966 : numerical</text>\n<text text-anchor=\"start\" x=\"8\" y=\"-7988.3\" font-family=\"Times,serif\" font-size=\"14.00\">967 : numerical</text>\n<text text-anchor=\"start\" x=\"8\" y=\"-7973.3\" font-family=\"Times,serif\" font-size=\"14.00\">968 : numerical</text>\n<text text-anchor=\"start\" x=\"8\" y=\"-7958.3\" font-family=\"Times,serif\" font-size=\"14.00\">969 : numerical</text>\n<text text-anchor=\"start\" x=\"8\" y=\"-7943.3\" font-family=\"Times,serif\" font-size=\"14.00\">970 : numerical</text>\n<text text-anchor=\"start\" x=\"8\" y=\"-7928.3\" font-family=\"Times,serif\" font-size=\"14.00\">971 : numerical</text>\n<text text-anchor=\"start\" x=\"8\" y=\"-7913.3\" font-family=\"Times,serif\" font-size=\"14.00\">972 : numerical</text>\n<text text-anchor=\"start\" x=\"8\" y=\"-7898.3\" font-family=\"Times,serif\" font-size=\"14.00\">973 : numerical</text>\n<text text-anchor=\"start\" x=\"8\" y=\"-7883.3\" font-family=\"Times,serif\" font-size=\"14.00\">974 : numerical</text>\n<text text-anchor=\"start\" x=\"8\" y=\"-7868.3\" font-family=\"Times,serif\" font-size=\"14.00\">975 : numerical</text>\n<text text-anchor=\"start\" x=\"8\" y=\"-7853.3\" font-family=\"Times,serif\" font-size=\"14.00\">976 : numerical</text>\n<text text-anchor=\"start\" x=\"8\" y=\"-7838.3\" font-family=\"Times,serif\" font-size=\"14.00\">977 : numerical</text>\n<text text-anchor=\"start\" x=\"8\" y=\"-7823.3\" font-family=\"Times,serif\" font-size=\"14.00\">978 : numerical</text>\n<text text-anchor=\"start\" x=\"8\" y=\"-7808.3\" font-family=\"Times,serif\" font-size=\"14.00\">979 : numerical</text>\n<text text-anchor=\"start\" x=\"8\" y=\"-7793.3\" font-family=\"Times,serif\" font-size=\"14.00\">980 : numerical</text>\n<text text-anchor=\"start\" x=\"8\" y=\"-7778.3\" font-family=\"Times,serif\" font-size=\"14.00\">981 : numerical</text>\n<text text-anchor=\"start\" x=\"8\" y=\"-7763.3\" font-family=\"Times,serif\" font-size=\"14.00\">982 : numerical</text>\n<text text-anchor=\"start\" x=\"8\" y=\"-7748.3\" font-family=\"Times,serif\" font-size=\"14.00\">983 : numerical</text>\n<text text-anchor=\"start\" x=\"8\" y=\"-7733.3\" font-family=\"Times,serif\" font-size=\"14.00\">984 : numerical</text>\n<text text-anchor=\"start\" x=\"8\" y=\"-7718.3\" font-family=\"Times,serif\" font-size=\"14.00\">985 : numerical</text>\n<text text-anchor=\"start\" x=\"8\" y=\"-7703.3\" font-family=\"Times,serif\" font-size=\"14.00\">986 : numerical</text>\n<text text-anchor=\"start\" x=\"8\" y=\"-7688.3\" font-family=\"Times,serif\" font-size=\"14.00\">987 : numerical</text>\n<text text-anchor=\"start\" x=\"8\" y=\"-7673.3\" font-family=\"Times,serif\" font-size=\"14.00\">988 : numerical</text>\n<text text-anchor=\"start\" x=\"8\" y=\"-7658.3\" font-family=\"Times,serif\" font-size=\"14.00\">989 : numerical</text>\n<text text-anchor=\"start\" x=\"8\" y=\"-7643.3\" font-family=\"Times,serif\" font-size=\"14.00\">990 : numerical</text>\n<text text-anchor=\"start\" x=\"8\" y=\"-7628.3\" font-family=\"Times,serif\" font-size=\"14.00\">991 : numerical</text>\n<text text-anchor=\"start\" x=\"8\" y=\"-7613.3\" font-family=\"Times,serif\" font-size=\"14.00\">992 : numerical</text>\n<text text-anchor=\"start\" x=\"8\" y=\"-7598.3\" font-family=\"Times,serif\" font-size=\"14.00\">993 : numerical</text>\n<text text-anchor=\"start\" x=\"8\" y=\"-7583.3\" font-family=\"Times,serif\" font-size=\"14.00\">994 : numerical</text>\n<text text-anchor=\"start\" x=\"8\" y=\"-7568.3\" font-family=\"Times,serif\" font-size=\"14.00\">995 : numerical</text>\n<text text-anchor=\"start\" x=\"8\" y=\"-7553.3\" font-family=\"Times,serif\" font-size=\"14.00\">996 : numerical</text>\n<text text-anchor=\"start\" x=\"8\" y=\"-7538.3\" font-family=\"Times,serif\" font-size=\"14.00\">997 : numerical</text>\n<text text-anchor=\"start\" x=\"8\" y=\"-7523.3\" font-family=\"Times,serif\" font-size=\"14.00\">998 : numerical</text>\n<text text-anchor=\"start\" x=\"8\" y=\"-7508.3\" font-family=\"Times,serif\" font-size=\"14.00\">999 : numerical</text>\n<text text-anchor=\"start\" x=\"8\" y=\"-7493.3\" font-family=\"Times,serif\" font-size=\"14.00\">1000 : numerical</text>\n<text text-anchor=\"start\" x=\"8\" y=\"-7478.3\" font-family=\"Times,serif\" font-size=\"14.00\">1001 : numerical</text>\n<text text-anchor=\"start\" x=\"8\" y=\"-7463.3\" font-family=\"Times,serif\" font-size=\"14.00\">1002 : numerical</text>\n<text text-anchor=\"start\" x=\"8\" y=\"-7448.3\" font-family=\"Times,serif\" font-size=\"14.00\">1003 : numerical</text>\n<text text-anchor=\"start\" x=\"8\" y=\"-7433.3\" font-family=\"Times,serif\" font-size=\"14.00\">1004 : numerical</text>\n<text text-anchor=\"start\" x=\"8\" y=\"-7418.3\" font-family=\"Times,serif\" font-size=\"14.00\">1005 : numerical</text>\n<text text-anchor=\"start\" x=\"8\" y=\"-7403.3\" font-family=\"Times,serif\" font-size=\"14.00\">1006 : numerical</text>\n<text text-anchor=\"start\" x=\"8\" y=\"-7388.3\" font-family=\"Times,serif\" font-size=\"14.00\">1007 : numerical</text>\n<text text-anchor=\"start\" x=\"8\" y=\"-7373.3\" font-family=\"Times,serif\" font-size=\"14.00\">1008 : numerical</text>\n<text text-anchor=\"start\" x=\"8\" y=\"-7358.3\" font-family=\"Times,serif\" font-size=\"14.00\">1009 : numerical</text>\n<text text-anchor=\"start\" x=\"8\" y=\"-7343.3\" font-family=\"Times,serif\" font-size=\"14.00\">1010 : numerical</text>\n<text text-anchor=\"start\" x=\"8\" y=\"-7328.3\" font-family=\"Times,serif\" font-size=\"14.00\">1011 : numerical</text>\n<text text-anchor=\"start\" x=\"8\" y=\"-7313.3\" font-family=\"Times,serif\" font-size=\"14.00\">1012 : numerical</text>\n<text text-anchor=\"start\" x=\"8\" y=\"-7298.3\" font-family=\"Times,serif\" font-size=\"14.00\">1013 : numerical</text>\n<text text-anchor=\"start\" x=\"8\" y=\"-7283.3\" font-family=\"Times,serif\" font-size=\"14.00\">1014 : numerical</text>\n<text text-anchor=\"start\" x=\"8\" y=\"-7268.3\" font-family=\"Times,serif\" font-size=\"14.00\">1015 : numerical</text>\n<text text-anchor=\"start\" x=\"8\" y=\"-7253.3\" font-family=\"Times,serif\" font-size=\"14.00\">1016 : numerical</text>\n<text text-anchor=\"start\" x=\"8\" y=\"-7238.3\" font-family=\"Times,serif\" font-size=\"14.00\">1017 : numerical</text>\n<text text-anchor=\"start\" x=\"8\" y=\"-7223.3\" font-family=\"Times,serif\" font-size=\"14.00\">1018 : numerical</text>\n<text text-anchor=\"start\" x=\"8\" y=\"-7208.3\" font-family=\"Times,serif\" font-size=\"14.00\">1019 : numerical</text>\n<text text-anchor=\"start\" x=\"8\" y=\"-7193.3\" font-family=\"Times,serif\" font-size=\"14.00\">1020 : numerical</text>\n<text text-anchor=\"start\" x=\"8\" y=\"-7178.3\" font-family=\"Times,serif\" font-size=\"14.00\">1021 : numerical</text>\n<text text-anchor=\"start\" x=\"8\" y=\"-7163.3\" font-family=\"Times,serif\" font-size=\"14.00\">1022 : numerical</text>\n<text text-anchor=\"start\" x=\"8\" y=\"-7148.3\" font-family=\"Times,serif\" font-size=\"14.00\">1023 : numerical</text>\n<text text-anchor=\"start\" x=\"8\" y=\"-7133.3\" font-family=\"Times,serif\" font-size=\"14.00\">1024 : numerical</text>\n<text text-anchor=\"start\" x=\"8\" y=\"-7118.3\" font-family=\"Times,serif\" font-size=\"14.00\">1025 : numerical</text>\n<text text-anchor=\"start\" x=\"8\" y=\"-7103.3\" font-family=\"Times,serif\" font-size=\"14.00\">1026 : numerical</text>\n<text text-anchor=\"start\" x=\"8\" y=\"-7088.3\" font-family=\"Times,serif\" font-size=\"14.00\">1027 : numerical</text>\n<text text-anchor=\"start\" x=\"8\" y=\"-7073.3\" font-family=\"Times,serif\" font-size=\"14.00\">1028 : numerical</text>\n<text text-anchor=\"start\" x=\"8\" y=\"-7058.3\" font-family=\"Times,serif\" font-size=\"14.00\">1029 : numerical</text>\n<text text-anchor=\"start\" x=\"8\" y=\"-7043.3\" font-family=\"Times,serif\" font-size=\"14.00\">1030 : numerical</text>\n<text text-anchor=\"start\" x=\"8\" y=\"-7028.3\" font-family=\"Times,serif\" font-size=\"14.00\">1031 : numerical</text>\n<text text-anchor=\"start\" x=\"8\" y=\"-7013.3\" font-family=\"Times,serif\" font-size=\"14.00\">1032 : numerical</text>\n<text text-anchor=\"start\" x=\"8\" y=\"-6998.3\" font-family=\"Times,serif\" font-size=\"14.00\">1033 : numerical</text>\n<text text-anchor=\"start\" x=\"8\" y=\"-6983.3\" font-family=\"Times,serif\" font-size=\"14.00\">1034 : numerical</text>\n<text text-anchor=\"start\" x=\"8\" y=\"-6968.3\" font-family=\"Times,serif\" font-size=\"14.00\">1035 : numerical</text>\n<text text-anchor=\"start\" x=\"8\" y=\"-6953.3\" font-family=\"Times,serif\" font-size=\"14.00\">1036 : numerical</text>\n<text text-anchor=\"start\" x=\"8\" y=\"-6938.3\" font-family=\"Times,serif\" font-size=\"14.00\">1037 : numerical</text>\n<text text-anchor=\"start\" x=\"8\" y=\"-6923.3\" font-family=\"Times,serif\" font-size=\"14.00\">1038 : numerical</text>\n<text text-anchor=\"start\" x=\"8\" y=\"-6908.3\" font-family=\"Times,serif\" font-size=\"14.00\">1039 : numerical</text>\n<text text-anchor=\"start\" x=\"8\" y=\"-6893.3\" font-family=\"Times,serif\" font-size=\"14.00\">1040 : numerical</text>\n<text text-anchor=\"start\" x=\"8\" y=\"-6878.3\" font-family=\"Times,serif\" font-size=\"14.00\">1041 : numerical</text>\n<text text-anchor=\"start\" x=\"8\" y=\"-6863.3\" font-family=\"Times,serif\" font-size=\"14.00\">1042 : numerical</text>\n<text text-anchor=\"start\" x=\"8\" y=\"-6848.3\" font-family=\"Times,serif\" font-size=\"14.00\">1043 : numerical</text>\n<text text-anchor=\"start\" x=\"8\" y=\"-6833.3\" font-family=\"Times,serif\" font-size=\"14.00\">1044 : numerical</text>\n<text text-anchor=\"start\" x=\"8\" y=\"-6818.3\" font-family=\"Times,serif\" font-size=\"14.00\">1045 : numerical</text>\n<text text-anchor=\"start\" x=\"8\" y=\"-6803.3\" font-family=\"Times,serif\" font-size=\"14.00\">1046 : numerical</text>\n<text text-anchor=\"start\" x=\"8\" y=\"-6788.3\" font-family=\"Times,serif\" font-size=\"14.00\">1047 : numerical</text>\n<text text-anchor=\"start\" x=\"8\" y=\"-6773.3\" font-family=\"Times,serif\" font-size=\"14.00\">1048 : numerical</text>\n<text text-anchor=\"start\" x=\"8\" y=\"-6758.3\" font-family=\"Times,serif\" font-size=\"14.00\">1049 : numerical</text>\n<text text-anchor=\"start\" x=\"8\" y=\"-6743.3\" font-family=\"Times,serif\" font-size=\"14.00\">1050 : numerical</text>\n<text text-anchor=\"start\" x=\"8\" y=\"-6728.3\" font-family=\"Times,serif\" font-size=\"14.00\">1051 : numerical</text>\n<text text-anchor=\"start\" x=\"8\" y=\"-6713.3\" font-family=\"Times,serif\" font-size=\"14.00\">1052 : numerical</text>\n<text text-anchor=\"start\" x=\"8\" y=\"-6698.3\" font-family=\"Times,serif\" font-size=\"14.00\">1053 : numerical</text>\n<text text-anchor=\"start\" x=\"8\" y=\"-6683.3\" font-family=\"Times,serif\" font-size=\"14.00\">1054 : numerical</text>\n<text text-anchor=\"start\" x=\"8\" y=\"-6668.3\" font-family=\"Times,serif\" font-size=\"14.00\">1055 : numerical</text>\n<text text-anchor=\"start\" x=\"8\" y=\"-6653.3\" font-family=\"Times,serif\" font-size=\"14.00\">1056 : numerical</text>\n<text text-anchor=\"start\" x=\"8\" y=\"-6638.3\" font-family=\"Times,serif\" font-size=\"14.00\">1057 : numerical</text>\n<text text-anchor=\"start\" x=\"8\" y=\"-6623.3\" font-family=\"Times,serif\" font-size=\"14.00\">1058 : numerical</text>\n<text text-anchor=\"start\" x=\"8\" y=\"-6608.3\" font-family=\"Times,serif\" font-size=\"14.00\">1059 : numerical</text>\n<text text-anchor=\"start\" x=\"8\" y=\"-6593.3\" font-family=\"Times,serif\" font-size=\"14.00\">1060 : numerical</text>\n<text text-anchor=\"start\" x=\"8\" y=\"-6578.3\" font-family=\"Times,serif\" font-size=\"14.00\">1061 : numerical</text>\n<text text-anchor=\"start\" x=\"8\" y=\"-6563.3\" font-family=\"Times,serif\" font-size=\"14.00\">1062 : numerical</text>\n<text text-anchor=\"start\" x=\"8\" y=\"-6548.3\" font-family=\"Times,serif\" font-size=\"14.00\">1063 : numerical</text>\n<text text-anchor=\"start\" x=\"8\" y=\"-6533.3\" font-family=\"Times,serif\" font-size=\"14.00\">1064 : numerical</text>\n<text text-anchor=\"start\" x=\"8\" y=\"-6518.3\" font-family=\"Times,serif\" font-size=\"14.00\">1065 : numerical</text>\n<text text-anchor=\"start\" x=\"8\" y=\"-6503.3\" font-family=\"Times,serif\" font-size=\"14.00\">1066 : numerical</text>\n<text text-anchor=\"start\" x=\"8\" y=\"-6488.3\" font-family=\"Times,serif\" font-size=\"14.00\">1067 : numerical</text>\n<text text-anchor=\"start\" x=\"8\" y=\"-6473.3\" font-family=\"Times,serif\" font-size=\"14.00\">1068 : numerical</text>\n<text text-anchor=\"start\" x=\"8\" y=\"-6458.3\" font-family=\"Times,serif\" font-size=\"14.00\">1069 : numerical</text>\n<text text-anchor=\"start\" x=\"8\" y=\"-6443.3\" font-family=\"Times,serif\" font-size=\"14.00\">1070 : numerical</text>\n<text text-anchor=\"start\" x=\"8\" y=\"-6428.3\" font-family=\"Times,serif\" font-size=\"14.00\">1071 : numerical</text>\n<text text-anchor=\"start\" x=\"8\" y=\"-6413.3\" font-family=\"Times,serif\" font-size=\"14.00\">1072 : numerical</text>\n<text text-anchor=\"start\" x=\"8\" y=\"-6398.3\" font-family=\"Times,serif\" font-size=\"14.00\">1073 : numerical</text>\n<text text-anchor=\"start\" x=\"8\" y=\"-6383.3\" font-family=\"Times,serif\" font-size=\"14.00\">1074 : numerical</text>\n<text text-anchor=\"start\" x=\"8\" y=\"-6368.3\" font-family=\"Times,serif\" font-size=\"14.00\">1075 : numerical</text>\n<text text-anchor=\"start\" x=\"8\" y=\"-6353.3\" font-family=\"Times,serif\" font-size=\"14.00\">1076 : numerical</text>\n<text text-anchor=\"start\" x=\"8\" y=\"-6338.3\" font-family=\"Times,serif\" font-size=\"14.00\">1077 : numerical</text>\n<text text-anchor=\"start\" x=\"8\" y=\"-6323.3\" font-family=\"Times,serif\" font-size=\"14.00\">1078 : numerical</text>\n<text text-anchor=\"start\" x=\"8\" y=\"-6308.3\" font-family=\"Times,serif\" font-size=\"14.00\">1079 : numerical</text>\n<text text-anchor=\"start\" x=\"8\" y=\"-6293.3\" font-family=\"Times,serif\" font-size=\"14.00\">1080 : numerical</text>\n<text text-anchor=\"start\" x=\"8\" y=\"-6278.3\" font-family=\"Times,serif\" font-size=\"14.00\">1081 : numerical</text>\n<text text-anchor=\"start\" x=\"8\" y=\"-6263.3\" font-family=\"Times,serif\" font-size=\"14.00\">1082 : numerical</text>\n<text text-anchor=\"start\" x=\"8\" y=\"-6248.3\" font-family=\"Times,serif\" font-size=\"14.00\">1083 : numerical</text>\n<text text-anchor=\"start\" x=\"8\" y=\"-6233.3\" font-family=\"Times,serif\" font-size=\"14.00\">1084 : numerical</text>\n<text text-anchor=\"start\" x=\"8\" y=\"-6218.3\" font-family=\"Times,serif\" font-size=\"14.00\">1085 : numerical</text>\n<text text-anchor=\"start\" x=\"8\" y=\"-6203.3\" font-family=\"Times,serif\" font-size=\"14.00\">1086 : numerical</text>\n<text text-anchor=\"start\" x=\"8\" y=\"-6188.3\" font-family=\"Times,serif\" font-size=\"14.00\">1087 : numerical</text>\n<text text-anchor=\"start\" x=\"8\" y=\"-6173.3\" font-family=\"Times,serif\" font-size=\"14.00\">1088 : numerical</text>\n<text text-anchor=\"start\" x=\"8\" y=\"-6158.3\" font-family=\"Times,serif\" font-size=\"14.00\">1089 : numerical</text>\n<text text-anchor=\"start\" x=\"8\" y=\"-6143.3\" font-family=\"Times,serif\" font-size=\"14.00\">1090 : numerical</text>\n<text text-anchor=\"start\" x=\"8\" y=\"-6128.3\" font-family=\"Times,serif\" font-size=\"14.00\">1091 : numerical</text>\n<text text-anchor=\"start\" x=\"8\" y=\"-6113.3\" font-family=\"Times,serif\" font-size=\"14.00\">1092 : numerical</text>\n<text text-anchor=\"start\" x=\"8\" y=\"-6098.3\" font-family=\"Times,serif\" font-size=\"14.00\">1093 : numerical</text>\n<text text-anchor=\"start\" x=\"8\" y=\"-6083.3\" font-family=\"Times,serif\" font-size=\"14.00\">1094 : numerical</text>\n<text text-anchor=\"start\" x=\"8\" y=\"-6068.3\" font-family=\"Times,serif\" font-size=\"14.00\">1095 : numerical</text>\n<text text-anchor=\"start\" x=\"8\" y=\"-6053.3\" font-family=\"Times,serif\" font-size=\"14.00\">1096 : numerical</text>\n<text text-anchor=\"start\" x=\"8\" y=\"-6038.3\" font-family=\"Times,serif\" font-size=\"14.00\">1097 : numerical</text>\n<text text-anchor=\"start\" x=\"8\" y=\"-6023.3\" font-family=\"Times,serif\" font-size=\"14.00\">1098 : numerical</text>\n<text text-anchor=\"start\" x=\"8\" y=\"-6008.3\" font-family=\"Times,serif\" font-size=\"14.00\">1099 : numerical</text>\n<text text-anchor=\"start\" x=\"8\" y=\"-5993.3\" font-family=\"Times,serif\" font-size=\"14.00\">1100 : numerical</text>\n<text text-anchor=\"start\" x=\"8\" y=\"-5978.3\" font-family=\"Times,serif\" font-size=\"14.00\">1101 : numerical</text>\n<text text-anchor=\"start\" x=\"8\" y=\"-5963.3\" font-family=\"Times,serif\" font-size=\"14.00\">1102 : numerical</text>\n<text text-anchor=\"start\" x=\"8\" y=\"-5948.3\" font-family=\"Times,serif\" font-size=\"14.00\">1103 : numerical</text>\n<text text-anchor=\"start\" x=\"8\" y=\"-5933.3\" font-family=\"Times,serif\" font-size=\"14.00\">1104 : numerical</text>\n<text text-anchor=\"start\" x=\"8\" y=\"-5918.3\" font-family=\"Times,serif\" font-size=\"14.00\">1105 : numerical</text>\n<text text-anchor=\"start\" x=\"8\" y=\"-5903.3\" font-family=\"Times,serif\" font-size=\"14.00\">1106 : numerical</text>\n<text text-anchor=\"start\" x=\"8\" y=\"-5888.3\" font-family=\"Times,serif\" font-size=\"14.00\">1107 : numerical</text>\n<text text-anchor=\"start\" x=\"8\" y=\"-5873.3\" font-family=\"Times,serif\" font-size=\"14.00\">1108 : numerical</text>\n<text text-anchor=\"start\" x=\"8\" y=\"-5858.3\" font-family=\"Times,serif\" font-size=\"14.00\">1109 : numerical</text>\n<text text-anchor=\"start\" x=\"8\" y=\"-5843.3\" font-family=\"Times,serif\" font-size=\"14.00\">1110 : numerical</text>\n<text text-anchor=\"start\" x=\"8\" y=\"-5828.3\" font-family=\"Times,serif\" font-size=\"14.00\">1111 : numerical</text>\n<text text-anchor=\"start\" x=\"8\" y=\"-5813.3\" font-family=\"Times,serif\" font-size=\"14.00\">1112 : numerical</text>\n<text text-anchor=\"start\" x=\"8\" y=\"-5798.3\" font-family=\"Times,serif\" font-size=\"14.00\">1113 : numerical</text>\n<text text-anchor=\"start\" x=\"8\" y=\"-5783.3\" font-family=\"Times,serif\" font-size=\"14.00\">1114 : numerical</text>\n<text text-anchor=\"start\" x=\"8\" y=\"-5768.3\" font-family=\"Times,serif\" font-size=\"14.00\">1115 : numerical</text>\n<text text-anchor=\"start\" x=\"8\" y=\"-5753.3\" font-family=\"Times,serif\" font-size=\"14.00\">1116 : numerical</text>\n<text text-anchor=\"start\" x=\"8\" y=\"-5738.3\" font-family=\"Times,serif\" font-size=\"14.00\">1117 : numerical</text>\n<text text-anchor=\"start\" x=\"8\" y=\"-5723.3\" font-family=\"Times,serif\" font-size=\"14.00\">1118 : numerical</text>\n<text text-anchor=\"start\" x=\"8\" y=\"-5708.3\" font-family=\"Times,serif\" font-size=\"14.00\">1119 : numerical</text>\n<text text-anchor=\"start\" x=\"8\" y=\"-5693.3\" font-family=\"Times,serif\" font-size=\"14.00\">1120 : numerical</text>\n<text text-anchor=\"start\" x=\"8\" y=\"-5678.3\" font-family=\"Times,serif\" font-size=\"14.00\">1121 : numerical</text>\n<text text-anchor=\"start\" x=\"8\" y=\"-5663.3\" font-family=\"Times,serif\" font-size=\"14.00\">1122 : numerical</text>\n<text text-anchor=\"start\" x=\"8\" y=\"-5648.3\" font-family=\"Times,serif\" font-size=\"14.00\">1123 : numerical</text>\n<text text-anchor=\"start\" x=\"8\" y=\"-5633.3\" font-family=\"Times,serif\" font-size=\"14.00\">1124 : numerical</text>\n<text text-anchor=\"start\" x=\"8\" y=\"-5618.3\" font-family=\"Times,serif\" font-size=\"14.00\">1125 : numerical</text>\n<text text-anchor=\"start\" x=\"8\" y=\"-5603.3\" font-family=\"Times,serif\" font-size=\"14.00\">1126 : numerical</text>\n<text text-anchor=\"start\" x=\"8\" y=\"-5588.3\" font-family=\"Times,serif\" font-size=\"14.00\">1127 : numerical</text>\n<text text-anchor=\"start\" x=\"8\" y=\"-5573.3\" font-family=\"Times,serif\" font-size=\"14.00\">1128 : numerical</text>\n<text text-anchor=\"start\" x=\"8\" y=\"-5558.3\" font-family=\"Times,serif\" font-size=\"14.00\">1129 : numerical</text>\n<text text-anchor=\"start\" x=\"8\" y=\"-5543.3\" font-family=\"Times,serif\" font-size=\"14.00\">1130 : numerical</text>\n<text text-anchor=\"start\" x=\"8\" y=\"-5528.3\" font-family=\"Times,serif\" font-size=\"14.00\">1131 : numerical</text>\n<text text-anchor=\"start\" x=\"8\" y=\"-5513.3\" font-family=\"Times,serif\" font-size=\"14.00\">1132 : numerical</text>\n<text text-anchor=\"start\" x=\"8\" y=\"-5498.3\" font-family=\"Times,serif\" font-size=\"14.00\">1133 : numerical</text>\n<text text-anchor=\"start\" x=\"8\" y=\"-5483.3\" font-family=\"Times,serif\" font-size=\"14.00\">1134 : numerical</text>\n<text text-anchor=\"start\" x=\"8\" y=\"-5468.3\" font-family=\"Times,serif\" font-size=\"14.00\">1135 : numerical</text>\n<text text-anchor=\"start\" x=\"8\" y=\"-5453.3\" font-family=\"Times,serif\" font-size=\"14.00\">1136 : numerical</text>\n<text text-anchor=\"start\" x=\"8\" y=\"-5438.3\" font-family=\"Times,serif\" font-size=\"14.00\">1137 : numerical</text>\n<text text-anchor=\"start\" x=\"8\" y=\"-5423.3\" font-family=\"Times,serif\" font-size=\"14.00\">1138 : numerical</text>\n<text text-anchor=\"start\" x=\"8\" y=\"-5408.3\" font-family=\"Times,serif\" font-size=\"14.00\">1139 : numerical</text>\n<text text-anchor=\"start\" x=\"8\" y=\"-5393.3\" font-family=\"Times,serif\" font-size=\"14.00\">1140 : numerical</text>\n<text text-anchor=\"start\" x=\"8\" y=\"-5378.3\" font-family=\"Times,serif\" font-size=\"14.00\">1141 : numerical</text>\n<text text-anchor=\"start\" x=\"8\" y=\"-5363.3\" font-family=\"Times,serif\" font-size=\"14.00\">1142 : numerical</text>\n<text text-anchor=\"start\" x=\"8\" y=\"-5348.3\" font-family=\"Times,serif\" font-size=\"14.00\">1143 : numerical</text>\n<text text-anchor=\"start\" x=\"8\" y=\"-5333.3\" font-family=\"Times,serif\" font-size=\"14.00\">1144 : numerical</text>\n<text text-anchor=\"start\" x=\"8\" y=\"-5318.3\" font-family=\"Times,serif\" font-size=\"14.00\">1145 : numerical</text>\n<text text-anchor=\"start\" x=\"8\" y=\"-5303.3\" font-family=\"Times,serif\" font-size=\"14.00\">1146 : numerical</text>\n<text text-anchor=\"start\" x=\"8\" y=\"-5288.3\" font-family=\"Times,serif\" font-size=\"14.00\">1147 : numerical</text>\n<text text-anchor=\"start\" x=\"8\" y=\"-5273.3\" font-family=\"Times,serif\" font-size=\"14.00\">1148 : numerical</text>\n<text text-anchor=\"start\" x=\"8\" y=\"-5258.3\" font-family=\"Times,serif\" font-size=\"14.00\">1149 : numerical</text>\n<text text-anchor=\"start\" x=\"8\" y=\"-5243.3\" font-family=\"Times,serif\" font-size=\"14.00\">1150 : numerical</text>\n<text text-anchor=\"start\" x=\"8\" y=\"-5228.3\" font-family=\"Times,serif\" font-size=\"14.00\">1151 : numerical</text>\n<text text-anchor=\"start\" x=\"8\" y=\"-5213.3\" font-family=\"Times,serif\" font-size=\"14.00\">1152 : numerical</text>\n<text text-anchor=\"start\" x=\"8\" y=\"-5198.3\" font-family=\"Times,serif\" font-size=\"14.00\">1153 : numerical</text>\n<text text-anchor=\"start\" x=\"8\" y=\"-5183.3\" font-family=\"Times,serif\" font-size=\"14.00\">1154 : numerical</text>\n<text text-anchor=\"start\" x=\"8\" y=\"-5168.3\" font-family=\"Times,serif\" font-size=\"14.00\">1155 : numerical</text>\n<text text-anchor=\"start\" x=\"8\" y=\"-5153.3\" font-family=\"Times,serif\" font-size=\"14.00\">1156 : numerical</text>\n<text text-anchor=\"start\" x=\"8\" y=\"-5138.3\" font-family=\"Times,serif\" font-size=\"14.00\">1157 : numerical</text>\n<text text-anchor=\"start\" x=\"8\" y=\"-5123.3\" font-family=\"Times,serif\" font-size=\"14.00\">1158 : numerical</text>\n<text text-anchor=\"start\" x=\"8\" y=\"-5108.3\" font-family=\"Times,serif\" font-size=\"14.00\">1159 : numerical</text>\n<text text-anchor=\"start\" x=\"8\" y=\"-5093.3\" font-family=\"Times,serif\" font-size=\"14.00\">1160 : numerical</text>\n<text text-anchor=\"start\" x=\"8\" y=\"-5078.3\" font-family=\"Times,serif\" font-size=\"14.00\">1161 : numerical</text>\n<text text-anchor=\"start\" x=\"8\" y=\"-5063.3\" font-family=\"Times,serif\" font-size=\"14.00\">1162 : numerical</text>\n<text text-anchor=\"start\" x=\"8\" y=\"-5048.3\" font-family=\"Times,serif\" font-size=\"14.00\">1163 : numerical</text>\n<text text-anchor=\"start\" x=\"8\" y=\"-5033.3\" font-family=\"Times,serif\" font-size=\"14.00\">1164 : numerical</text>\n<text text-anchor=\"start\" x=\"8\" y=\"-5018.3\" font-family=\"Times,serif\" font-size=\"14.00\">1165 : numerical</text>\n<text text-anchor=\"start\" x=\"8\" y=\"-5003.3\" font-family=\"Times,serif\" font-size=\"14.00\">1166 : numerical</text>\n<text text-anchor=\"start\" x=\"8\" y=\"-4988.3\" font-family=\"Times,serif\" font-size=\"14.00\">1167 : numerical</text>\n<text text-anchor=\"start\" x=\"8\" y=\"-4973.3\" font-family=\"Times,serif\" font-size=\"14.00\">1168 : numerical</text>\n<text text-anchor=\"start\" x=\"8\" y=\"-4958.3\" font-family=\"Times,serif\" font-size=\"14.00\">1169 : numerical</text>\n<text text-anchor=\"start\" x=\"8\" y=\"-4943.3\" font-family=\"Times,serif\" font-size=\"14.00\">1170 : numerical</text>\n<text text-anchor=\"start\" x=\"8\" y=\"-4928.3\" font-family=\"Times,serif\" font-size=\"14.00\">1171 : numerical</text>\n<text text-anchor=\"start\" x=\"8\" y=\"-4913.3\" font-family=\"Times,serif\" font-size=\"14.00\">1172 : numerical</text>\n<text text-anchor=\"start\" x=\"8\" y=\"-4898.3\" font-family=\"Times,serif\" font-size=\"14.00\">1173 : numerical</text>\n<text text-anchor=\"start\" x=\"8\" y=\"-4883.3\" font-family=\"Times,serif\" font-size=\"14.00\">1174 : numerical</text>\n<text text-anchor=\"start\" x=\"8\" y=\"-4868.3\" font-family=\"Times,serif\" font-size=\"14.00\">1175 : numerical</text>\n<text text-anchor=\"start\" x=\"8\" y=\"-4853.3\" font-family=\"Times,serif\" font-size=\"14.00\">1176 : numerical</text>\n<text text-anchor=\"start\" x=\"8\" y=\"-4838.3\" font-family=\"Times,serif\" font-size=\"14.00\">1177 : numerical</text>\n<text text-anchor=\"start\" x=\"8\" y=\"-4823.3\" font-family=\"Times,serif\" font-size=\"14.00\">1178 : numerical</text>\n<text text-anchor=\"start\" x=\"8\" y=\"-4808.3\" font-family=\"Times,serif\" font-size=\"14.00\">1179 : numerical</text>\n<text text-anchor=\"start\" x=\"8\" y=\"-4793.3\" font-family=\"Times,serif\" font-size=\"14.00\">1180 : numerical</text>\n<text text-anchor=\"start\" x=\"8\" y=\"-4778.3\" font-family=\"Times,serif\" font-size=\"14.00\">1181 : numerical</text>\n<text text-anchor=\"start\" x=\"8\" y=\"-4763.3\" font-family=\"Times,serif\" font-size=\"14.00\">1182 : numerical</text>\n<text text-anchor=\"start\" x=\"8\" y=\"-4748.3\" font-family=\"Times,serif\" font-size=\"14.00\">1183 : numerical</text>\n<text text-anchor=\"start\" x=\"8\" y=\"-4733.3\" font-family=\"Times,serif\" font-size=\"14.00\">1184 : numerical</text>\n<text text-anchor=\"start\" x=\"8\" y=\"-4718.3\" font-family=\"Times,serif\" font-size=\"14.00\">1185 : numerical</text>\n<text text-anchor=\"start\" x=\"8\" y=\"-4703.3\" font-family=\"Times,serif\" font-size=\"14.00\">1186 : numerical</text>\n<text text-anchor=\"start\" x=\"8\" y=\"-4688.3\" font-family=\"Times,serif\" font-size=\"14.00\">1187 : numerical</text>\n<text text-anchor=\"start\" x=\"8\" y=\"-4673.3\" font-family=\"Times,serif\" font-size=\"14.00\">1188 : numerical</text>\n<text text-anchor=\"start\" x=\"8\" y=\"-4658.3\" font-family=\"Times,serif\" font-size=\"14.00\">1189 : numerical</text>\n<text text-anchor=\"start\" x=\"8\" y=\"-4643.3\" font-family=\"Times,serif\" font-size=\"14.00\">1190 : numerical</text>\n<text text-anchor=\"start\" x=\"8\" y=\"-4628.3\" font-family=\"Times,serif\" font-size=\"14.00\">1191 : numerical</text>\n<text text-anchor=\"start\" x=\"8\" y=\"-4613.3\" font-family=\"Times,serif\" font-size=\"14.00\">1192 : numerical</text>\n<text text-anchor=\"start\" x=\"8\" y=\"-4598.3\" font-family=\"Times,serif\" font-size=\"14.00\">1193 : numerical</text>\n<text text-anchor=\"start\" x=\"8\" y=\"-4583.3\" font-family=\"Times,serif\" font-size=\"14.00\">1194 : numerical</text>\n<text text-anchor=\"start\" x=\"8\" y=\"-4568.3\" font-family=\"Times,serif\" font-size=\"14.00\">1195 : numerical</text>\n<text text-anchor=\"start\" x=\"8\" y=\"-4553.3\" font-family=\"Times,serif\" font-size=\"14.00\">1196 : numerical</text>\n<text text-anchor=\"start\" x=\"8\" y=\"-4538.3\" font-family=\"Times,serif\" font-size=\"14.00\">1197 : numerical</text>\n<text text-anchor=\"start\" x=\"8\" y=\"-4523.3\" font-family=\"Times,serif\" font-size=\"14.00\">1198 : numerical</text>\n<text text-anchor=\"start\" x=\"8\" y=\"-4508.3\" font-family=\"Times,serif\" font-size=\"14.00\">1199 : numerical</text>\n<text text-anchor=\"start\" x=\"8\" y=\"-4493.3\" font-family=\"Times,serif\" font-size=\"14.00\">1200 : numerical</text>\n<text text-anchor=\"start\" x=\"8\" y=\"-4478.3\" font-family=\"Times,serif\" font-size=\"14.00\">1201 : numerical</text>\n<text text-anchor=\"start\" x=\"8\" y=\"-4463.3\" font-family=\"Times,serif\" font-size=\"14.00\">1202 : numerical</text>\n<text text-anchor=\"start\" x=\"8\" y=\"-4448.3\" font-family=\"Times,serif\" font-size=\"14.00\">1203 : numerical</text>\n<text text-anchor=\"start\" x=\"8\" y=\"-4433.3\" font-family=\"Times,serif\" font-size=\"14.00\">1204 : numerical</text>\n<text text-anchor=\"start\" x=\"8\" y=\"-4418.3\" font-family=\"Times,serif\" font-size=\"14.00\">1205 : numerical</text>\n<text text-anchor=\"start\" x=\"8\" y=\"-4403.3\" font-family=\"Times,serif\" font-size=\"14.00\">1206 : numerical</text>\n<text text-anchor=\"start\" x=\"8\" y=\"-4388.3\" font-family=\"Times,serif\" font-size=\"14.00\">1207 : numerical</text>\n<text text-anchor=\"start\" x=\"8\" y=\"-4373.3\" font-family=\"Times,serif\" font-size=\"14.00\">1208 : numerical</text>\n<text text-anchor=\"start\" x=\"8\" y=\"-4358.3\" font-family=\"Times,serif\" font-size=\"14.00\">1209 : numerical</text>\n<text text-anchor=\"start\" x=\"8\" y=\"-4343.3\" font-family=\"Times,serif\" font-size=\"14.00\">1210 : numerical</text>\n<text text-anchor=\"start\" x=\"8\" y=\"-4328.3\" font-family=\"Times,serif\" font-size=\"14.00\">1211 : numerical</text>\n<text text-anchor=\"start\" x=\"8\" y=\"-4313.3\" font-family=\"Times,serif\" font-size=\"14.00\">1212 : numerical</text>\n<text text-anchor=\"start\" x=\"8\" y=\"-4298.3\" font-family=\"Times,serif\" font-size=\"14.00\">1213 : numerical</text>\n<text text-anchor=\"start\" x=\"8\" y=\"-4283.3\" font-family=\"Times,serif\" font-size=\"14.00\">1214 : numerical</text>\n<text text-anchor=\"start\" x=\"8\" y=\"-4268.3\" font-family=\"Times,serif\" font-size=\"14.00\">1215 : numerical</text>\n<text text-anchor=\"start\" x=\"8\" y=\"-4253.3\" font-family=\"Times,serif\" font-size=\"14.00\">1216 : numerical</text>\n<text text-anchor=\"start\" x=\"8\" y=\"-4238.3\" font-family=\"Times,serif\" font-size=\"14.00\">1217 : numerical</text>\n<text text-anchor=\"start\" x=\"8\" y=\"-4223.3\" font-family=\"Times,serif\" font-size=\"14.00\">1218 : numerical</text>\n<text text-anchor=\"start\" x=\"8\" y=\"-4208.3\" font-family=\"Times,serif\" font-size=\"14.00\">1219 : numerical</text>\n<text text-anchor=\"start\" x=\"8\" y=\"-4193.3\" font-family=\"Times,serif\" font-size=\"14.00\">1220 : numerical</text>\n<text text-anchor=\"start\" x=\"8\" y=\"-4178.3\" font-family=\"Times,serif\" font-size=\"14.00\">1221 : numerical</text>\n<text text-anchor=\"start\" x=\"8\" y=\"-4163.3\" font-family=\"Times,serif\" font-size=\"14.00\">1222 : numerical</text>\n<text text-anchor=\"start\" x=\"8\" y=\"-4148.3\" font-family=\"Times,serif\" font-size=\"14.00\">1223 : numerical</text>\n<text text-anchor=\"start\" x=\"8\" y=\"-4133.3\" font-family=\"Times,serif\" font-size=\"14.00\">1224 : numerical</text>\n<text text-anchor=\"start\" x=\"8\" y=\"-4118.3\" font-family=\"Times,serif\" font-size=\"14.00\">1225 : numerical</text>\n<text text-anchor=\"start\" x=\"8\" y=\"-4103.3\" font-family=\"Times,serif\" font-size=\"14.00\">1226 : numerical</text>\n<text text-anchor=\"start\" x=\"8\" y=\"-4088.3\" font-family=\"Times,serif\" font-size=\"14.00\">1227 : numerical</text>\n<text text-anchor=\"start\" x=\"8\" y=\"-4073.3\" font-family=\"Times,serif\" font-size=\"14.00\">1228 : numerical</text>\n<text text-anchor=\"start\" x=\"8\" y=\"-4058.3\" font-family=\"Times,serif\" font-size=\"14.00\">1229 : numerical</text>\n<text text-anchor=\"start\" x=\"8\" y=\"-4043.3\" font-family=\"Times,serif\" font-size=\"14.00\">1230 : numerical</text>\n<text text-anchor=\"start\" x=\"8\" y=\"-4028.3\" font-family=\"Times,serif\" font-size=\"14.00\">1231 : numerical</text>\n<text text-anchor=\"start\" x=\"8\" y=\"-4013.3\" font-family=\"Times,serif\" font-size=\"14.00\">1232 : numerical</text>\n<text text-anchor=\"start\" x=\"8\" y=\"-3998.3\" font-family=\"Times,serif\" font-size=\"14.00\">1233 : numerical</text>\n<text text-anchor=\"start\" x=\"8\" y=\"-3983.3\" font-family=\"Times,serif\" font-size=\"14.00\">1234 : numerical</text>\n<text text-anchor=\"start\" x=\"8\" y=\"-3968.3\" font-family=\"Times,serif\" font-size=\"14.00\">1235 : numerical</text>\n<text text-anchor=\"start\" x=\"8\" y=\"-3953.3\" font-family=\"Times,serif\" font-size=\"14.00\">1236 : numerical</text>\n<text text-anchor=\"start\" x=\"8\" y=\"-3938.3\" font-family=\"Times,serif\" font-size=\"14.00\">1237 : numerical</text>\n<text text-anchor=\"start\" x=\"8\" y=\"-3923.3\" font-family=\"Times,serif\" font-size=\"14.00\">1238 : numerical</text>\n<text text-anchor=\"start\" x=\"8\" y=\"-3908.3\" font-family=\"Times,serif\" font-size=\"14.00\">1239 : numerical</text>\n<text text-anchor=\"start\" x=\"8\" y=\"-3893.3\" font-family=\"Times,serif\" font-size=\"14.00\">1240 : numerical</text>\n<text text-anchor=\"start\" x=\"8\" y=\"-3878.3\" font-family=\"Times,serif\" font-size=\"14.00\">1241 : numerical</text>\n<text text-anchor=\"start\" x=\"8\" y=\"-3863.3\" font-family=\"Times,serif\" font-size=\"14.00\">1242 : numerical</text>\n<text text-anchor=\"start\" x=\"8\" y=\"-3848.3\" font-family=\"Times,serif\" font-size=\"14.00\">1243 : numerical</text>\n<text text-anchor=\"start\" x=\"8\" y=\"-3833.3\" font-family=\"Times,serif\" font-size=\"14.00\">1244 : numerical</text>\n<text text-anchor=\"start\" x=\"8\" y=\"-3818.3\" font-family=\"Times,serif\" font-size=\"14.00\">1245 : numerical</text>\n<text text-anchor=\"start\" x=\"8\" y=\"-3803.3\" font-family=\"Times,serif\" font-size=\"14.00\">1246 : numerical</text>\n<text text-anchor=\"start\" x=\"8\" y=\"-3788.3\" font-family=\"Times,serif\" font-size=\"14.00\">1247 : numerical</text>\n<text text-anchor=\"start\" x=\"8\" y=\"-3773.3\" font-family=\"Times,serif\" font-size=\"14.00\">1248 : numerical</text>\n<text text-anchor=\"start\" x=\"8\" y=\"-3758.3\" font-family=\"Times,serif\" font-size=\"14.00\">1249 : numerical</text>\n<text text-anchor=\"start\" x=\"8\" y=\"-3743.3\" font-family=\"Times,serif\" font-size=\"14.00\">1250 : numerical</text>\n<text text-anchor=\"start\" x=\"8\" y=\"-3728.3\" font-family=\"Times,serif\" font-size=\"14.00\">1251 : numerical</text>\n<text text-anchor=\"start\" x=\"8\" y=\"-3713.3\" font-family=\"Times,serif\" font-size=\"14.00\">1252 : numerical</text>\n<text text-anchor=\"start\" x=\"8\" y=\"-3698.3\" font-family=\"Times,serif\" font-size=\"14.00\">1253 : numerical</text>\n<text text-anchor=\"start\" x=\"8\" y=\"-3683.3\" font-family=\"Times,serif\" font-size=\"14.00\">1254 : numerical</text>\n<text text-anchor=\"start\" x=\"8\" y=\"-3668.3\" font-family=\"Times,serif\" font-size=\"14.00\">1255 : numerical</text>\n<text text-anchor=\"start\" x=\"8\" y=\"-3653.3\" font-family=\"Times,serif\" font-size=\"14.00\">1256 : numerical</text>\n<text text-anchor=\"start\" x=\"8\" y=\"-3638.3\" font-family=\"Times,serif\" font-size=\"14.00\">1257 : numerical</text>\n<text text-anchor=\"start\" x=\"8\" y=\"-3623.3\" font-family=\"Times,serif\" font-size=\"14.00\">1258 : numerical</text>\n<text text-anchor=\"start\" x=\"8\" y=\"-3608.3\" font-family=\"Times,serif\" font-size=\"14.00\">1259 : numerical</text>\n<text text-anchor=\"start\" x=\"8\" y=\"-3593.3\" font-family=\"Times,serif\" font-size=\"14.00\">1260 : numerical</text>\n<text text-anchor=\"start\" x=\"8\" y=\"-3578.3\" font-family=\"Times,serif\" font-size=\"14.00\">1261 : numerical</text>\n<text text-anchor=\"start\" x=\"8\" y=\"-3563.3\" font-family=\"Times,serif\" font-size=\"14.00\">1262 : numerical</text>\n<text text-anchor=\"start\" x=\"8\" y=\"-3548.3\" font-family=\"Times,serif\" font-size=\"14.00\">1263 : numerical</text>\n<text text-anchor=\"start\" x=\"8\" y=\"-3533.3\" font-family=\"Times,serif\" font-size=\"14.00\">1264 : numerical</text>\n<text text-anchor=\"start\" x=\"8\" y=\"-3518.3\" font-family=\"Times,serif\" font-size=\"14.00\">1265 : numerical</text>\n<text text-anchor=\"start\" x=\"8\" y=\"-3503.3\" font-family=\"Times,serif\" font-size=\"14.00\">1266 : numerical</text>\n<text text-anchor=\"start\" x=\"8\" y=\"-3488.3\" font-family=\"Times,serif\" font-size=\"14.00\">1267 : numerical</text>\n<text text-anchor=\"start\" x=\"8\" y=\"-3473.3\" font-family=\"Times,serif\" font-size=\"14.00\">1268 : numerical</text>\n<text text-anchor=\"start\" x=\"8\" y=\"-3458.3\" font-family=\"Times,serif\" font-size=\"14.00\">1269 : numerical</text>\n<text text-anchor=\"start\" x=\"8\" y=\"-3443.3\" font-family=\"Times,serif\" font-size=\"14.00\">1270 : numerical</text>\n<text text-anchor=\"start\" x=\"8\" y=\"-3428.3\" font-family=\"Times,serif\" font-size=\"14.00\">1271 : numerical</text>\n<text text-anchor=\"start\" x=\"8\" y=\"-3413.3\" font-family=\"Times,serif\" font-size=\"14.00\">1272 : numerical</text>\n<text text-anchor=\"start\" x=\"8\" y=\"-3398.3\" font-family=\"Times,serif\" font-size=\"14.00\">1273 : numerical</text>\n<text text-anchor=\"start\" x=\"8\" y=\"-3383.3\" font-family=\"Times,serif\" font-size=\"14.00\">1274 : numerical</text>\n<text text-anchor=\"start\" x=\"8\" y=\"-3368.3\" font-family=\"Times,serif\" font-size=\"14.00\">1275 : numerical</text>\n<text text-anchor=\"start\" x=\"8\" y=\"-3353.3\" font-family=\"Times,serif\" font-size=\"14.00\">1276 : numerical</text>\n<text text-anchor=\"start\" x=\"8\" y=\"-3338.3\" font-family=\"Times,serif\" font-size=\"14.00\">1277 : numerical</text>\n<text text-anchor=\"start\" x=\"8\" y=\"-3323.3\" font-family=\"Times,serif\" font-size=\"14.00\">1278 : numerical</text>\n<text text-anchor=\"start\" x=\"8\" y=\"-3308.3\" font-family=\"Times,serif\" font-size=\"14.00\">1279 : numerical</text>\n<text text-anchor=\"start\" x=\"8\" y=\"-3293.3\" font-family=\"Times,serif\" font-size=\"14.00\">1280 : numerical</text>\n<text text-anchor=\"start\" x=\"8\" y=\"-3278.3\" font-family=\"Times,serif\" font-size=\"14.00\">1281 : numerical</text>\n<text text-anchor=\"start\" x=\"8\" y=\"-3263.3\" font-family=\"Times,serif\" font-size=\"14.00\">1282 : numerical</text>\n<text text-anchor=\"start\" x=\"8\" y=\"-3248.3\" font-family=\"Times,serif\" font-size=\"14.00\">1283 : numerical</text>\n<text text-anchor=\"start\" x=\"8\" y=\"-3233.3\" font-family=\"Times,serif\" font-size=\"14.00\">1284 : numerical</text>\n<text text-anchor=\"start\" x=\"8\" y=\"-3218.3\" font-family=\"Times,serif\" font-size=\"14.00\">1285 : numerical</text>\n<text text-anchor=\"start\" x=\"8\" y=\"-3203.3\" font-family=\"Times,serif\" font-size=\"14.00\">1286 : numerical</text>\n<text text-anchor=\"start\" x=\"8\" y=\"-3188.3\" font-family=\"Times,serif\" font-size=\"14.00\">1287 : numerical</text>\n<text text-anchor=\"start\" x=\"8\" y=\"-3173.3\" font-family=\"Times,serif\" font-size=\"14.00\">1288 : numerical</text>\n<text text-anchor=\"start\" x=\"8\" y=\"-3158.3\" font-family=\"Times,serif\" font-size=\"14.00\">1289 : numerical</text>\n<text text-anchor=\"start\" x=\"8\" y=\"-3143.3\" font-family=\"Times,serif\" font-size=\"14.00\">1290 : numerical</text>\n<text text-anchor=\"start\" x=\"8\" y=\"-3128.3\" font-family=\"Times,serif\" font-size=\"14.00\">1291 : numerical</text>\n<text text-anchor=\"start\" x=\"8\" y=\"-3113.3\" font-family=\"Times,serif\" font-size=\"14.00\">1292 : numerical</text>\n<text text-anchor=\"start\" x=\"8\" y=\"-3098.3\" font-family=\"Times,serif\" font-size=\"14.00\">1293 : numerical</text>\n<text text-anchor=\"start\" x=\"8\" y=\"-3083.3\" font-family=\"Times,serif\" font-size=\"14.00\">1294 : numerical</text>\n<text text-anchor=\"start\" x=\"8\" y=\"-3068.3\" font-family=\"Times,serif\" font-size=\"14.00\">1295 : numerical</text>\n<text text-anchor=\"start\" x=\"8\" y=\"-3053.3\" font-family=\"Times,serif\" font-size=\"14.00\">1296 : numerical</text>\n<text text-anchor=\"start\" x=\"8\" y=\"-3038.3\" font-family=\"Times,serif\" font-size=\"14.00\">1297 : numerical</text>\n<text text-anchor=\"start\" x=\"8\" y=\"-3023.3\" font-family=\"Times,serif\" font-size=\"14.00\">1298 : numerical</text>\n<text text-anchor=\"start\" x=\"8\" y=\"-3008.3\" font-family=\"Times,serif\" font-size=\"14.00\">1299 : numerical</text>\n<text text-anchor=\"start\" x=\"8\" y=\"-2993.3\" font-family=\"Times,serif\" font-size=\"14.00\">1300 : numerical</text>\n<text text-anchor=\"start\" x=\"8\" y=\"-2978.3\" font-family=\"Times,serif\" font-size=\"14.00\">1301 : numerical</text>\n<text text-anchor=\"start\" x=\"8\" y=\"-2963.3\" font-family=\"Times,serif\" font-size=\"14.00\">1302 : numerical</text>\n<text text-anchor=\"start\" x=\"8\" y=\"-2948.3\" font-family=\"Times,serif\" font-size=\"14.00\">1303 : numerical</text>\n<text text-anchor=\"start\" x=\"8\" y=\"-2933.3\" font-family=\"Times,serif\" font-size=\"14.00\">1304 : numerical</text>\n<text text-anchor=\"start\" x=\"8\" y=\"-2918.3\" font-family=\"Times,serif\" font-size=\"14.00\">1305 : numerical</text>\n<text text-anchor=\"start\" x=\"8\" y=\"-2903.3\" font-family=\"Times,serif\" font-size=\"14.00\">1306 : numerical</text>\n<text text-anchor=\"start\" x=\"8\" y=\"-2888.3\" font-family=\"Times,serif\" font-size=\"14.00\">1307 : numerical</text>\n<text text-anchor=\"start\" x=\"8\" y=\"-2873.3\" font-family=\"Times,serif\" font-size=\"14.00\">1308 : numerical</text>\n<text text-anchor=\"start\" x=\"8\" y=\"-2858.3\" font-family=\"Times,serif\" font-size=\"14.00\">1309 : numerical</text>\n<text text-anchor=\"start\" x=\"8\" y=\"-2843.3\" font-family=\"Times,serif\" font-size=\"14.00\">1310 : numerical</text>\n<text text-anchor=\"start\" x=\"8\" y=\"-2828.3\" font-family=\"Times,serif\" font-size=\"14.00\">1311 : numerical</text>\n<text text-anchor=\"start\" x=\"8\" y=\"-2813.3\" font-family=\"Times,serif\" font-size=\"14.00\">1312 : numerical</text>\n<text text-anchor=\"start\" x=\"8\" y=\"-2798.3\" font-family=\"Times,serif\" font-size=\"14.00\">1313 : numerical</text>\n<text text-anchor=\"start\" x=\"8\" y=\"-2783.3\" font-family=\"Times,serif\" font-size=\"14.00\">1314 : numerical</text>\n<text text-anchor=\"start\" x=\"8\" y=\"-2768.3\" font-family=\"Times,serif\" font-size=\"14.00\">1315 : numerical</text>\n<text text-anchor=\"start\" x=\"8\" y=\"-2753.3\" font-family=\"Times,serif\" font-size=\"14.00\">1316 : numerical</text>\n<text text-anchor=\"start\" x=\"8\" y=\"-2738.3\" font-family=\"Times,serif\" font-size=\"14.00\">1317 : numerical</text>\n<text text-anchor=\"start\" x=\"8\" y=\"-2723.3\" font-family=\"Times,serif\" font-size=\"14.00\">1318 : numerical</text>\n<text text-anchor=\"start\" x=\"8\" y=\"-2708.3\" font-family=\"Times,serif\" font-size=\"14.00\">1319 : numerical</text>\n<text text-anchor=\"start\" x=\"8\" y=\"-2693.3\" font-family=\"Times,serif\" font-size=\"14.00\">1320 : numerical</text>\n<text text-anchor=\"start\" x=\"8\" y=\"-2678.3\" font-family=\"Times,serif\" font-size=\"14.00\">1321 : numerical</text>\n<text text-anchor=\"start\" x=\"8\" y=\"-2663.3\" font-family=\"Times,serif\" font-size=\"14.00\">1322 : numerical</text>\n<text text-anchor=\"start\" x=\"8\" y=\"-2648.3\" font-family=\"Times,serif\" font-size=\"14.00\">1323 : numerical</text>\n<text text-anchor=\"start\" x=\"8\" y=\"-2633.3\" font-family=\"Times,serif\" font-size=\"14.00\">1324 : numerical</text>\n<text text-anchor=\"start\" x=\"8\" y=\"-2618.3\" font-family=\"Times,serif\" font-size=\"14.00\">1325 : numerical</text>\n<text text-anchor=\"start\" x=\"8\" y=\"-2603.3\" font-family=\"Times,serif\" font-size=\"14.00\">1326 : numerical</text>\n<text text-anchor=\"start\" x=\"8\" y=\"-2588.3\" font-family=\"Times,serif\" font-size=\"14.00\">1327 : numerical</text>\n<text text-anchor=\"start\" x=\"8\" y=\"-2573.3\" font-family=\"Times,serif\" font-size=\"14.00\">1328 : numerical</text>\n<text text-anchor=\"start\" x=\"8\" y=\"-2558.3\" font-family=\"Times,serif\" font-size=\"14.00\">1329 : numerical</text>\n<text text-anchor=\"start\" x=\"8\" y=\"-2543.3\" font-family=\"Times,serif\" font-size=\"14.00\">1330 : numerical</text>\n<text text-anchor=\"start\" x=\"8\" y=\"-2528.3\" font-family=\"Times,serif\" font-size=\"14.00\">1331 : numerical</text>\n<text text-anchor=\"start\" x=\"8\" y=\"-2513.3\" font-family=\"Times,serif\" font-size=\"14.00\">1332 : numerical</text>\n<text text-anchor=\"start\" x=\"8\" y=\"-2498.3\" font-family=\"Times,serif\" font-size=\"14.00\">1333 : numerical</text>\n<text text-anchor=\"start\" x=\"8\" y=\"-2483.3\" font-family=\"Times,serif\" font-size=\"14.00\">1334 : numerical</text>\n<text text-anchor=\"start\" x=\"8\" y=\"-2468.3\" font-family=\"Times,serif\" font-size=\"14.00\">1335 : numerical</text>\n<text text-anchor=\"start\" x=\"8\" y=\"-2453.3\" font-family=\"Times,serif\" font-size=\"14.00\">1336 : numerical</text>\n<text text-anchor=\"start\" x=\"8\" y=\"-2438.3\" font-family=\"Times,serif\" font-size=\"14.00\">1337 : numerical</text>\n<text text-anchor=\"start\" x=\"8\" y=\"-2423.3\" font-family=\"Times,serif\" font-size=\"14.00\">1338 : numerical</text>\n<text text-anchor=\"start\" x=\"8\" y=\"-2408.3\" font-family=\"Times,serif\" font-size=\"14.00\">1339 : numerical</text>\n<text text-anchor=\"start\" x=\"8\" y=\"-2393.3\" font-family=\"Times,serif\" font-size=\"14.00\">1340 : numerical</text>\n<text text-anchor=\"start\" x=\"8\" y=\"-2378.3\" font-family=\"Times,serif\" font-size=\"14.00\">1341 : numerical</text>\n<text text-anchor=\"start\" x=\"8\" y=\"-2363.3\" font-family=\"Times,serif\" font-size=\"14.00\">1342 : numerical</text>\n<text text-anchor=\"start\" x=\"8\" y=\"-2348.3\" font-family=\"Times,serif\" font-size=\"14.00\">1343 : numerical</text>\n<text text-anchor=\"start\" x=\"8\" y=\"-2333.3\" font-family=\"Times,serif\" font-size=\"14.00\">1344 : numerical</text>\n<text text-anchor=\"start\" x=\"8\" y=\"-2318.3\" font-family=\"Times,serif\" font-size=\"14.00\">1345 : numerical</text>\n<text text-anchor=\"start\" x=\"8\" y=\"-2303.3\" font-family=\"Times,serif\" font-size=\"14.00\">1346 : numerical</text>\n<text text-anchor=\"start\" x=\"8\" y=\"-2288.3\" font-family=\"Times,serif\" font-size=\"14.00\">1347 : numerical</text>\n<text text-anchor=\"start\" x=\"8\" y=\"-2273.3\" font-family=\"Times,serif\" font-size=\"14.00\">1348 : numerical</text>\n<text text-anchor=\"start\" x=\"8\" y=\"-2258.3\" font-family=\"Times,serif\" font-size=\"14.00\">1349 : numerical</text>\n<text text-anchor=\"start\" x=\"8\" y=\"-2243.3\" font-family=\"Times,serif\" font-size=\"14.00\">1350 : numerical</text>\n<text text-anchor=\"start\" x=\"8\" y=\"-2228.3\" font-family=\"Times,serif\" font-size=\"14.00\">1351 : numerical</text>\n<text text-anchor=\"start\" x=\"8\" y=\"-2213.3\" font-family=\"Times,serif\" font-size=\"14.00\">1352 : numerical</text>\n<text text-anchor=\"start\" x=\"8\" y=\"-2198.3\" font-family=\"Times,serif\" font-size=\"14.00\">1353 : numerical</text>\n<text text-anchor=\"start\" x=\"8\" y=\"-2183.3\" font-family=\"Times,serif\" font-size=\"14.00\">1354 : numerical</text>\n<text text-anchor=\"start\" x=\"8\" y=\"-2168.3\" font-family=\"Times,serif\" font-size=\"14.00\">1355 : numerical</text>\n<text text-anchor=\"start\" x=\"8\" y=\"-2153.3\" font-family=\"Times,serif\" font-size=\"14.00\">1356 : numerical</text>\n<text text-anchor=\"start\" x=\"8\" y=\"-2138.3\" font-family=\"Times,serif\" font-size=\"14.00\">1357 : numerical</text>\n<text text-anchor=\"start\" x=\"8\" y=\"-2123.3\" font-family=\"Times,serif\" font-size=\"14.00\">1358 : numerical</text>\n<text text-anchor=\"start\" x=\"8\" y=\"-2108.3\" font-family=\"Times,serif\" font-size=\"14.00\">1359 : numerical</text>\n<text text-anchor=\"start\" x=\"8\" y=\"-2093.3\" font-family=\"Times,serif\" font-size=\"14.00\">1360 : numerical</text>\n<text text-anchor=\"start\" x=\"8\" y=\"-2078.3\" font-family=\"Times,serif\" font-size=\"14.00\">1361 : numerical</text>\n<text text-anchor=\"start\" x=\"8\" y=\"-2063.3\" font-family=\"Times,serif\" font-size=\"14.00\">1362 : numerical</text>\n<text text-anchor=\"start\" x=\"8\" y=\"-2048.3\" font-family=\"Times,serif\" font-size=\"14.00\">1363 : numerical</text>\n<text text-anchor=\"start\" x=\"8\" y=\"-2033.3\" font-family=\"Times,serif\" font-size=\"14.00\">1364 : numerical</text>\n<text text-anchor=\"start\" x=\"8\" y=\"-2018.3\" font-family=\"Times,serif\" font-size=\"14.00\">1365 : numerical</text>\n<text text-anchor=\"start\" x=\"8\" y=\"-2003.3\" font-family=\"Times,serif\" font-size=\"14.00\">1366 : numerical</text>\n<text text-anchor=\"start\" x=\"8\" y=\"-1988.3\" font-family=\"Times,serif\" font-size=\"14.00\">1367 : numerical</text>\n<text text-anchor=\"start\" x=\"8\" y=\"-1973.3\" font-family=\"Times,serif\" font-size=\"14.00\">1368 : numerical</text>\n<text text-anchor=\"start\" x=\"8\" y=\"-1958.3\" font-family=\"Times,serif\" font-size=\"14.00\">1369 : numerical</text>\n<text text-anchor=\"start\" x=\"8\" y=\"-1943.3\" font-family=\"Times,serif\" font-size=\"14.00\">1370 : numerical</text>\n<text text-anchor=\"start\" x=\"8\" y=\"-1928.3\" font-family=\"Times,serif\" font-size=\"14.00\">1371 : numerical</text>\n<text text-anchor=\"start\" x=\"8\" y=\"-1913.3\" font-family=\"Times,serif\" font-size=\"14.00\">1372 : numerical</text>\n<text text-anchor=\"start\" x=\"8\" y=\"-1898.3\" font-family=\"Times,serif\" font-size=\"14.00\">1373 : numerical</text>\n<text text-anchor=\"start\" x=\"8\" y=\"-1883.3\" font-family=\"Times,serif\" font-size=\"14.00\">1374 : numerical</text>\n<text text-anchor=\"start\" x=\"8\" y=\"-1868.3\" font-family=\"Times,serif\" font-size=\"14.00\">1375 : numerical</text>\n<text text-anchor=\"start\" x=\"8\" y=\"-1853.3\" font-family=\"Times,serif\" font-size=\"14.00\">1376 : numerical</text>\n<text text-anchor=\"start\" x=\"8\" y=\"-1838.3\" font-family=\"Times,serif\" font-size=\"14.00\">1377 : numerical</text>\n<text text-anchor=\"start\" x=\"8\" y=\"-1823.3\" font-family=\"Times,serif\" font-size=\"14.00\">1378 : numerical</text>\n<text text-anchor=\"start\" x=\"8\" y=\"-1808.3\" font-family=\"Times,serif\" font-size=\"14.00\">1379 : numerical</text>\n<text text-anchor=\"start\" x=\"8\" y=\"-1793.3\" font-family=\"Times,serif\" font-size=\"14.00\">1380 : numerical</text>\n<text text-anchor=\"start\" x=\"8\" y=\"-1778.3\" font-family=\"Times,serif\" font-size=\"14.00\">1381 : numerical</text>\n<text text-anchor=\"start\" x=\"8\" y=\"-1763.3\" font-family=\"Times,serif\" font-size=\"14.00\">1382 : numerical</text>\n<text text-anchor=\"start\" x=\"8\" y=\"-1748.3\" font-family=\"Times,serif\" font-size=\"14.00\">1383 : numerical</text>\n<text text-anchor=\"start\" x=\"8\" y=\"-1733.3\" font-family=\"Times,serif\" font-size=\"14.00\">1384 : numerical</text>\n<text text-anchor=\"start\" x=\"8\" y=\"-1718.3\" font-family=\"Times,serif\" font-size=\"14.00\">1385 : numerical</text>\n<text text-anchor=\"start\" x=\"8\" y=\"-1703.3\" font-family=\"Times,serif\" font-size=\"14.00\">1386 : numerical</text>\n<text text-anchor=\"start\" x=\"8\" y=\"-1688.3\" font-family=\"Times,serif\" font-size=\"14.00\">1387 : numerical</text>\n<text text-anchor=\"start\" x=\"8\" y=\"-1673.3\" font-family=\"Times,serif\" font-size=\"14.00\">1388 : numerical</text>\n<text text-anchor=\"start\" x=\"8\" y=\"-1658.3\" font-family=\"Times,serif\" font-size=\"14.00\">1389 : numerical</text>\n<text text-anchor=\"start\" x=\"8\" y=\"-1643.3\" font-family=\"Times,serif\" font-size=\"14.00\">1390 : numerical</text>\n<text text-anchor=\"start\" x=\"8\" y=\"-1628.3\" font-family=\"Times,serif\" font-size=\"14.00\">1391 : numerical</text>\n<text text-anchor=\"start\" x=\"8\" y=\"-1613.3\" font-family=\"Times,serif\" font-size=\"14.00\">1392 : numerical</text>\n<text text-anchor=\"start\" x=\"8\" y=\"-1598.3\" font-family=\"Times,serif\" font-size=\"14.00\">1393 : numerical</text>\n<text text-anchor=\"start\" x=\"8\" y=\"-1583.3\" font-family=\"Times,serif\" font-size=\"14.00\">1394 : numerical</text>\n<text text-anchor=\"start\" x=\"8\" y=\"-1568.3\" font-family=\"Times,serif\" font-size=\"14.00\">1395 : numerical</text>\n<text text-anchor=\"start\" x=\"8\" y=\"-1553.3\" font-family=\"Times,serif\" font-size=\"14.00\">1396 : numerical</text>\n<text text-anchor=\"start\" x=\"8\" y=\"-1538.3\" font-family=\"Times,serif\" font-size=\"14.00\">1397 : numerical</text>\n<text text-anchor=\"start\" x=\"8\" y=\"-1523.3\" font-family=\"Times,serif\" font-size=\"14.00\">1398 : numerical</text>\n<text text-anchor=\"start\" x=\"8\" y=\"-1508.3\" font-family=\"Times,serif\" font-size=\"14.00\">1399 : numerical</text>\n<text text-anchor=\"start\" x=\"8\" y=\"-1493.3\" font-family=\"Times,serif\" font-size=\"14.00\">1400 : numerical</text>\n<text text-anchor=\"start\" x=\"8\" y=\"-1478.3\" font-family=\"Times,serif\" font-size=\"14.00\">1401 : numerical</text>\n<text text-anchor=\"start\" x=\"8\" y=\"-1463.3\" font-family=\"Times,serif\" font-size=\"14.00\">1402 : numerical</text>\n<text text-anchor=\"start\" x=\"8\" y=\"-1448.3\" font-family=\"Times,serif\" font-size=\"14.00\">1403 : numerical</text>\n<text text-anchor=\"start\" x=\"8\" y=\"-1433.3\" font-family=\"Times,serif\" font-size=\"14.00\">1404 : numerical</text>\n<text text-anchor=\"start\" x=\"8\" y=\"-1418.3\" font-family=\"Times,serif\" font-size=\"14.00\">1405 : numerical</text>\n<text text-anchor=\"start\" x=\"8\" y=\"-1403.3\" font-family=\"Times,serif\" font-size=\"14.00\">1406 : numerical</text>\n<text text-anchor=\"start\" x=\"8\" y=\"-1388.3\" font-family=\"Times,serif\" font-size=\"14.00\">1407 : numerical</text>\n<text text-anchor=\"start\" x=\"8\" y=\"-1373.3\" font-family=\"Times,serif\" font-size=\"14.00\">1408 : numerical</text>\n<text text-anchor=\"start\" x=\"8\" y=\"-1358.3\" font-family=\"Times,serif\" font-size=\"14.00\">1409 : numerical</text>\n<text text-anchor=\"start\" x=\"8\" y=\"-1343.3\" font-family=\"Times,serif\" font-size=\"14.00\">1410 : numerical</text>\n<text text-anchor=\"start\" x=\"8\" y=\"-1328.3\" font-family=\"Times,serif\" font-size=\"14.00\">1411 : numerical</text>\n<text text-anchor=\"start\" x=\"8\" y=\"-1313.3\" font-family=\"Times,serif\" font-size=\"14.00\">1412 : numerical</text>\n<text text-anchor=\"start\" x=\"8\" y=\"-1298.3\" font-family=\"Times,serif\" font-size=\"14.00\">1413 : numerical</text>\n<text text-anchor=\"start\" x=\"8\" y=\"-1283.3\" font-family=\"Times,serif\" font-size=\"14.00\">1414 : numerical</text>\n<text text-anchor=\"start\" x=\"8\" y=\"-1268.3\" font-family=\"Times,serif\" font-size=\"14.00\">1415 : numerical</text>\n<text text-anchor=\"start\" x=\"8\" y=\"-1253.3\" font-family=\"Times,serif\" font-size=\"14.00\">1416 : numerical</text>\n<text text-anchor=\"start\" x=\"8\" y=\"-1238.3\" font-family=\"Times,serif\" font-size=\"14.00\">1417 : numerical</text>\n<text text-anchor=\"start\" x=\"8\" y=\"-1223.3\" font-family=\"Times,serif\" font-size=\"14.00\">1418 : numerical</text>\n<text text-anchor=\"start\" x=\"8\" y=\"-1208.3\" font-family=\"Times,serif\" font-size=\"14.00\">1419 : numerical</text>\n<text text-anchor=\"start\" x=\"8\" y=\"-1193.3\" font-family=\"Times,serif\" font-size=\"14.00\">1420 : numerical</text>\n<text text-anchor=\"start\" x=\"8\" y=\"-1178.3\" font-family=\"Times,serif\" font-size=\"14.00\">1421 : numerical</text>\n<text text-anchor=\"start\" x=\"8\" y=\"-1163.3\" font-family=\"Times,serif\" font-size=\"14.00\">1422 : numerical</text>\n<text text-anchor=\"start\" x=\"8\" y=\"-1148.3\" font-family=\"Times,serif\" font-size=\"14.00\">1423 : numerical</text>\n<text text-anchor=\"start\" x=\"8\" y=\"-1133.3\" font-family=\"Times,serif\" font-size=\"14.00\">1424 : numerical</text>\n<text text-anchor=\"start\" x=\"8\" y=\"-1118.3\" font-family=\"Times,serif\" font-size=\"14.00\">1425 : numerical</text>\n<text text-anchor=\"start\" x=\"8\" y=\"-1103.3\" font-family=\"Times,serif\" font-size=\"14.00\">1426 : numerical</text>\n<text text-anchor=\"start\" x=\"8\" y=\"-1088.3\" font-family=\"Times,serif\" font-size=\"14.00\">1427 : numerical</text>\n<text text-anchor=\"start\" x=\"8\" y=\"-1073.3\" font-family=\"Times,serif\" font-size=\"14.00\">1428 : numerical</text>\n<text text-anchor=\"start\" x=\"8\" y=\"-1058.3\" font-family=\"Times,serif\" font-size=\"14.00\">1429 : numerical</text>\n<text text-anchor=\"start\" x=\"8\" y=\"-1043.3\" font-family=\"Times,serif\" font-size=\"14.00\">1430 : numerical</text>\n<text text-anchor=\"start\" x=\"8\" y=\"-1028.3\" font-family=\"Times,serif\" font-size=\"14.00\">1431 : numerical</text>\n<text text-anchor=\"start\" x=\"8\" y=\"-1013.3\" font-family=\"Times,serif\" font-size=\"14.00\">1432 : numerical</text>\n<text text-anchor=\"start\" x=\"8\" y=\"-998.3\" font-family=\"Times,serif\" font-size=\"14.00\">1433 : numerical</text>\n<text text-anchor=\"start\" x=\"8\" y=\"-983.3\" font-family=\"Times,serif\" font-size=\"14.00\">1434 : numerical</text>\n<text text-anchor=\"start\" x=\"8\" y=\"-968.3\" font-family=\"Times,serif\" font-size=\"14.00\">1435 : numerical</text>\n<text text-anchor=\"start\" x=\"8\" y=\"-953.3\" font-family=\"Times,serif\" font-size=\"14.00\">1436 : numerical</text>\n<text text-anchor=\"start\" x=\"8\" y=\"-938.3\" font-family=\"Times,serif\" font-size=\"14.00\">1437 : numerical</text>\n<text text-anchor=\"start\" x=\"8\" y=\"-923.3\" font-family=\"Times,serif\" font-size=\"14.00\">1438 : numerical</text>\n<text text-anchor=\"start\" x=\"8\" y=\"-908.3\" font-family=\"Times,serif\" font-size=\"14.00\">1439 : numerical</text>\n<text text-anchor=\"start\" x=\"8\" y=\"-893.3\" font-family=\"Times,serif\" font-size=\"14.00\">1440 : numerical</text>\n<text text-anchor=\"start\" x=\"8\" y=\"-878.3\" font-family=\"Times,serif\" font-size=\"14.00\">1441 : numerical</text>\n<text text-anchor=\"start\" x=\"8\" y=\"-863.3\" font-family=\"Times,serif\" font-size=\"14.00\">1442 : numerical</text>\n<text text-anchor=\"start\" x=\"8\" y=\"-848.3\" font-family=\"Times,serif\" font-size=\"14.00\">1443 : numerical</text>\n<text text-anchor=\"start\" x=\"8\" y=\"-833.3\" font-family=\"Times,serif\" font-size=\"14.00\">1444 : numerical</text>\n<text text-anchor=\"start\" x=\"8\" y=\"-818.3\" font-family=\"Times,serif\" font-size=\"14.00\">1445 : numerical</text>\n<text text-anchor=\"start\" x=\"8\" y=\"-803.3\" font-family=\"Times,serif\" font-size=\"14.00\">1446 : numerical</text>\n<text text-anchor=\"start\" x=\"8\" y=\"-788.3\" font-family=\"Times,serif\" font-size=\"14.00\">1447 : numerical</text>\n<text text-anchor=\"start\" x=\"8\" y=\"-773.3\" font-family=\"Times,serif\" font-size=\"14.00\">1448 : numerical</text>\n<text text-anchor=\"start\" x=\"8\" y=\"-758.3\" font-family=\"Times,serif\" font-size=\"14.00\">1449 : numerical</text>\n<text text-anchor=\"start\" x=\"8\" y=\"-743.3\" font-family=\"Times,serif\" font-size=\"14.00\">1450 : numerical</text>\n<text text-anchor=\"start\" x=\"8\" y=\"-728.3\" font-family=\"Times,serif\" font-size=\"14.00\">1451 : numerical</text>\n<text text-anchor=\"start\" x=\"8\" y=\"-713.3\" font-family=\"Times,serif\" font-size=\"14.00\">1452 : numerical</text>\n<text text-anchor=\"start\" x=\"8\" y=\"-698.3\" font-family=\"Times,serif\" font-size=\"14.00\">1453 : numerical</text>\n<text text-anchor=\"start\" x=\"8\" y=\"-683.3\" font-family=\"Times,serif\" font-size=\"14.00\">1454 : numerical</text>\n<text text-anchor=\"start\" x=\"8\" y=\"-668.3\" font-family=\"Times,serif\" font-size=\"14.00\">1455 : numerical</text>\n<text text-anchor=\"start\" x=\"8\" y=\"-653.3\" font-family=\"Times,serif\" font-size=\"14.00\">1456 : numerical</text>\n<text text-anchor=\"start\" x=\"8\" y=\"-638.3\" font-family=\"Times,serif\" font-size=\"14.00\">1457 : numerical</text>\n<text text-anchor=\"start\" x=\"8\" y=\"-623.3\" font-family=\"Times,serif\" font-size=\"14.00\">1458 : numerical</text>\n<text text-anchor=\"start\" x=\"8\" y=\"-608.3\" font-family=\"Times,serif\" font-size=\"14.00\">1459 : numerical</text>\n<text text-anchor=\"start\" x=\"8\" y=\"-593.3\" font-family=\"Times,serif\" font-size=\"14.00\">1460 : numerical</text>\n<text text-anchor=\"start\" x=\"8\" y=\"-578.3\" font-family=\"Times,serif\" font-size=\"14.00\">1461 : numerical</text>\n<text text-anchor=\"start\" x=\"8\" y=\"-563.3\" font-family=\"Times,serif\" font-size=\"14.00\">1462 : numerical</text>\n<text text-anchor=\"start\" x=\"8\" y=\"-548.3\" font-family=\"Times,serif\" font-size=\"14.00\">1463 : numerical</text>\n<text text-anchor=\"start\" x=\"8\" y=\"-533.3\" font-family=\"Times,serif\" font-size=\"14.00\">1464 : numerical</text>\n<text text-anchor=\"start\" x=\"8\" y=\"-518.3\" font-family=\"Times,serif\" font-size=\"14.00\">1465 : numerical</text>\n<text text-anchor=\"start\" x=\"8\" y=\"-503.3\" font-family=\"Times,serif\" font-size=\"14.00\">1466 : numerical</text>\n<text text-anchor=\"start\" x=\"8\" y=\"-488.3\" font-family=\"Times,serif\" font-size=\"14.00\">1467 : numerical</text>\n<text text-anchor=\"start\" x=\"8\" y=\"-473.3\" font-family=\"Times,serif\" font-size=\"14.00\">1468 : numerical</text>\n<text text-anchor=\"start\" x=\"8\" y=\"-458.3\" font-family=\"Times,serif\" font-size=\"14.00\">1469 : numerical</text>\n<text text-anchor=\"start\" x=\"8\" y=\"-443.3\" font-family=\"Times,serif\" font-size=\"14.00\">1470 : numerical</text>\n<text text-anchor=\"start\" x=\"8\" y=\"-428.3\" font-family=\"Times,serif\" font-size=\"14.00\">1471 : numerical</text>\n<text text-anchor=\"start\" x=\"8\" y=\"-413.3\" font-family=\"Times,serif\" font-size=\"14.00\">1472 : numerical</text>\n<text text-anchor=\"start\" x=\"8\" y=\"-398.3\" font-family=\"Times,serif\" font-size=\"14.00\">1473 : numerical</text>\n<text text-anchor=\"start\" x=\"8\" y=\"-383.3\" font-family=\"Times,serif\" font-size=\"14.00\">1474 : numerical</text>\n<text text-anchor=\"start\" x=\"8\" y=\"-368.3\" font-family=\"Times,serif\" font-size=\"14.00\">1475 : numerical</text>\n<text text-anchor=\"start\" x=\"8\" y=\"-353.3\" font-family=\"Times,serif\" font-size=\"14.00\">1476 : numerical</text>\n<text text-anchor=\"start\" x=\"8\" y=\"-338.3\" font-family=\"Times,serif\" font-size=\"14.00\">1477 : numerical</text>\n<text text-anchor=\"start\" x=\"8\" y=\"-323.3\" font-family=\"Times,serif\" font-size=\"14.00\">1478 : numerical</text>\n<text text-anchor=\"start\" x=\"8\" y=\"-308.3\" font-family=\"Times,serif\" font-size=\"14.00\">1479 : numerical</text>\n<text text-anchor=\"start\" x=\"8\" y=\"-293.3\" font-family=\"Times,serif\" font-size=\"14.00\">1480 : numerical</text>\n<text text-anchor=\"start\" x=\"8\" y=\"-278.3\" font-family=\"Times,serif\" font-size=\"14.00\">1481 : numerical</text>\n<text text-anchor=\"start\" x=\"8\" y=\"-263.3\" font-family=\"Times,serif\" font-size=\"14.00\">1482 : numerical</text>\n<text text-anchor=\"start\" x=\"8\" y=\"-248.3\" font-family=\"Times,serif\" font-size=\"14.00\">1483 : numerical</text>\n<text text-anchor=\"start\" x=\"8\" y=\"-233.3\" font-family=\"Times,serif\" font-size=\"14.00\">1484 : numerical</text>\n<text text-anchor=\"start\" x=\"8\" y=\"-218.3\" font-family=\"Times,serif\" font-size=\"14.00\">1485 : numerical</text>\n<text text-anchor=\"start\" x=\"8\" y=\"-203.3\" font-family=\"Times,serif\" font-size=\"14.00\">1486 : numerical</text>\n<text text-anchor=\"start\" x=\"8\" y=\"-188.3\" font-family=\"Times,serif\" font-size=\"14.00\">1487 : numerical</text>\n<text text-anchor=\"start\" x=\"8\" y=\"-173.3\" font-family=\"Times,serif\" font-size=\"14.00\">1488 : numerical</text>\n<text text-anchor=\"start\" x=\"8\" y=\"-158.3\" font-family=\"Times,serif\" font-size=\"14.00\">1489 : numerical</text>\n<text text-anchor=\"start\" x=\"8\" y=\"-143.3\" font-family=\"Times,serif\" font-size=\"14.00\">1490 : numerical</text>\n<text text-anchor=\"start\" x=\"8\" y=\"-128.3\" font-family=\"Times,serif\" font-size=\"14.00\">1491 : numerical</text>\n<text text-anchor=\"start\" x=\"8\" y=\"-113.3\" font-family=\"Times,serif\" font-size=\"14.00\">1492 : numerical</text>\n<text text-anchor=\"start\" x=\"8\" y=\"-98.3\" font-family=\"Times,serif\" font-size=\"14.00\">1493 : numerical</text>\n<text text-anchor=\"start\" x=\"8\" y=\"-83.3\" font-family=\"Times,serif\" font-size=\"14.00\">1494 : numerical</text>\n<text text-anchor=\"start\" x=\"8\" y=\"-68.3\" font-family=\"Times,serif\" font-size=\"14.00\">1495 : numerical</text>\n<text text-anchor=\"start\" x=\"8\" y=\"-53.3\" font-family=\"Times,serif\" font-size=\"14.00\">1496 : numerical</text>\n<text text-anchor=\"start\" x=\"8\" y=\"-38.3\" font-family=\"Times,serif\" font-size=\"14.00\">1497 : numerical</text>\n<text text-anchor=\"start\" x=\"8\" y=\"-23.3\" font-family=\"Times,serif\" font-size=\"14.00\">1498 : numerical</text>\n<text text-anchor=\"start\" x=\"8\" y=\"-8.3\" font-family=\"Times,serif\" font-size=\"14.00\">1499 : numerical</text>\n</g>\n</g>\n</svg>\n",
            "text/plain": [
              "<graphviz.graphs.Digraph at 0x7c8a9f90f7f0>"
            ]
          },
          "metadata": {},
          "execution_count": 14
        }
      ],
      "source": [
        "metadata.visualize()"
      ]
    },
    {
      "cell_type": "code",
      "execution_count": null,
      "metadata": {
        "colab": {
          "base_uri": "https://localhost:8080/",
          "height": 312
        },
        "id": "UGDU7xNvm9du",
        "outputId": "13525cb8-db0d-4213-c9a8-dd53ba0640da"
      },
      "outputs": [
        {
          "output_type": "display_data",
          "data": {
            "text/plain": [
              "{'PSC': 42,\n",
              " 'acinar': 1090,\n",
              " 'activated_stellate': 227,\n",
              " 'alpha': 3897,\n",
              " 'beta': 2950,\n",
              " 'delta': 759,\n",
              " 'ductal': 1360,\n",
              " 'endothelial': 231,\n",
              " 'epsilon': 17,\n",
              " 'gamma': 339,\n",
              " 'macrophage': 44,\n",
              " 'mast': 20,\n",
              " 'mesenchymal': 64,\n",
              " 'pp': 148,\n",
              " 'quiescent_stellate': 138,\n",
              " 'schwann': 11}"
            ]
          },
          "metadata": {}
        },
        {
          "output_type": "display_data",
          "data": {
            "text/plain": [
              "3897"
            ]
          },
          "metadata": {}
        }
      ],
      "source": [
        "unique_values, counts = np.unique(y_train, return_counts=True)\n",
        "display(dict(zip(unique_values, counts)),np.max(counts))"
      ]
    },
    {
      "cell_type": "markdown",
      "metadata": {
        "id": "2zGrBci2qD71"
      },
      "source": [
        "Gaussian Copula"
      ]
    },
    {
      "cell_type": "code",
      "execution_count": null,
      "metadata": {
        "id": "NUIhktKZHuvU"
      },
      "outputs": [],
      "source": [
        "def generate_GC(metadata,num_synthetic_samples, X_min):\n",
        "    #start_time = time.strftime(\"%H:%M:%S\", time.localtime())\n",
        "    gc = GaussianCopulaSynthesizer(metadata)\n",
        "    gc.fit(X_min)\n",
        "    gc_synthetic = gc.sample(num_synthetic_samples)\n",
        "    #ctgan_synthetic_df.to_csv(out_path2)\n",
        "    #end_time = time.strftime(\"%H:%M:%S\", time.localtime())\n",
        "    #print('Total processing time for ctgan_synthesizer is : {:.5f}'.format(end_time - start_time) + \" minutes\")\n",
        "    return gc_synthetic"
      ]
    },
    {
      "cell_type": "code",
      "execution_count": null,
      "metadata": {
        "colab": {
          "base_uri": "https://localhost:8080/"
        },
        "id": "vClMEzLMod0s",
        "outputId": "7b83f1ea-66e7-4df5-8d44-36526f0b943b"
      },
      "outputs": [
        {
          "output_type": "stream",
          "name": "stdout",
          "text": [
            "label, count, max_count PSC 42 759\n"
          ]
        },
        {
          "output_type": "stream",
          "name": "stderr",
          "text": [
            "/usr/local/lib/python3.10/dist-packages/sdv/single_table/base.py:119: FutureWarning: The 'SingleTableMetadata' is deprecated. Please use the new 'Metadata' class for synthesizers.\n",
            "  warnings.warn(DEPRECATION_MSG, FutureWarning)\n",
            "/usr/local/lib/python3.10/dist-packages/sdv/single_table/base.py:104: UserWarning: We strongly recommend saving the metadata using 'save_to_json' for replicability in future SDV versions.\n",
            "  warnings.warn(\n"
          ]
        },
        {
          "output_type": "stream",
          "name": "stdout",
          "text": [
            "label, count, max_count acinar 1090 759\n",
            "label, count, max_count activated_stellate 227 759\n"
          ]
        },
        {
          "output_type": "stream",
          "name": "stderr",
          "text": [
            "/usr/local/lib/python3.10/dist-packages/sdv/single_table/base.py:119: FutureWarning: The 'SingleTableMetadata' is deprecated. Please use the new 'Metadata' class for synthesizers.\n",
            "  warnings.warn(DEPRECATION_MSG, FutureWarning)\n"
          ]
        },
        {
          "output_type": "stream",
          "name": "stdout",
          "text": [
            "label, count, max_count alpha 3897 759\n",
            "label, count, max_count beta 2950 759\n",
            "label, count, max_count delta 759 759\n",
            "label, count, max_count ductal 1360 759\n",
            "label, count, max_count endothelial 231 759\n"
          ]
        },
        {
          "output_type": "stream",
          "name": "stderr",
          "text": [
            "/usr/local/lib/python3.10/dist-packages/sdv/single_table/base.py:119: FutureWarning: The 'SingleTableMetadata' is deprecated. Please use the new 'Metadata' class for synthesizers.\n",
            "  warnings.warn(DEPRECATION_MSG, FutureWarning)\n"
          ]
        },
        {
          "output_type": "stream",
          "name": "stdout",
          "text": [
            "label, count, max_count epsilon 17 759\n"
          ]
        },
        {
          "output_type": "stream",
          "name": "stderr",
          "text": [
            "/usr/local/lib/python3.10/dist-packages/sdv/single_table/base.py:119: FutureWarning: The 'SingleTableMetadata' is deprecated. Please use the new 'Metadata' class for synthesizers.\n",
            "  warnings.warn(DEPRECATION_MSG, FutureWarning)\n"
          ]
        },
        {
          "output_type": "stream",
          "name": "stdout",
          "text": [
            "label, count, max_count gamma 339 759\n"
          ]
        },
        {
          "output_type": "stream",
          "name": "stderr",
          "text": [
            "/usr/local/lib/python3.10/dist-packages/sdv/single_table/base.py:119: FutureWarning: The 'SingleTableMetadata' is deprecated. Please use the new 'Metadata' class for synthesizers.\n",
            "  warnings.warn(DEPRECATION_MSG, FutureWarning)\n"
          ]
        },
        {
          "output_type": "stream",
          "name": "stdout",
          "text": [
            "label, count, max_count macrophage 44 759\n"
          ]
        },
        {
          "output_type": "stream",
          "name": "stderr",
          "text": [
            "/usr/local/lib/python3.10/dist-packages/sdv/single_table/base.py:119: FutureWarning: The 'SingleTableMetadata' is deprecated. Please use the new 'Metadata' class for synthesizers.\n",
            "  warnings.warn(DEPRECATION_MSG, FutureWarning)\n"
          ]
        },
        {
          "output_type": "stream",
          "name": "stdout",
          "text": [
            "label, count, max_count mast 20 759\n"
          ]
        },
        {
          "output_type": "stream",
          "name": "stderr",
          "text": [
            "/usr/local/lib/python3.10/dist-packages/sdv/single_table/base.py:119: FutureWarning: The 'SingleTableMetadata' is deprecated. Please use the new 'Metadata' class for synthesizers.\n",
            "  warnings.warn(DEPRECATION_MSG, FutureWarning)\n"
          ]
        },
        {
          "output_type": "stream",
          "name": "stdout",
          "text": [
            "label, count, max_count mesenchymal 64 759\n"
          ]
        },
        {
          "output_type": "stream",
          "name": "stderr",
          "text": [
            "/usr/local/lib/python3.10/dist-packages/sdv/single_table/base.py:119: FutureWarning: The 'SingleTableMetadata' is deprecated. Please use the new 'Metadata' class for synthesizers.\n",
            "  warnings.warn(DEPRECATION_MSG, FutureWarning)\n"
          ]
        },
        {
          "output_type": "stream",
          "name": "stdout",
          "text": [
            "label, count, max_count pp 148 759\n"
          ]
        },
        {
          "output_type": "stream",
          "name": "stderr",
          "text": [
            "/usr/local/lib/python3.10/dist-packages/sdv/single_table/base.py:119: FutureWarning: The 'SingleTableMetadata' is deprecated. Please use the new 'Metadata' class for synthesizers.\n",
            "  warnings.warn(DEPRECATION_MSG, FutureWarning)\n"
          ]
        },
        {
          "output_type": "stream",
          "name": "stdout",
          "text": [
            "label, count, max_count quiescent_stellate 138 759\n"
          ]
        },
        {
          "output_type": "stream",
          "name": "stderr",
          "text": [
            "/usr/local/lib/python3.10/dist-packages/sdv/single_table/base.py:119: FutureWarning: The 'SingleTableMetadata' is deprecated. Please use the new 'Metadata' class for synthesizers.\n",
            "  warnings.warn(DEPRECATION_MSG, FutureWarning)\n"
          ]
        },
        {
          "output_type": "stream",
          "name": "stdout",
          "text": [
            "label, count, max_count schwann 11 759\n"
          ]
        },
        {
          "output_type": "stream",
          "name": "stderr",
          "text": [
            "/usr/local/lib/python3.10/dist-packages/sdv/single_table/base.py:119: FutureWarning: The 'SingleTableMetadata' is deprecated. Please use the new 'Metadata' class for synthesizers.\n",
            "  warnings.warn(DEPRECATION_MSG, FutureWarning)\n"
          ]
        }
      ],
      "source": [
        "# Get unique values and their counts\n",
        "unique_values, counts = np.unique(y_train, return_counts=True)\n",
        "classlabel_counts = dict(zip(unique_values, counts))\n",
        "max_count = 759 #np.max(counts)\n",
        "\n",
        "i=1\n",
        "for label, count in classlabel_counts.items():\n",
        "    #print(x.shape, y.shape)\n",
        "    print(\"label, count, max_count\",label,count,max_count)\n",
        "    X_minority = X_train_pd[y_train == label]\n",
        "    if count < max_count:\n",
        "        #print(\"\\n\")\n",
        "        #print(f\"Value {label} appears {count} times.\")\n",
        "        num_synthetic_samples = max_count - count\n",
        "        synthetic_samples = generate_GC(metadata, num_synthetic_samples, X_minority)\n",
        "\n",
        "        X_minority = np.array(X_minority)\n",
        "        synthetic_samples = np.array(synthetic_samples)\n",
        "        if i==1:\n",
        "          X_train_gen = X_minority\n",
        "          X_train_gen = np.vstack([X_train_gen, synthetic_samples])\n",
        "\n",
        "          y_train_gen = np.full(759, label)\n",
        "\n",
        "          y_train_indexes = np.full(count, 1)\n",
        "          y_train_indexes = np.concatenate([y_train_indexes, np.full(num_synthetic_samples, 2)])\n",
        "        else:\n",
        "          tmp = np.vstack([X_minority, synthetic_samples])\n",
        "          X_train_gen = np.vstack([X_train_gen, tmp])\n",
        "          y_train_gen = np.concatenate([y_train_gen, np.full(759, label)])\n",
        "\n",
        "          y_train_indexes = np.concatenate([y_train_indexes, np.full(count, 1)])\n",
        "          y_train_indexes = np.concatenate([y_train_indexes, np.full(num_synthetic_samples, 2)])\n",
        "    else:\n",
        "        X_train_gen = np.vstack([X_train_gen, X_minority])\n",
        "        y_train_gen = np.concatenate([y_train_gen, np.full(count, label)])\n",
        "        y_train_indexes = np.concatenate([y_train_indexes, np.full(count, 1)])\n",
        "    i=i+1"
      ]
    },
    {
      "cell_type": "code",
      "source": [
        "X_train_gen.shape, y_train_gen.shape, X_test.shape, y_test.shape"
      ],
      "metadata": {
        "colab": {
          "base_uri": "https://localhost:8080/"
        },
        "id": "WwH16PRgXt3-",
        "outputId": "1dc3ef69-686e-4cf5-b11c-55e3ba7812fe"
      },
      "execution_count": null,
      "outputs": [
        {
          "output_type": "execute_result",
          "data": {
            "text/plain": [
              "((18405, 2500), (18405,), (2835, 2500), (2835,))"
            ]
          },
          "metadata": {},
          "execution_count": 13
        }
      ]
    },
    {
      "cell_type": "code",
      "source": [
        "file_name ='GC'"
      ],
      "metadata": {
        "id": "3DVoU28GAwRH"
      },
      "execution_count": null,
      "outputs": []
    },
    {
      "cell_type": "code",
      "source": [
        "import pickle\n",
        "\n",
        "# Save object to file\n",
        "with open(gdrivePath +os.sep+\"results\"+os.sep+\"GaussianCopula\"+os.sep+file_name+'_X_train.pkl', 'wb') as f:\n",
        "    pickle.dump(X_train_gen, f)\n",
        "\n",
        "with open(gdrivePath +os.sep+\"results\"+os.sep+\"GaussianCopula\"+os.sep+file_name+'_X_test.pkl', 'wb') as f:\n",
        "    pickle.dump(X_test, f)\n",
        "\n",
        "with open(gdrivePath +os.sep+\"results\"+os.sep+\"GaussianCopula\"+os.sep+file_name+'_y_train.pkl', 'wb') as f:\n",
        "    pickle.dump(y_train_gen, f)\n",
        "\n",
        "with open(gdrivePath +os.sep+\"results\"+os.sep+\"GaussianCopula\"+os.sep+file_name+'_y_test.pkl', 'wb') as f:\n",
        "    pickle.dump(y_test, f)\n",
        "\n",
        "with open(gdrivePath +os.sep+\"results\"+os.sep+\"GaussianCopula\"+os.sep+file_name+'_y_train_idx.pkl', 'wb') as f:\n",
        "    pickle.dump(y_train_indexes, f)"
      ],
      "metadata": {
        "id": "teh0oVOJFfvb"
      },
      "execution_count": null,
      "outputs": []
    }
  ],
  "metadata": {
    "accelerator": "TPU",
    "colab": {
      "gpuType": "V28",
      "machine_shape": "hm",
      "provenance": []
    },
    "kernelspec": {
      "display_name": "Python 3",
      "name": "python3"
    },
    "language_info": {
      "name": "python"
    }
  },
  "nbformat": 4,
  "nbformat_minor": 0
}