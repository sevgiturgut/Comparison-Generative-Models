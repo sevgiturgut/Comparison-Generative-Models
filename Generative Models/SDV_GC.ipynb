{
  "cells": [
    {
      "cell_type": "markdown",
      "source": [
        "GC Runner (SDV-based)\n",
        "\n",
        "This script trains a GC model on single-cell (tabular) data using the SDV library. It mirrors the CTGAN workflow and supports the same three study scenarios used in the paper.\n",
        "\n",
        "PBMC3K:\n",
        "\n",
        "Trains TVAE on real train samples.\n",
        "\n",
        "Generates synthetic samples equal to TEST sample size.\n",
        "\n",
        "Saves: GC_pbmc3k.pkl\n",
        "\n",
        "HCA-BM10K (5-fold CV)\n",
        "\n",
        "Integrated Pancreatic dataset (5-fold CV)\n",
        "\n",
        "For EACH FOLD:\n",
        "\n",
        "Fit TVAE on TRAIN ONLY.\n",
        "\n",
        "Generate synthetic samples to reach the Q3 (75th percentile) count of the corresponding cell-type distribution\n",
        "(per-class if --label-col is provided; labels are assigned accordingly).\n",
        "\n",
        "Augment TRAIN with synthetic data. VALIDATION/TEST are NEVER touched.\n",
        "\n",
        "Saves per-fold files under: {output}/folds/fold_{i}/\n",
        "\n",
        "dictionary includes each fold objects: train_gen, y_train_gen"
      ],
      "metadata": {
        "id": "wJ271R3sHopZ"
      }
    },
    {
      "cell_type": "code",
      "execution_count": null,
      "metadata": {
        "colab": {
          "base_uri": "https://localhost:8080/"
        },
        "id": "ZbAVfFHamI6n",
        "outputId": "d1ea4407-057a-4f85-edbb-6bf2bf2db34e"
      },
      "outputs": [
        {
          "output_type": "stream",
          "name": "stdout",
          "text": [
            "Mounted at /content/gdrive\n"
          ]
        }
      ],
      "source": [
        "from google.colab import drive\n",
        "drive.mount('/content/gdrive')"
      ]
    },
    {
      "cell_type": "code",
      "execution_count": null,
      "metadata": {
        "colab": {
          "base_uri": "https://localhost:8080/"
        },
        "id": "El8B1xmGn_z0",
        "outputId": "4dd0bd99-e9b1-4217-99fe-9b21247a78f0"
      },
      "outputs": [
        {
          "output_type": "stream",
          "name": "stdout",
          "text": [
            "\u001b[?25l   \u001b[90m━━━━━━━━━━━━━━━━━━━━━━━━━━━━━━━━━━━━━━━━\u001b[0m \u001b[32m0.0/185.6 kB\u001b[0m \u001b[31m?\u001b[0m eta \u001b[36m-:--:--\u001b[0m\r\u001b[2K   \u001b[90m━━━━━━━━━━━━━━━━━━━━━━━━━━━━━━━━━━━━━━━━\u001b[0m \u001b[32m185.6/185.6 kB\u001b[0m \u001b[31m12.1 MB/s\u001b[0m eta \u001b[36m0:00:00\u001b[0m\n",
            "\u001b[?25h\u001b[?25l   \u001b[90m━━━━━━━━━━━━━━━━━━━━━━━━━━━━━━━━━━━━━━━━\u001b[0m \u001b[32m0.0/140.1 kB\u001b[0m \u001b[31m?\u001b[0m eta \u001b[36m-:--:--\u001b[0m\r\u001b[2K   \u001b[90m━━━━━━━━━━━━━━━━━━━━━━━━━━━━━━━━━━━━━━━━\u001b[0m \u001b[32m140.1/140.1 kB\u001b[0m \u001b[31m13.7 MB/s\u001b[0m eta \u001b[36m0:00:00\u001b[0m\n",
            "\u001b[?25h\u001b[?25l   \u001b[90m━━━━━━━━━━━━━━━━━━━━━━━━━━━━━━━━━━━━━━━━\u001b[0m \u001b[32m0.0/14.0 MB\u001b[0m \u001b[31m?\u001b[0m eta \u001b[36m-:--:--\u001b[0m\r\u001b[2K   \u001b[91m━━━━━━━━━━━━━━━━━━━━\u001b[0m\u001b[90m╺\u001b[0m\u001b[90m━━━━━━━━━━━━━━━━━━━\u001b[0m \u001b[32m7.0/14.0 MB\u001b[0m \u001b[31m212.1 MB/s\u001b[0m eta \u001b[36m0:00:01\u001b[0m\r\u001b[2K   \u001b[91m━━━━━━━━━━━━━━━━━━━━━━━━━━━━━━━━━━━━━━━\u001b[0m\u001b[91m╸\u001b[0m \u001b[32m14.0/14.0 MB\u001b[0m \u001b[31m235.8 MB/s\u001b[0m eta \u001b[36m0:00:01\u001b[0m\r\u001b[2K   \u001b[90m━━━━━━━━━━━━━━━━━━━━━━━━━━━━━━━━━━━━━━━━\u001b[0m \u001b[32m14.0/14.0 MB\u001b[0m \u001b[31m133.9 MB/s\u001b[0m eta \u001b[36m0:00:00\u001b[0m\n",
            "\u001b[2K   \u001b[90m━━━━━━━━━━━━━━━━━━━━━━━━━━━━━━━━━━━━━━━━\u001b[0m \u001b[32m52.7/52.7 kB\u001b[0m \u001b[31m4.0 MB/s\u001b[0m eta \u001b[36m0:00:00\u001b[0m\n",
            "\u001b[2K   \u001b[90m━━━━━━━━━━━━━━━━━━━━━━━━━━━━━━━━━━━━━━━━\u001b[0m \u001b[32m73.8/73.8 kB\u001b[0m \u001b[31m6.6 MB/s\u001b[0m eta \u001b[36m0:00:00\u001b[0m\n",
            "\u001b[2K   \u001b[90m━━━━━━━━━━━━━━━━━━━━━━━━━━━━━━━━━━━━━━━━\u001b[0m \u001b[32m198.1/198.1 kB\u001b[0m \u001b[31m16.7 MB/s\u001b[0m eta \u001b[36m0:00:00\u001b[0m\n",
            "\u001b[2K   \u001b[90m━━━━━━━━━━━━━━━━━━━━━━━━━━━━━━━━━━━━━━━━\u001b[0m \u001b[32m1.9/1.9 MB\u001b[0m \u001b[31m75.1 MB/s\u001b[0m eta \u001b[36m0:00:00\u001b[0m\n",
            "\u001b[2K   \u001b[90m━━━━━━━━━━━━━━━━━━━━━━━━━━━━━━━━━━━━━━━━\u001b[0m \u001b[32m85.3/85.3 kB\u001b[0m \u001b[31m6.9 MB/s\u001b[0m eta \u001b[36m0:00:00\u001b[0m\n",
            "\u001b[2K   \u001b[90m━━━━━━━━━━━━━━━━━━━━━━━━━━━━━━━━━━━━━━━━\u001b[0m \u001b[32m363.4/363.4 MB\u001b[0m \u001b[31m3.0 MB/s\u001b[0m eta \u001b[36m0:00:00\u001b[0m\n",
            "\u001b[2K   \u001b[90m━━━━━━━━━━━━━━━━━━━━━━━━━━━━━━━━━━━━━━━━\u001b[0m \u001b[32m13.8/13.8 MB\u001b[0m \u001b[31m134.6 MB/s\u001b[0m eta \u001b[36m0:00:00\u001b[0m\n",
            "\u001b[2K   \u001b[90m━━━━━━━━━━━━━━━━━━━━━━━━━━━━━━━━━━━━━━━━\u001b[0m \u001b[32m24.6/24.6 MB\u001b[0m \u001b[31m113.6 MB/s\u001b[0m eta \u001b[36m0:00:00\u001b[0m\n",
            "\u001b[2K   \u001b[90m━━━━━━━━━━━━━━━━━━━━━━━━━━━━━━━━━━━━━━━━\u001b[0m \u001b[32m883.7/883.7 kB\u001b[0m \u001b[31m55.0 MB/s\u001b[0m eta \u001b[36m0:00:00\u001b[0m\n",
            "\u001b[2K   \u001b[90m━━━━━━━━━━━━━━━━━━━━━━━━━━━━━━━━━━━━━━━━\u001b[0m \u001b[32m664.8/664.8 MB\u001b[0m \u001b[31m2.2 MB/s\u001b[0m eta \u001b[36m0:00:00\u001b[0m\n",
            "\u001b[2K   \u001b[90m━━━━━━━━━━━━━━━━━━━━━━━━━━━━━━━━━━━━━━━━\u001b[0m \u001b[32m211.5/211.5 MB\u001b[0m \u001b[31m4.9 MB/s\u001b[0m eta \u001b[36m0:00:00\u001b[0m\n",
            "\u001b[2K   \u001b[90m━━━━━━━━━━━━━━━━━━━━━━━━━━━━━━━━━━━━━━━━\u001b[0m \u001b[32m56.3/56.3 MB\u001b[0m \u001b[31m47.2 MB/s\u001b[0m eta \u001b[36m0:00:00\u001b[0m\n",
            "\u001b[2K   \u001b[90m━━━━━━━━━━━━━━━━━━━━━━━━━━━━━━━━━━━━━━━━\u001b[0m \u001b[32m127.9/127.9 MB\u001b[0m \u001b[31m20.6 MB/s\u001b[0m eta \u001b[36m0:00:00\u001b[0m\n",
            "\u001b[2K   \u001b[90m━━━━━━━━━━━━━━━━━━━━━━━━━━━━━━━━━━━━━━━━\u001b[0m \u001b[32m207.5/207.5 MB\u001b[0m \u001b[31m5.1 MB/s\u001b[0m eta \u001b[36m0:00:00\u001b[0m\n",
            "\u001b[2K   \u001b[90m━━━━━━━━━━━━━━━━━━━━━━━━━━━━━━━━━━━━━━━━\u001b[0m \u001b[32m188.7/188.7 MB\u001b[0m \u001b[31m6.5 MB/s\u001b[0m eta \u001b[36m0:00:00\u001b[0m\n",
            "\u001b[2K   \u001b[90m━━━━━━━━━━━━━━━━━━━━━━━━━━━━━━━━━━━━━━━━\u001b[0m \u001b[32m21.1/21.1 MB\u001b[0m \u001b[31m118.0 MB/s\u001b[0m eta \u001b[36m0:00:00\u001b[0m\n",
            "\u001b[?25h"
          ]
        }
      ],
      "source": [
        "pip install sdv --quiet"
      ]
    },
    {
      "cell_type": "code",
      "execution_count": null,
      "metadata": {
        "id": "pQ6dXemJlvK_"
      },
      "outputs": [],
      "source": [
        "import sdv\n",
        "import os\n",
        "import time\n",
        "import numpy as np\n",
        "import pandas as pd\n",
        "import matplotlib.pyplot as plt\n"
      ]
    },
    {
      "cell_type": "code",
      "execution_count": null,
      "metadata": {
        "colab": {
          "base_uri": "https://localhost:8080/"
        },
        "id": "jcnrOH_jmXNM",
        "outputId": "f8229798-5b6b-4645-eaa2-4100734080ba"
      },
      "outputs": [
        {
          "output_type": "stream",
          "name": "stdout",
          "text": [
            "1.25.0\n"
          ]
        }
      ],
      "source": [
        "import sdv\n",
        "print(sdv.__version__)"
      ]
    },
    {
      "cell_type": "code",
      "execution_count": null,
      "metadata": {
        "id": "ofZw8fDdmlfl"
      },
      "outputs": [],
      "source": [
        "from sdv.single_table import GaussianCopulaSynthesizer\n",
        "from sdv.single_table import CTGANSynthesizer\n",
        "from sdv.single_table import TVAESynthesizer\n",
        "from sdv.single_table import CopulaGANSynthesizer\n",
        "\n",
        "from sdv.metadata import Metadata"
      ]
    },
    {
      "cell_type": "markdown",
      "source": [
        "PBMC3K"
      ],
      "metadata": {
        "id": "n51sKwWXD9Wv"
      }
    },
    {
      "cell_type": "code",
      "source": [
        "import pickle\n",
        "with open(f\"data/pbmc3k_train.pkl\", \"rb\") as f:\n",
        "    X_train = pickle.load(f)\n",
        "with open(f\"data/pbmc3k_test.pkl\", \"rb\") as f:\n",
        "    X_test = pickle.load(f)\n",
        "with open(f\"data/pbmc3k_y_train.pkl\", \"rb\") as f:\n",
        "    y_train = pickle.load(f)\n",
        "with open(f\"data/pbmc3k_y_test.pkl\", \"rb\") as f:\n",
        "    y_test = pickle.load(f)"
      ],
      "metadata": {
        "id": "wcJj3j2czXSP"
      },
      "execution_count": null,
      "outputs": []
    },
    {
      "cell_type": "markdown",
      "source": [
        "5CV Pancreas"
      ],
      "metadata": {
        "id": "IVKLfyhiD_3X"
      }
    },
    {
      "cell_type": "code",
      "execution_count": null,
      "metadata": {
        "id": "omLoNaTBH186"
      },
      "outputs": [],
      "source": [
        "import pickle\n",
        "\n",
        "all_folds = []\n",
        "\n",
        "for fold in range(1, 6):\n",
        "    with open(f\"data/5CV/fold_skf_3000_{fold}.pkl\", \"rb\") as f:\n",
        "        fold_data = pickle.load(f)\n",
        "        all_folds.append(fold_data)\n",
        "\n"
      ]
    },
    {
      "cell_type": "code",
      "source": [
        "for i,f in enumerate(all_folds, start=1):\n",
        "  print(f\"Fold {i}:\")\n",
        "  print(\"X_train shape:\", f['X_train'].shape)\n",
        "  print(\"y_train shape:\", f['y_train'].shape)"
      ],
      "metadata": {
        "colab": {
          "base_uri": "https://localhost:8080/"
        },
        "id": "Lvg8qaK7HEiM",
        "outputId": "52590f70-61a4-4523-c9e5-d4993f29d309"
      },
      "execution_count": null,
      "outputs": [
        {
          "output_type": "stream",
          "name": "stdout",
          "text": [
            "Fold 1:\n",
            "X_train shape: (11337, 3000)\n",
            "y_train shape: (11337,)\n",
            "Fold 2:\n",
            "X_train shape: (11337, 3000)\n",
            "y_train shape: (11337,)\n",
            "Fold 3:\n",
            "X_train shape: (11338, 3000)\n",
            "y_train shape: (11338,)\n",
            "Fold 4:\n",
            "X_train shape: (11338, 3000)\n",
            "y_train shape: (11338,)\n",
            "Fold 5:\n",
            "X_train shape: (11338, 3000)\n",
            "y_train shape: (11338,)\n"
          ]
        }
      ]
    },
    {
      "cell_type": "code",
      "execution_count": null,
      "metadata": {
        "colab": {
          "base_uri": "https://localhost:8080/",
          "height": 312
        },
        "id": "TKa_AQKbFqUT",
        "outputId": "52d3a1df-e115-49fe-97a1-8969ef3d4cf6"
      },
      "outputs": [
        {
          "output_type": "display_data",
          "data": {
            "text/plain": [
              "{'PSC': np.int64(44),\n",
              " 'acinar': np.int64(1084),\n",
              " 'activated_stellate': np.int64(224),\n",
              " 'alpha': np.int64(3911),\n",
              " 'beta': np.int64(2954),\n",
              " 'delta': np.int64(744),\n",
              " 'ductal': np.int64(1392),\n",
              " 'endothelial': np.int64(228),\n",
              " 'epsilon': np.int64(17),\n",
              " 'gamma': np.int64(334),\n",
              " 'macrophage': np.int64(43),\n",
              " 'mast': np.int64(17),\n",
              " 'mesenchymal': np.int64(61),\n",
              " 'pp': np.int64(141),\n",
              " 'quiescent_stellate': np.int64(134),\n",
              " 'schwann': np.int64(9)}"
            ]
          },
          "metadata": {}
        },
        {
          "output_type": "display_data",
          "data": {
            "text/plain": [
              "np.int64(3911)"
            ]
          },
          "metadata": {}
        }
      ],
      "source": [
        "unique_values, counts = np.unique(all_folds[1]['y_train'], return_counts=True)\n",
        "display(dict(zip(unique_values, counts)),np.max(counts))"
      ]
    },
    {
      "cell_type": "code",
      "execution_count": null,
      "metadata": {
        "id": "0MeHtUbwnvD4"
      },
      "outputs": [],
      "source": [
        "Q1, Q2, Q3 = np.quantile(counts, [0.25, 0.5, 0.75], axis=0, method='nearest')\n",
        "print(\"Q1\",Q1,\"\\nQ2\",Q2,\"\\nQ3\", Q3)\n"
      ]
    },
    {
      "cell_type": "markdown",
      "source": [
        "HCA"
      ],
      "metadata": {
        "id": "QMvV9yhLDpjA"
      }
    },
    {
      "cell_type": "code",
      "source": [
        "import pickle\n",
        "\n",
        "all_folds = []\n",
        "\n",
        "for fold in range(1, 6):\n",
        "    with open(f\"HCA/5CV/fold_skf_{fold}.pkl\", \"rb\") as f:\n",
        "        fold_data = pickle.load(f)\n",
        "        all_folds.append(fold_data)\n"
      ],
      "metadata": {
        "id": "AHVD_KtXBDsz"
      },
      "execution_count": null,
      "outputs": []
    },
    {
      "cell_type": "code",
      "source": [
        "for i,f in enumerate(all_folds, start=1):\n",
        "  print(f\"Fold {i}:\")\n",
        "  print(\"X_train shape:\", f['X_train'].shape)\n",
        "  print(\"y_train shape:\", f['y_train'].shape)"
      ],
      "metadata": {
        "colab": {
          "base_uri": "https://localhost:8080/"
        },
        "id": "LTh_vf0FBi2J",
        "outputId": "39f5e0f9-fff4-457a-c2ab-82a77205ef8b"
      },
      "execution_count": null,
      "outputs": [
        {
          "output_type": "stream",
          "name": "stdout",
          "text": [
            "Fold 1:\n",
            "X_train shape: (8000, 3000)\n",
            "y_train shape: (8000,)\n",
            "Fold 2:\n",
            "X_train shape: (8000, 3000)\n",
            "y_train shape: (8000,)\n",
            "Fold 3:\n",
            "X_train shape: (8000, 3000)\n",
            "y_train shape: (8000,)\n",
            "Fold 4:\n",
            "X_train shape: (8000, 3000)\n",
            "y_train shape: (8000,)\n",
            "Fold 5:\n",
            "X_train shape: (8000, 3000)\n",
            "y_train shape: (8000,)\n"
          ]
        }
      ]
    },
    {
      "cell_type": "markdown",
      "metadata": {
        "id": "2zGrBci2qD71"
      },
      "source": [
        "Gaussian Copula"
      ]
    },
    {
      "cell_type": "code",
      "execution_count": null,
      "metadata": {
        "id": "NUIhktKZHuvU"
      },
      "outputs": [],
      "source": [
        "def generate_GC(metadata,num_synthetic_samples, X_min):\n",
        "\n",
        "    gc = GaussianCopulaSynthesizer(metadata)\n",
        "    gc.fit(X_min)\n",
        "    gc_synthetic = gc.sample(num_synthetic_samples)\n",
        "\n",
        "    return gc_synthetic"
      ]
    },
    {
      "cell_type": "markdown",
      "source": [
        "without class"
      ],
      "metadata": {
        "id": "feLta_ueESEq"
      }
    },
    {
      "cell_type": "code",
      "source": [
        "metadata = Metadata()\n",
        "metadata = metadata.detect_from_dataframe(X_train)\n",
        "numeric_cols = list(X_train.columns)\n",
        "for col in numeric_cols:\n",
        "  metadata.update_column(\n",
        "  column_name=col,\n",
        "  sdtype='numerical'\n",
        "  )\n",
        "synthetic_samples = generate_GC(metadata, int(X_test.shape[0]), X_train)"
      ],
      "metadata": {
        "colab": {
          "base_uri": "https://localhost:8080/"
        },
        "id": "exjyJgC0znID",
        "outputId": "984a12a3-0a3e-4247-9c98-bd13ed729c87"
      },
      "execution_count": null,
      "outputs": [
        {
          "output_type": "stream",
          "name": "stderr",
          "text": [
            "/usr/local/lib/python3.11/dist-packages/sdv/single_table/base.py:129: UserWarning: We strongly recommend saving the metadata using 'save_to_json' for replicability in future SDV versions.\n",
            "  warnings.warn(\n"
          ]
        }
      ]
    },
    {
      "cell_type": "code",
      "source": [
        "synthetic_samples.shape"
      ],
      "metadata": {
        "colab": {
          "base_uri": "https://localhost:8080/"
        },
        "id": "XhcLwq3b0LH2",
        "outputId": "ae8b65b5-997a-4315-ea54-3369c521ed60"
      },
      "execution_count": null,
      "outputs": [
        {
          "output_type": "execute_result",
          "data": {
            "text/plain": [
              "(264, 2000)"
            ]
          },
          "metadata": {},
          "execution_count": 12
        }
      ]
    },
    {
      "cell_type": "code",
      "source": [
        "with open(\"results\" + os.sep + f'GC_pbmc3k.pkl', 'wb') as f:\n",
        "          pickle.dump(synthetic_samples, f)"
      ],
      "metadata": {
        "id": "VrKUV5xZ0LjU"
      },
      "execution_count": null,
      "outputs": []
    },
    {
      "cell_type": "markdown",
      "source": [
        "CV with class"
      ],
      "metadata": {
        "id": "9QuxW1sQEUrZ"
      }
    },
    {
      "cell_type": "code",
      "execution_count": null,
      "metadata": {
        "id": "vClMEzLMod0s"
      },
      "outputs": [],
      "source": [
        "\n",
        "def GC_CV():\n",
        "  gen_dict = []\n",
        "  for k, fold in enumerate(all_folds, start=1):\n",
        "      X_train = fold['X_train']\n",
        "      X_val = fold['X_val']\n",
        "      y_train = fold['y_train']\n",
        "      y_val = fold['y_val']\n",
        "\n",
        "      metadata = Metadata()\n",
        "      metadata = metadata.detect_from_dataframe(X_train)\n",
        "      numeric_cols = list(X_train.columns)\n",
        "      for col in numeric_cols:\n",
        "          metadata.update_column(\n",
        "              column_name=col,\n",
        "              sdtype='numerical'\n",
        "          )\n",
        "      # Get unique values and their counts\n",
        "      unique_values, counts = np.unique(y_train, return_counts=True)\n",
        "      classlabel_counts = dict(zip(unique_values, counts))\n",
        "      Q1, Q2, Q3 = np.quantile(counts, [0.25, 0.5, 0.75], axis=0, method='nearest')\n",
        "      max_count = Q3 #np.max(counts)\n",
        "\n",
        "      i=1\n",
        "      for label, count in classlabel_counts.items():\n",
        "          #print(x.shape, y.shape)\n",
        "          print(\"label, count, max_count\",label,count,max_count)\n",
        "          X_minority = X_train[y_train == label]\n",
        "          if count < max_count:\n",
        "              #print(\"\\n\")\n",
        "              #print(f\"Value {label} appears {count} times.\")\n",
        "              num_synthetic_samples = max_count - count\n",
        "              synthetic_samples = generate_GC(metadata, num_synthetic_samples, X_minority)\n",
        "\n",
        "              X_minority = np.array(X_minority)\n",
        "              synthetic_samples = np.array(synthetic_samples)\n",
        "              if i==1:\n",
        "                X_train_gen = X_minority\n",
        "                X_train_gen = np.vstack([X_train_gen, synthetic_samples])\n",
        "\n",
        "                y_train_gen = np.full(max_count, label)\n",
        "\n",
        "                y_train_indexes = np.full(count, 1)\n",
        "                y_train_indexes = np.concatenate([y_train_indexes, np.full(num_synthetic_samples, 2)])\n",
        "              else:\n",
        "                tmp = np.vstack([X_minority, synthetic_samples])\n",
        "                X_train_gen = np.vstack([X_train_gen, tmp])\n",
        "                y_train_gen = np.concatenate([y_train_gen, np.full(max_count, label)])\n",
        "\n",
        "                y_train_indexes = np.concatenate([y_train_indexes, np.full(count, 1)])\n",
        "                y_train_indexes = np.concatenate([y_train_indexes, np.full(num_synthetic_samples, 2)])\n",
        "          else:\n",
        "              X_train_gen = np.vstack([X_train_gen, X_minority])\n",
        "              y_train_gen = np.concatenate([y_train_gen, np.full(count, label)])\n",
        "              y_train_indexes = np.concatenate([y_train_indexes, np.full(count, 1)])\n",
        "          i=i+1\n",
        "\n",
        "      syn = {\n",
        "          'X_train_gen': X_train_gen,\n",
        "          'y_train_gen': y_train_gen\n",
        "      }\n",
        "      gen_dict.append(syn)\n",
        "\n",
        "      with open(\"HCA/5CV\" + os.sep + f'GC_skf_fold'+str(k)+'.pkl', 'wb') as f:\n",
        "          pickle.dump(syn, f)\n",
        "\n",
        "  return gen_dict\n"
      ]
    },
    {
      "cell_type": "code",
      "execution_count": null,
      "metadata": {
        "colab": {
          "base_uri": "https://localhost:8080/"
        },
        "collapsed": true,
        "id": "Bjskku0zHuhp",
        "outputId": "274ed0f7-09a6-4e70-ca77-afd806a91915"
      },
      "outputs": [
        {
          "output_type": "stream",
          "name": "stdout",
          "text": [
            "label, count, max_count 1 476 670\n"
          ]
        },
        {
          "output_type": "stream",
          "name": "stderr",
          "text": [
            "/usr/local/lib/python3.11/dist-packages/sdv/single_table/base.py:133: UserWarning: We strongly recommend saving the metadata using 'save_to_json' for replicability in future SDV versions.\n",
            "  warnings.warn(\n"
          ]
        },
        {
          "output_type": "stream",
          "name": "stdout",
          "text": [
            "label, count, max_count 2 399 670\n",
            "label, count, max_count 3 918 670\n",
            "label, count, max_count 4 1205 670\n",
            "label, count, max_count 5 670 670\n",
            "label, count, max_count 6 275 670\n",
            "label, count, max_count 7 1658 670\n",
            "label, count, max_count 8 470 670\n",
            "label, count, max_count 9 892 670\n",
            "label, count, max_count 10 202 670\n",
            "label, count, max_count 11 377 670\n",
            "label, count, max_count 12 91 670\n",
            "label, count, max_count 13 107 670\n",
            "label, count, max_count 14 80 670\n",
            "label, count, max_count 15 121 670\n",
            "label, count, max_count 16 59 670\n",
            "label, count, max_count 1 476 671\n"
          ]
        },
        {
          "output_type": "stream",
          "name": "stderr",
          "text": [
            "/usr/local/lib/python3.11/dist-packages/sdv/single_table/base.py:133: UserWarning: We strongly recommend saving the metadata using 'save_to_json' for replicability in future SDV versions.\n",
            "  warnings.warn(\n"
          ]
        },
        {
          "output_type": "stream",
          "name": "stdout",
          "text": [
            "label, count, max_count 2 399 671\n",
            "label, count, max_count 3 918 671\n",
            "label, count, max_count 4 1205 671\n",
            "label, count, max_count 5 671 671\n",
            "label, count, max_count 6 274 671\n",
            "label, count, max_count 7 1658 671\n",
            "label, count, max_count 8 470 671\n",
            "label, count, max_count 9 892 671\n",
            "label, count, max_count 10 202 671\n",
            "label, count, max_count 11 377 671\n",
            "label, count, max_count 12 91 671\n",
            "label, count, max_count 13 107 671\n",
            "label, count, max_count 14 80 671\n",
            "label, count, max_count 15 121 671\n",
            "label, count, max_count 16 59 671\n",
            "label, count, max_count 1 476 671\n"
          ]
        },
        {
          "output_type": "stream",
          "name": "stderr",
          "text": [
            "/usr/local/lib/python3.11/dist-packages/sdv/single_table/base.py:133: UserWarning: We strongly recommend saving the metadata using 'save_to_json' for replicability in future SDV versions.\n",
            "  warnings.warn(\n"
          ]
        },
        {
          "output_type": "stream",
          "name": "stdout",
          "text": [
            "label, count, max_count 2 399 671\n",
            "label, count, max_count 3 919 671\n",
            "label, count, max_count 4 1204 671\n",
            "label, count, max_count 5 671 671\n",
            "label, count, max_count 6 274 671\n",
            "label, count, max_count 7 1659 671\n",
            "label, count, max_count 8 469 671\n",
            "label, count, max_count 9 892 671\n",
            "label, count, max_count 10 203 671\n",
            "label, count, max_count 11 376 671\n",
            "label, count, max_count 12 92 671\n",
            "label, count, max_count 13 106 671\n",
            "label, count, max_count 14 80 671\n",
            "label, count, max_count 15 122 671\n",
            "label, count, max_count 16 58 671\n",
            "label, count, max_count 1 476 670\n"
          ]
        },
        {
          "output_type": "stream",
          "name": "stderr",
          "text": [
            "/usr/local/lib/python3.11/dist-packages/sdv/single_table/base.py:133: UserWarning: We strongly recommend saving the metadata using 'save_to_json' for replicability in future SDV versions.\n",
            "  warnings.warn(\n"
          ]
        },
        {
          "output_type": "stream",
          "name": "stdout",
          "text": [
            "label, count, max_count 2 399 670\n",
            "label, count, max_count 3 919 670\n",
            "label, count, max_count 4 1205 670\n",
            "label, count, max_count 5 670 670\n",
            "label, count, max_count 6 274 670\n",
            "label, count, max_count 7 1659 670\n",
            "label, count, max_count 8 469 670\n",
            "label, count, max_count 9 892 670\n",
            "label, count, max_count 10 203 670\n",
            "label, count, max_count 11 377 670\n",
            "label, count, max_count 12 91 670\n",
            "label, count, max_count 13 106 670\n",
            "label, count, max_count 14 80 670\n",
            "label, count, max_count 15 122 670\n",
            "label, count, max_count 16 58 670\n",
            "label, count, max_count 1 476 670\n"
          ]
        },
        {
          "output_type": "stream",
          "name": "stderr",
          "text": [
            "/usr/local/lib/python3.11/dist-packages/sdv/single_table/base.py:133: UserWarning: We strongly recommend saving the metadata using 'save_to_json' for replicability in future SDV versions.\n",
            "  warnings.warn(\n"
          ]
        },
        {
          "output_type": "stream",
          "name": "stdout",
          "text": [
            "label, count, max_count 2 400 670\n",
            "label, count, max_count 3 918 670\n",
            "label, count, max_count 4 1205 670\n",
            "label, count, max_count 5 670 670\n",
            "label, count, max_count 6 275 670\n",
            "label, count, max_count 7 1658 670\n",
            "label, count, max_count 8 470 670\n",
            "label, count, max_count 9 892 670\n",
            "label, count, max_count 10 202 670\n",
            "label, count, max_count 11 377 670\n",
            "label, count, max_count 12 91 670\n",
            "label, count, max_count 13 106 670\n",
            "label, count, max_count 14 80 670\n",
            "label, count, max_count 15 122 670\n",
            "label, count, max_count 16 58 670\n"
          ]
        }
      ],
      "source": [
        "gen_dict = GC_CV()"
      ]
    }
  ],
  "metadata": {
    "colab": {
      "machine_shape": "hm",
      "provenance": []
    },
    "kernelspec": {
      "display_name": "Python 3",
      "name": "python3"
    },
    "language_info": {
      "name": "python"
    }
  },
  "nbformat": 4,
  "nbformat_minor": 0
}