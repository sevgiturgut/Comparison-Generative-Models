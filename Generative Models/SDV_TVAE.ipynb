{
  "cells": [
    {
      "cell_type": "markdown",
      "source": [
        "TVAE Runner (SDV-based)\n",
        "\n",
        "This script trains a TVAE model on single-cell (tabular) data using the SDV library. It mirrors the CTGAN workflow and supports the same three study scenarios used in the paper.\n",
        "\n",
        "PBMC3K:\n",
        "\n",
        "Trains TVAE on real train samples with 100 epochs.\n",
        "\n",
        "Generates synthetic samples equal to TEST sample size.\n",
        "\n",
        "Saves: pbmc3k_TVAE_100epc.pkl\n",
        "\n",
        "HCA-BM10K (5-fold CV)\n",
        "\n",
        "Integrated Pancreatic dataset (5-fold CV)\n",
        "\n",
        "For EACH FOLD:\n",
        "\n",
        "Fit TVAE on TRAIN ONLY.\n",
        "\n",
        "Generate synthetic samples to reach the Q3 (75th percentile) count of the corresponding cell-type distribution\n",
        "(per-class if --label-col is provided; labels are assigned accordingly).\n",
        "\n",
        "Augment TRAIN with synthetic data. VALIDATION/TEST are NEVER touched.\n",
        "\n",
        "Saves per-fold files under: {output}/folds/fold_{i}/\n",
        "\n",
        "dictionary includes each fold objects: train_gen, y_train_gen"
      ],
      "metadata": {
        "id": "oeL3tTzRG05S"
      }
    },
    {
      "cell_type": "code",
      "execution_count": null,
      "metadata": {
        "colab": {
          "base_uri": "https://localhost:8080/"
        },
        "collapsed": true,
        "id": "ZbAVfFHamI6n",
        "outputId": "61f9593b-1d8b-41ca-80bf-b90e7a1f68f2"
      },
      "outputs": [
        {
          "output_type": "stream",
          "name": "stdout",
          "text": [
            "Mounted at /content/gdrive\n"
          ]
        }
      ],
      "source": [
        "from google.colab import drive\n",
        "drive.mount('/content/gdrive')"
      ]
    },
    {
      "cell_type": "code",
      "execution_count": null,
      "metadata": {
        "colab": {
          "base_uri": "https://localhost:8080/"
        },
        "id": "RnIhilFZngVg",
        "outputId": "3d7d2f56-9c9f-43dc-edc0-7d39d6d78ea9"
      },
      "outputs": [
        {
          "output_type": "stream",
          "name": "stdout",
          "text": [
            "\u001b[?25l   \u001b[90m━━━━━━━━━━━━━━━━━━━━━━━━━━━━━━━━━━━━━━━━\u001b[0m \u001b[32m0.0/185.6 kB\u001b[0m \u001b[31m?\u001b[0m eta \u001b[36m-:--:--\u001b[0m\r\u001b[2K   \u001b[90m━━━━━━━━━━━━━━━━━━━━━━━━━━━━━━━━━━━━━━━━\u001b[0m \u001b[32m185.6/185.6 kB\u001b[0m \u001b[31m6.1 MB/s\u001b[0m eta \u001b[36m0:00:00\u001b[0m\n",
            "\u001b[2K   \u001b[90m━━━━━━━━━━━━━━━━━━━━━━━━━━━━━━━━━━━━━━━━\u001b[0m \u001b[32m140.1/140.1 kB\u001b[0m \u001b[31m13.0 MB/s\u001b[0m eta \u001b[36m0:00:00\u001b[0m\n",
            "\u001b[2K   \u001b[90m━━━━━━━━━━━━━━━━━━━━━━━━━━━━━━━━━━━━━━━━\u001b[0m \u001b[32m14.0/14.0 MB\u001b[0m \u001b[31m125.7 MB/s\u001b[0m eta \u001b[36m0:00:00\u001b[0m\n",
            "\u001b[2K   \u001b[90m━━━━━━━━━━━━━━━━━━━━━━━━━━━━━━━━━━━━━━━━\u001b[0m \u001b[32m52.7/52.7 kB\u001b[0m \u001b[31m5.5 MB/s\u001b[0m eta \u001b[36m0:00:00\u001b[0m\n",
            "\u001b[2K   \u001b[90m━━━━━━━━━━━━━━━━━━━━━━━━━━━━━━━━━━━━━━━━\u001b[0m \u001b[32m73.8/73.8 kB\u001b[0m \u001b[31m6.4 MB/s\u001b[0m eta \u001b[36m0:00:00\u001b[0m\n",
            "\u001b[2K   \u001b[90m━━━━━━━━━━━━━━━━━━━━━━━━━━━━━━━━━━━━━━━━\u001b[0m \u001b[32m198.1/198.1 kB\u001b[0m \u001b[31m19.4 MB/s\u001b[0m eta \u001b[36m0:00:00\u001b[0m\n",
            "\u001b[2K   \u001b[90m━━━━━━━━━━━━━━━━━━━━━━━━━━━━━━━━━━━━━━━━\u001b[0m \u001b[32m1.9/1.9 MB\u001b[0m \u001b[31m89.4 MB/s\u001b[0m eta \u001b[36m0:00:00\u001b[0m\n",
            "\u001b[2K   \u001b[90m━━━━━━━━━━━━━━━━━━━━━━━━━━━━━━━━━━━━━━━━\u001b[0m \u001b[32m85.3/85.3 kB\u001b[0m \u001b[31m8.9 MB/s\u001b[0m eta \u001b[36m0:00:00\u001b[0m\n",
            "\u001b[2K   \u001b[90m━━━━━━━━━━━━━━━━━━━━━━━━━━━━━━━━━━━━━━━━\u001b[0m \u001b[32m363.4/363.4 MB\u001b[0m \u001b[31m3.3 MB/s\u001b[0m eta \u001b[36m0:00:00\u001b[0m\n",
            "\u001b[2K   \u001b[90m━━━━━━━━━━━━━━━━━━━━━━━━━━━━━━━━━━━━━━━━\u001b[0m \u001b[32m13.8/13.8 MB\u001b[0m \u001b[31m124.9 MB/s\u001b[0m eta \u001b[36m0:00:00\u001b[0m\n",
            "\u001b[2K   \u001b[90m━━━━━━━━━━━━━━━━━━━━━━━━━━━━━━━━━━━━━━━━\u001b[0m \u001b[32m24.6/24.6 MB\u001b[0m \u001b[31m98.4 MB/s\u001b[0m eta \u001b[36m0:00:00\u001b[0m\n",
            "\u001b[2K   \u001b[90m━━━━━━━━━━━━━━━━━━━━━━━━━━━━━━━━━━━━━━━━\u001b[0m \u001b[32m883.7/883.7 kB\u001b[0m \u001b[31m60.8 MB/s\u001b[0m eta \u001b[36m0:00:00\u001b[0m\n",
            "\u001b[2K   \u001b[90m━━━━━━━━━━━━━━━━━━━━━━━━━━━━━━━━━━━━━━━━\u001b[0m \u001b[32m664.8/664.8 MB\u001b[0m \u001b[31m1.7 MB/s\u001b[0m eta \u001b[36m0:00:00\u001b[0m\n",
            "\u001b[2K   \u001b[90m━━━━━━━━━━━━━━━━━━━━━━━━━━━━━━━━━━━━━━━━\u001b[0m \u001b[32m211.5/211.5 MB\u001b[0m \u001b[31m11.6 MB/s\u001b[0m eta \u001b[36m0:00:00\u001b[0m\n",
            "\u001b[2K   \u001b[90m━━━━━━━━━━━━━━━━━━━━━━━━━━━━━━━━━━━━━━━━\u001b[0m \u001b[32m56.3/56.3 MB\u001b[0m \u001b[31m41.0 MB/s\u001b[0m eta \u001b[36m0:00:00\u001b[0m\n",
            "\u001b[2K   \u001b[90m━━━━━━━━━━━━━━━━━━━━━━━━━━━━━━━━━━━━━━━━\u001b[0m \u001b[32m127.9/127.9 MB\u001b[0m \u001b[31m19.2 MB/s\u001b[0m eta \u001b[36m0:00:00\u001b[0m\n",
            "\u001b[2K   \u001b[90m━━━━━━━━━━━━━━━━━━━━━━━━━━━━━━━━━━━━━━━━\u001b[0m \u001b[32m207.5/207.5 MB\u001b[0m \u001b[31m3.3 MB/s\u001b[0m eta \u001b[36m0:00:00\u001b[0m\n",
            "\u001b[2K   \u001b[90m━━━━━━━━━━━━━━━━━━━━━━━━━━━━━━━━━━━━━━━━\u001b[0m \u001b[32m188.7/188.7 MB\u001b[0m \u001b[31m12.9 MB/s\u001b[0m eta \u001b[36m0:00:00\u001b[0m\n",
            "\u001b[2K   \u001b[90m━━━━━━━━━━━━━━━━━━━━━━━━━━━━━━━━━━━━━━━━\u001b[0m \u001b[32m21.1/21.1 MB\u001b[0m \u001b[31m89.0 MB/s\u001b[0m eta \u001b[36m0:00:00\u001b[0m\n",
            "\u001b[?25h"
          ]
        }
      ],
      "source": [
        "pip install sdv --quiet"
      ]
    },
    {
      "cell_type": "code",
      "execution_count": null,
      "metadata": {
        "id": "vX-zkASdmPub"
      },
      "outputs": [],
      "source": [
        "import sdv\n",
        "import os\n",
        "import time\n",
        "import numpy as np\n",
        "import pandas as pd\n",
        "import matplotlib.pyplot as plt\n"
      ]
    },
    {
      "cell_type": "code",
      "execution_count": null,
      "metadata": {
        "id": "zMlz6Xggnsap"
      },
      "outputs": [],
      "source": [
        "from sdv.single_table import GaussianCopulaSynthesizer\n",
        "from sdv.single_table import CTGANSynthesizer\n",
        "from sdv.single_table import TVAESynthesizer\n",
        "from sdv.single_table import CopulaGANSynthesizer\n",
        "\n",
        "from sdv.metadata import Metadata\n",
        "from sdv.sampling import Condition as cd"
      ]
    },
    {
      "cell_type": "markdown",
      "source": [
        "PBMC3K"
      ],
      "metadata": {
        "id": "sZdtFkZmCt_5"
      }
    },
    {
      "cell_type": "code",
      "source": [
        "import pickle\n",
        "with open(f\"data/pbmc3k_train.pkl\", \"rb\") as f:\n",
        "    X_train = pickle.load(f)\n",
        "with open(f\"data/pbmc3k_test.pkl\", \"rb\") as f:\n",
        "    X_test = pickle.load(f)\n",
        "with open(f\"data/pbmc3k_y_train.pkl\", \"rb\") as f:\n",
        "    y_train = pickle.load(f)\n",
        "with open(f\"data/pbmc3k_y_test.pkl\", \"rb\") as f:\n",
        "    y_test = pickle.load(f)"
      ],
      "metadata": {
        "id": "kOzUxATb1n1-"
      },
      "execution_count": null,
      "outputs": []
    },
    {
      "cell_type": "markdown",
      "source": [
        "5CV Pancrea"
      ],
      "metadata": {
        "id": "PyuTqw7bCvqJ"
      }
    },
    {
      "cell_type": "code",
      "execution_count": null,
      "metadata": {
        "id": "ErRq-yUJ8cGr"
      },
      "outputs": [],
      "source": [
        "import pickle\n",
        "\n",
        "all_folds = []\n",
        "\n",
        "for fold in range(1, 6):\n",
        "    with open(f\"data/5CV/fold_skf_3000_{fold}.pkl\", \"rb\") as f:\n",
        "        fold_data = pickle.load(f)\n",
        "        all_folds.append(fold_data)\n"
      ]
    },
    {
      "cell_type": "code",
      "source": [
        "for i,f in enumerate(all_folds, start=1):\n",
        "  print(f\"Fold {i}:\")\n",
        "  print(\"X_train shape:\", f['X_train'].shape)\n",
        "  print(\"y_train shape:\", f['y_train'].shape)"
      ],
      "metadata": {
        "colab": {
          "base_uri": "https://localhost:8080/"
        },
        "id": "Lvg8qaK7HEiM",
        "outputId": "17589bff-8916-4b87-f8e1-f05258ad0a50"
      },
      "execution_count": null,
      "outputs": [
        {
          "output_type": "stream",
          "name": "stdout",
          "text": [
            "Fold 1:\n",
            "X_train shape: (11337, 3000)\n",
            "y_train shape: (11337,)\n",
            "Fold 2:\n",
            "X_train shape: (11337, 3000)\n",
            "y_train shape: (11337,)\n",
            "Fold 3:\n",
            "X_train shape: (11338, 3000)\n",
            "y_train shape: (11338,)\n",
            "Fold 4:\n",
            "X_train shape: (11338, 3000)\n",
            "y_train shape: (11338,)\n",
            "Fold 5:\n",
            "X_train shape: (11338, 3000)\n",
            "y_train shape: (11338,)\n"
          ]
        }
      ]
    },
    {
      "cell_type": "code",
      "execution_count": null,
      "metadata": {
        "colab": {
          "base_uri": "https://localhost:8080/",
          "height": 312
        },
        "id": "e-lGH2azLNE7",
        "outputId": "6e46aaaa-2934-49e6-cea6-cb2c73568360"
      },
      "outputs": [
        {
          "output_type": "display_data",
          "data": {
            "text/plain": [
              "{'PSC': np.int64(41),\n",
              " 'acinar': np.int64(1089),\n",
              " 'activated_stellate': np.int64(231),\n",
              " 'alpha': np.int64(3876),\n",
              " 'beta': np.int64(2975),\n",
              " 'delta': np.int64(740),\n",
              " 'ductal': np.int64(1353),\n",
              " 'endothelial': np.int64(229),\n",
              " 'epsilon': np.int64(16),\n",
              " 'gamma': np.int64(350),\n",
              " 'macrophage': np.int64(48),\n",
              " 'mast': np.int64(23),\n",
              " 'mesenchymal': np.int64(69),\n",
              " 'pp': np.int64(150),\n",
              " 'quiescent_stellate': np.int64(135),\n",
              " 'schwann': np.int64(12)}"
            ]
          },
          "metadata": {}
        },
        {
          "output_type": "display_data",
          "data": {
            "text/plain": [
              "np.int64(3876)"
            ]
          },
          "metadata": {}
        }
      ],
      "source": [
        "unique_values, counts = np.unique(all_folds[0]['y_train'], return_counts=True)\n",
        "display(dict(zip(unique_values, counts)),np.max(counts))"
      ]
    },
    {
      "cell_type": "markdown",
      "source": [
        "HCA"
      ],
      "metadata": {
        "id": "QMvV9yhLDpjA"
      }
    },
    {
      "cell_type": "code",
      "source": [
        "import pickle\n",
        "\n",
        "all_folds = []\n",
        "\n",
        "for fold in range(1, 6):\n",
        "    with open(f\"HCA/5CV/fold_skf_{fold}.pkl\", \"rb\") as f:\n",
        "        fold_data = pickle.load(f)\n",
        "        all_folds.append(fold_data)\n",
        "\n"
      ],
      "metadata": {
        "id": "y3aDXNUcCbJK"
      },
      "execution_count": null,
      "outputs": []
    },
    {
      "cell_type": "markdown",
      "metadata": {
        "id": "lyIZJwHcn_Ok"
      },
      "source": [
        "TVAE"
      ]
    },
    {
      "cell_type": "code",
      "execution_count": null,
      "metadata": {
        "collapsed": true,
        "id": "tbDnvoedQX3H"
      },
      "outputs": [],
      "source": [
        "from sdv.single_table import TVAESynthesizer\n",
        "\n",
        "def tVAE_method(X_min,num_synthetic_samples, metadata):\n",
        "  tvae = TVAESynthesizer(metadata,epochs=100,verbose=True)\n",
        "  tvae.fit(X_min)\n",
        "  # Create synthetic data\n",
        "  synthetic_data = tvae.sample(num_synthetic_samples)\n",
        "  return synthetic_data"
      ]
    },
    {
      "cell_type": "markdown",
      "source": [
        "PBMC3K without class info"
      ],
      "metadata": {
        "id": "_67EaqTjDQ8-"
      }
    },
    {
      "cell_type": "code",
      "source": [
        "metadata = Metadata()\n",
        "metadata = metadata.detect_from_dataframe(X_train)\n",
        "numeric_cols = list(X_train.columns)\n",
        "for col in numeric_cols:\n",
        "  metadata.update_column(\n",
        "  column_name=col,\n",
        "  sdtype='numerical'\n",
        "  )\n",
        "synthetic_samples = tVAE_method(X_train, int(X_test.shape[0]),metadata )"
      ],
      "metadata": {
        "colab": {
          "base_uri": "https://localhost:8080/"
        },
        "id": "r_QMR8hP1tYb",
        "outputId": "4e7bc994-6698-4814-89d2-dc3a93af5dd3"
      },
      "execution_count": null,
      "outputs": [
        {
          "output_type": "stream",
          "name": "stderr",
          "text": [
            "/usr/local/lib/python3.11/dist-packages/sdv/single_table/base.py:129: UserWarning: We strongly recommend saving the metadata using 'save_to_json' for replicability in future SDV versions.\n",
            "  warnings.warn(\n",
            "Loss: -8162.612: 100%|██████████| 100/100 [16:06<00:00,  9.66s/it]\n"
          ]
        }
      ]
    },
    {
      "cell_type": "code",
      "source": [
        "synthetic_samples.shape"
      ],
      "metadata": {
        "colab": {
          "base_uri": "https://localhost:8080/"
        },
        "id": "XCn5iNwA1vxk",
        "outputId": "0640155f-6e35-4d7d-e9b2-1d4ed5659561"
      },
      "execution_count": null,
      "outputs": [
        {
          "output_type": "execute_result",
          "data": {
            "text/plain": [
              "(264, 2000)"
            ]
          },
          "metadata": {},
          "execution_count": 9
        }
      ]
    },
    {
      "cell_type": "code",
      "source": [
        "with open(g\"results\" + os.sep + f'pbmc3k_TVAE_100epc.pkl', 'wb') as f:\n",
        "          pickle.dump(synthetic_samples, f)"
      ],
      "metadata": {
        "id": "AohsAiVN1xzU"
      },
      "execution_count": null,
      "outputs": []
    },
    {
      "cell_type": "markdown",
      "source": [
        "5CV"
      ],
      "metadata": {
        "id": "dyOiUoUXDUQq"
      }
    },
    {
      "cell_type": "code",
      "execution_count": null,
      "metadata": {
        "id": "18sbNx91MDW6"
      },
      "outputs": [],
      "source": [
        "\n",
        "def TVAE_CV():\n",
        "  gen_dict = []\n",
        "  #for k, fold in enumerate(all_folds, start=1):\n",
        "  for k, fold in enumerate(all_folds, start=1):\n",
        "      X_train = fold['X_train']\n",
        "      X_val = fold['X_val']\n",
        "      y_train = fold['y_train']\n",
        "      y_val = fold['y_val']\n",
        "\n",
        "      metadata = Metadata()\n",
        "      metadata = metadata.detect_from_dataframe(X_train)\n",
        "      numeric_cols = list(X_train.columns)\n",
        "      for col in numeric_cols:\n",
        "          metadata.update_column(\n",
        "              column_name=col,\n",
        "              sdtype='numerical'\n",
        "          )\n",
        "      # Get unique values and their counts\n",
        "      unique_values, counts = np.unique(y_train, return_counts=True)\n",
        "      classlabel_counts = dict(zip(unique_values, counts))\n",
        "      Q1, Q2, Q3 = np.quantile(counts, [0.25, 0.5, 0.75], axis=0, method='nearest')\n",
        "      max_count = Q3 #np.max(counts)\n",
        "\n",
        "      i=1\n",
        "      for label, count in classlabel_counts.items():\n",
        "          #print(x.shape, y.shape)\n",
        "          #print(\"label, count, max_count\",label,count,max_count)\n",
        "          X_minority = X_train[y_train == label]\n",
        "          if count < max_count:\n",
        "              #print(\"\\n\")\n",
        "              print(\"label, count, max_count\",label,count,max_count)\n",
        "              num_synthetic_samples = max_count - count\n",
        "              synthetic_samples = tVAE_method(X_minority, num_synthetic_samples,metadata )\n",
        "\n",
        "              X_minority = np.array(X_minority)\n",
        "              synthetic_samples = np.array(synthetic_samples)\n",
        "              if i==1:\n",
        "                X_train_gen = X_minority\n",
        "                X_train_gen = np.vstack([X_train_gen, synthetic_samples])\n",
        "\n",
        "                y_train_gen = np.full(max_count, label)\n",
        "\n",
        "                y_train_indexes = np.full(count, 1)\n",
        "                y_train_indexes = np.concatenate([y_train_indexes, np.full(num_synthetic_samples, 2)])\n",
        "              else:\n",
        "                tmp = np.vstack([X_minority, synthetic_samples])\n",
        "                X_train_gen = np.vstack([X_train_gen, tmp])\n",
        "                y_train_gen = np.concatenate([y_train_gen, np.full(max_count, label)])\n",
        "\n",
        "                y_train_indexes = np.concatenate([y_train_indexes, np.full(count, 1)])\n",
        "                y_train_indexes = np.concatenate([y_train_indexes, np.full(num_synthetic_samples, 2)])\n",
        "          else:\n",
        "              X_train_gen = np.vstack([X_train_gen, X_minority])\n",
        "              y_train_gen = np.concatenate([y_train_gen, np.full(count, label)])\n",
        "              y_train_indexes = np.concatenate([y_train_indexes, np.full(count, 1)])\n",
        "          i=i+1\n",
        "\n",
        "      syn = {\n",
        "          'X_train_gen': X_train_gen,\n",
        "          'y_train_gen': y_train_gen\n",
        "      }\n",
        "      gen_dict.append(syn)\n",
        "\n",
        "      with open(gdrivePath + os.sep + \"Revision\" + os.sep + \"HCA/5CV\" + os.sep + f'TVAE_skf_fold'+str(k)+'.pkl', 'wb') as f:\n",
        "          pickle.dump(syn, f)\n",
        "      print(f\"TVAE results for fold {k} saved.\")\n",
        "\n",
        "  return gen_dict\n",
        "\n"
      ]
    },
    {
      "cell_type": "code",
      "execution_count": null,
      "metadata": {
        "colab": {
          "base_uri": "https://localhost:8080/"
        },
        "id": "QEdTszycS2pm",
        "outputId": "69e22023-92b1-4b1e-dac4-77fd413fcecb",
        "collapsed": true
      },
      "outputs": [
        {
          "metadata": {
            "tags": null
          },
          "name": "stdout",
          "output_type": "stream",
          "text": [
            "label, count, max_count 1 476 670\n"
          ]
        },
        {
          "metadata": {
            "tags": null
          },
          "name": "stderr",
          "output_type": "stream",
          "text": [
            "/usr/local/lib/python3.11/dist-packages/sdv/single_table/base.py:133: UserWarning: We strongly recommend saving the metadata using 'save_to_json' for replicability in future SDV versions.\n",
            "  warnings.warn(\n",
            "Loss: -7264.120: 100%|██████████| 100/100 [04:50<00:00,  2.90s/it]\n"
          ]
        },
        {
          "metadata": {
            "tags": null
          },
          "name": "stdout",
          "output_type": "stream",
          "text": [
            "label, count, max_count 2 399 670\n"
          ]
        },
        {
          "metadata": {
            "tags": null
          },
          "name": "stderr",
          "output_type": "stream",
          "text": [
            "Loss: -14066.626: 100%|██████████| 100/100 [04:41<00:00,  2.82s/it]\n"
          ]
        },
        {
          "metadata": {
            "tags": null
          },
          "name": "stdout",
          "output_type": "stream",
          "text": [
            "label, count, max_count 6 275 670\n"
          ]
        },
        {
          "metadata": {
            "tags": null
          },
          "name": "stderr",
          "output_type": "stream",
          "text": [
            "Loss: -6507.839: 100%|██████████| 100/100 [04:44<00:00,  2.85s/it]\n"
          ]
        },
        {
          "metadata": {
            "tags": null
          },
          "name": "stdout",
          "output_type": "stream",
          "text": [
            "label, count, max_count 8 470 670\n"
          ]
        },
        {
          "metadata": {
            "tags": null
          },
          "name": "stderr",
          "output_type": "stream",
          "text": [
            "Loss: -11453.591: 100%|██████████| 100/100 [04:45<00:00,  2.85s/it]\n"
          ]
        },
        {
          "metadata": {
            "tags": null
          },
          "name": "stdout",
          "output_type": "stream",
          "text": [
            "label, count, max_count 10 202 670\n"
          ]
        },
        {
          "metadata": {
            "tags": null
          },
          "name": "stderr",
          "output_type": "stream",
          "text": [
            "Loss: -13321.816: 100%|██████████| 100/100 [04:40<00:00,  2.81s/it]\n"
          ]
        },
        {
          "metadata": {
            "tags": null
          },
          "name": "stdout",
          "output_type": "stream",
          "text": [
            "label, count, max_count 11 377 670\n"
          ]
        },
        {
          "metadata": {
            "tags": null
          },
          "name": "stderr",
          "output_type": "stream",
          "text": [
            "Loss: -12701.664: 100%|██████████| 100/100 [04:41<00:00,  2.82s/it]\n"
          ]
        },
        {
          "metadata": {
            "tags": null
          },
          "name": "stdout",
          "output_type": "stream",
          "text": [
            "label, count, max_count 12 91 670\n"
          ]
        },
        {
          "metadata": {
            "tags": null
          },
          "name": "stderr",
          "output_type": "stream",
          "text": [
            "Loss: -10518.201: 100%|██████████| 100/100 [04:39<00:00,  2.80s/it]\n"
          ]
        },
        {
          "metadata": {
            "tags": null
          },
          "name": "stdout",
          "output_type": "stream",
          "text": [
            "label, count, max_count 13 107 670\n"
          ]
        },
        {
          "metadata": {
            "tags": null
          },
          "name": "stderr",
          "output_type": "stream",
          "text": [
            "Loss: -7749.180: 100%|██████████| 100/100 [04:39<00:00,  2.80s/it]\n"
          ]
        },
        {
          "metadata": {
            "tags": null
          },
          "name": "stdout",
          "output_type": "stream",
          "text": [
            "label, count, max_count 14 80 670\n"
          ]
        },
        {
          "metadata": {
            "tags": null
          },
          "name": "stderr",
          "output_type": "stream",
          "text": [
            "Loss: -10400.285: 100%|██████████| 100/100 [04:40<00:00,  2.81s/it]\n"
          ]
        },
        {
          "metadata": {
            "tags": null
          },
          "name": "stdout",
          "output_type": "stream",
          "text": [
            "label, count, max_count 15 121 670\n"
          ]
        },
        {
          "metadata": {
            "tags": null
          },
          "name": "stderr",
          "output_type": "stream",
          "text": [
            "Loss: -17046.598: 100%|██████████| 100/100 [04:39<00:00,  2.80s/it]\n"
          ]
        },
        {
          "metadata": {
            "tags": null
          },
          "name": "stdout",
          "output_type": "stream",
          "text": [
            "label, count, max_count 16 59 670\n"
          ]
        },
        {
          "metadata": {
            "tags": null
          },
          "name": "stderr",
          "output_type": "stream",
          "text": [
            "Loss: -11962.193: 100%|██████████| 100/100 [04:40<00:00,  2.80s/it]\n"
          ]
        },
        {
          "metadata": {
            "tags": null
          },
          "name": "stdout",
          "output_type": "stream",
          "text": [
            "TVAE results for fold 1 saved.\n",
            "label, count, max_count 1 476 671\n"
          ]
        },
        {
          "metadata": {
            "tags": null
          },
          "name": "stderr",
          "output_type": "stream",
          "text": [
            "/usr/local/lib/python3.11/dist-packages/sdv/single_table/base.py:133: UserWarning: We strongly recommend saving the metadata using 'save_to_json' for replicability in future SDV versions.\n",
            "  warnings.warn(\n",
            "Loss: -7272.464: 100%|██████████| 100/100 [04:45<00:00,  2.86s/it]\n"
          ]
        },
        {
          "metadata": {
            "tags": null
          },
          "name": "stdout",
          "output_type": "stream",
          "text": [
            "label, count, max_count 2 399 671\n"
          ]
        },
        {
          "metadata": {
            "tags": null
          },
          "name": "stderr",
          "output_type": "stream",
          "text": [
            "Loss: -14158.539: 100%|██████████| 100/100 [04:42<00:00,  2.82s/it]\n"
          ]
        },
        {
          "metadata": {
            "tags": null
          },
          "name": "stdout",
          "output_type": "stream",
          "text": [
            "label, count, max_count 6 274 671\n"
          ]
        },
        {
          "metadata": {
            "tags": null
          },
          "name": "stderr",
          "output_type": "stream",
          "text": [
            "Loss: -6500.896: 100%|██████████| 100/100 [04:43<00:00,  2.84s/it]\n"
          ]
        },
        {
          "metadata": {
            "tags": null
          },
          "name": "stdout",
          "output_type": "stream",
          "text": [
            "label, count, max_count 8 470 671\n"
          ]
        },
        {
          "metadata": {
            "tags": null
          },
          "name": "stderr",
          "output_type": "stream",
          "text": [
            "Loss: -11307.372: 100%|██████████| 100/100 [04:43<00:00,  2.83s/it]\n"
          ]
        },
        {
          "metadata": {
            "tags": null
          },
          "name": "stdout",
          "output_type": "stream",
          "text": [
            "label, count, max_count 10 202 671\n"
          ]
        },
        {
          "metadata": {
            "tags": null
          },
          "name": "stderr",
          "output_type": "stream",
          "text": [
            "Loss: -13486.954: 100%|██████████| 100/100 [04:42<00:00,  2.83s/it]\n"
          ]
        },
        {
          "metadata": {
            "tags": null
          },
          "name": "stdout",
          "output_type": "stream",
          "text": [
            "label, count, max_count 11 377 671\n"
          ]
        },
        {
          "metadata": {
            "tags": null
          },
          "name": "stderr",
          "output_type": "stream",
          "text": [
            "Loss: -12676.441: 100%|██████████| 100/100 [04:43<00:00,  2.83s/it]\n"
          ]
        },
        {
          "metadata": {
            "tags": null
          },
          "name": "stdout",
          "output_type": "stream",
          "text": [
            "label, count, max_count 12 91 671\n"
          ]
        },
        {
          "metadata": {
            "tags": null
          },
          "name": "stderr",
          "output_type": "stream",
          "text": [
            "Loss: -10677.445: 100%|██████████| 100/100 [04:40<00:00,  2.80s/it]\n"
          ]
        },
        {
          "metadata": {
            "tags": null
          },
          "name": "stdout",
          "output_type": "stream",
          "text": [
            "label, count, max_count 13 107 671\n"
          ]
        },
        {
          "metadata": {
            "tags": null
          },
          "name": "stderr",
          "output_type": "stream",
          "text": [
            "Loss: -7885.081: 100%|██████████| 100/100 [04:39<00:00,  2.79s/it]\n"
          ]
        },
        {
          "metadata": {
            "tags": null
          },
          "name": "stdout",
          "output_type": "stream",
          "text": [
            "label, count, max_count 14 80 671\n"
          ]
        },
        {
          "metadata": {
            "tags": null
          },
          "name": "stderr",
          "output_type": "stream",
          "text": [
            "Loss: -10707.492: 100%|██████████| 100/100 [04:42<00:00,  2.82s/it]\n"
          ]
        },
        {
          "metadata": {
            "tags": null
          },
          "name": "stdout",
          "output_type": "stream",
          "text": [
            "label, count, max_count 15 121 671\n"
          ]
        },
        {
          "metadata": {
            "tags": null
          },
          "name": "stderr",
          "output_type": "stream",
          "text": [
            "Loss: -17321.734: 100%|██████████| 100/100 [04:41<00:00,  2.82s/it]\n"
          ]
        },
        {
          "metadata": {
            "tags": null
          },
          "name": "stdout",
          "output_type": "stream",
          "text": [
            "label, count, max_count 16 59 671\n"
          ]
        },
        {
          "metadata": {
            "tags": null
          },
          "name": "stderr",
          "output_type": "stream",
          "text": [
            "Loss: -11960.564: 100%|██████████| 100/100 [04:42<00:00,  2.82s/it]\n"
          ]
        },
        {
          "metadata": {
            "tags": null
          },
          "name": "stdout",
          "output_type": "stream",
          "text": [
            "TVAE results for fold 2 saved.\n",
            "label, count, max_count 1 476 671\n"
          ]
        },
        {
          "metadata": {
            "tags": null
          },
          "name": "stderr",
          "output_type": "stream",
          "text": [
            "/usr/local/lib/python3.11/dist-packages/sdv/single_table/base.py:133: UserWarning: We strongly recommend saving the metadata using 'save_to_json' for replicability in future SDV versions.\n",
            "  warnings.warn(\n",
            "Loss: -7236.382: 100%|██████████| 100/100 [04:44<00:00,  2.84s/it]\n"
          ]
        },
        {
          "metadata": {
            "tags": null
          },
          "name": "stdout",
          "output_type": "stream",
          "text": [
            "label, count, max_count 2 399 671\n"
          ]
        },
        {
          "metadata": {
            "tags": null
          },
          "name": "stderr",
          "output_type": "stream",
          "text": [
            "Loss: -14032.726: 100%|██████████| 100/100 [04:42<00:00,  2.82s/it]\n"
          ]
        },
        {
          "metadata": {
            "tags": null
          },
          "name": "stdout",
          "output_type": "stream",
          "text": [
            "label, count, max_count 6 274 671\n"
          ]
        },
        {
          "metadata": {
            "tags": null
          },
          "name": "stderr",
          "output_type": "stream",
          "text": [
            "Loss: -6853.242: 100%|██████████| 100/100 [04:44<00:00,  2.84s/it]\n"
          ]
        },
        {
          "metadata": {
            "tags": null
          },
          "name": "stdout",
          "output_type": "stream",
          "text": [
            "label, count, max_count 8 469 671\n"
          ]
        },
        {
          "metadata": {
            "tags": null
          },
          "name": "stderr",
          "output_type": "stream",
          "text": [
            "Loss: -11236.532: 100%|██████████| 100/100 [04:42<00:00,  2.82s/it]\n"
          ]
        },
        {
          "metadata": {
            "tags": null
          },
          "name": "stdout",
          "output_type": "stream",
          "text": [
            "label, count, max_count 10 203 671\n"
          ]
        },
        {
          "metadata": {
            "tags": null
          },
          "name": "stderr",
          "output_type": "stream",
          "text": [
            "Loss: -13479.576: 100%|██████████| 100/100 [04:40<00:00,  2.81s/it]\n"
          ]
        },
        {
          "metadata": {
            "tags": null
          },
          "name": "stdout",
          "output_type": "stream",
          "text": [
            "label, count, max_count 11 376 671\n"
          ]
        },
        {
          "metadata": {
            "tags": null
          },
          "name": "stderr",
          "output_type": "stream",
          "text": [
            "Loss: -12631.296: 100%|██████████| 100/100 [04:42<00:00,  2.83s/it]\n"
          ]
        },
        {
          "metadata": {
            "tags": null
          },
          "name": "stdout",
          "output_type": "stream",
          "text": [
            "label, count, max_count 12 92 671\n"
          ]
        },
        {
          "metadata": {
            "tags": null
          },
          "name": "stderr",
          "output_type": "stream",
          "text": [
            "Loss: -10510.754: 100%|██████████| 100/100 [04:39<00:00,  2.80s/it]\n"
          ]
        },
        {
          "metadata": {
            "tags": null
          },
          "name": "stdout",
          "output_type": "stream",
          "text": [
            "label, count, max_count 13 106 671\n"
          ]
        },
        {
          "metadata": {
            "tags": null
          },
          "name": "stderr",
          "output_type": "stream",
          "text": [
            "Loss: -7591.417: 100%|██████████| 100/100 [04:39<00:00,  2.79s/it]\n"
          ]
        },
        {
          "metadata": {
            "tags": null
          },
          "name": "stdout",
          "output_type": "stream",
          "text": [
            "label, count, max_count 14 80 671\n"
          ]
        },
        {
          "metadata": {
            "tags": null
          },
          "name": "stderr",
          "output_type": "stream",
          "text": [
            "Loss: -10602.875: 100%|██████████| 100/100 [04:39<00:00,  2.80s/it]\n"
          ]
        },
        {
          "metadata": {
            "tags": null
          },
          "name": "stdout",
          "output_type": "stream",
          "text": [
            "label, count, max_count 15 122 671\n"
          ]
        },
        {
          "metadata": {
            "tags": null
          },
          "name": "stderr",
          "output_type": "stream",
          "text": [
            "Loss: -17439.414: 100%|██████████| 100/100 [04:39<00:00,  2.79s/it]\n"
          ]
        },
        {
          "metadata": {
            "tags": null
          },
          "name": "stdout",
          "output_type": "stream",
          "text": [
            "label, count, max_count 16 58 671\n"
          ]
        },
        {
          "metadata": {
            "tags": null
          },
          "name": "stderr",
          "output_type": "stream",
          "text": [
            "Loss: -11955.771: 100%|██████████| 100/100 [04:39<00:00,  2.79s/it]\n"
          ]
        },
        {
          "metadata": {
            "tags": null
          },
          "name": "stdout",
          "output_type": "stream",
          "text": [
            "TVAE results for fold 3 saved.\n",
            "label, count, max_count 1 476 670\n"
          ]
        },
        {
          "metadata": {
            "tags": null
          },
          "name": "stderr",
          "output_type": "stream",
          "text": [
            "/usr/local/lib/python3.11/dist-packages/sdv/single_table/base.py:133: UserWarning: We strongly recommend saving the metadata using 'save_to_json' for replicability in future SDV versions.\n",
            "  warnings.warn(\n",
            "Loss: -7235.811: 100%|██████████| 100/100 [04:42<00:00,  2.82s/it]\n"
          ]
        },
        {
          "metadata": {
            "tags": null
          },
          "name": "stdout",
          "output_type": "stream",
          "text": [
            "label, count, max_count 2 399 670\n"
          ]
        },
        {
          "metadata": {
            "tags": null
          },
          "name": "stderr",
          "output_type": "stream",
          "text": [
            "Loss: -14075.387: 100%|██████████| 100/100 [04:41<00:00,  2.81s/it]\n"
          ]
        },
        {
          "metadata": {
            "tags": null
          },
          "name": "stdout",
          "output_type": "stream",
          "text": [
            "label, count, max_count 6 274 670\n"
          ]
        },
        {
          "metadata": {
            "tags": null
          },
          "name": "stderr",
          "output_type": "stream",
          "text": [
            "Loss: -6655.973: 100%|██████████| 100/100 [04:42<00:00,  2.83s/it]\n"
          ]
        },
        {
          "metadata": {
            "tags": null
          },
          "name": "stdout",
          "output_type": "stream",
          "text": [
            "label, count, max_count 8 469 670\n"
          ]
        },
        {
          "metadata": {
            "tags": null
          },
          "name": "stderr",
          "output_type": "stream",
          "text": [
            "Loss: -11323.518: 100%|██████████| 100/100 [04:41<00:00,  2.81s/it]\n"
          ]
        },
        {
          "metadata": {
            "tags": null
          },
          "name": "stdout",
          "output_type": "stream",
          "text": [
            "label, count, max_count 10 203 670\n"
          ]
        },
        {
          "metadata": {
            "tags": null
          },
          "name": "stderr",
          "output_type": "stream",
          "text": [
            "Loss: -13335.234: 100%|██████████| 100/100 [04:41<00:00,  2.82s/it]\n"
          ]
        },
        {
          "metadata": {
            "tags": null
          },
          "name": "stdout",
          "output_type": "stream",
          "text": [
            "label, count, max_count 11 377 670\n"
          ]
        },
        {
          "metadata": {
            "tags": null
          },
          "name": "stderr",
          "output_type": "stream",
          "text": [
            "Loss: -12600.188: 100%|██████████| 100/100 [04:42<00:00,  2.83s/it]\n"
          ]
        },
        {
          "metadata": {
            "tags": null
          },
          "name": "stdout",
          "output_type": "stream",
          "text": [
            "label, count, max_count 12 91 670\n"
          ]
        },
        {
          "metadata": {
            "tags": null
          },
          "name": "stderr",
          "output_type": "stream",
          "text": [
            "Loss: -10653.310: 100%|██████████| 100/100 [04:38<00:00,  2.78s/it]\n"
          ]
        },
        {
          "metadata": {
            "tags": null
          },
          "name": "stdout",
          "output_type": "stream",
          "text": [
            "label, count, max_count 13 106 670\n"
          ]
        },
        {
          "metadata": {
            "tags": null
          },
          "name": "stderr",
          "output_type": "stream",
          "text": [
            "Loss: -7659.338: 100%|██████████| 100/100 [04:38<00:00,  2.79s/it]\n"
          ]
        },
        {
          "metadata": {
            "tags": null
          },
          "name": "stdout",
          "output_type": "stream",
          "text": [
            "label, count, max_count 14 80 670\n"
          ]
        },
        {
          "metadata": {
            "tags": null
          },
          "name": "stderr",
          "output_type": "stream",
          "text": [
            "Loss: -11013.092: 100%|██████████| 100/100 [04:39<00:00,  2.80s/it]\n"
          ]
        },
        {
          "metadata": {
            "tags": null
          },
          "name": "stdout",
          "output_type": "stream",
          "text": [
            "label, count, max_count 15 122 670\n"
          ]
        },
        {
          "metadata": {
            "tags": null
          },
          "name": "stderr",
          "output_type": "stream",
          "text": [
            "Loss: -17307.301: 100%|██████████| 100/100 [04:38<00:00,  2.79s/it]\n"
          ]
        },
        {
          "metadata": {
            "tags": null
          },
          "name": "stdout",
          "output_type": "stream",
          "text": [
            "label, count, max_count 16 58 670\n"
          ]
        },
        {
          "metadata": {
            "tags": null
          },
          "name": "stderr",
          "output_type": "stream",
          "text": [
            "Loss: -11825.111: 100%|██████████| 100/100 [04:38<00:00,  2.79s/it]\n"
          ]
        },
        {
          "metadata": {
            "tags": null
          },
          "name": "stdout",
          "output_type": "stream",
          "text": [
            "TVAE results for fold 4 saved.\n",
            "label, count, max_count 1 476 670\n"
          ]
        },
        {
          "metadata": {
            "tags": null
          },
          "name": "stderr",
          "output_type": "stream",
          "text": [
            "/usr/local/lib/python3.11/dist-packages/sdv/single_table/base.py:133: UserWarning: We strongly recommend saving the metadata using 'save_to_json' for replicability in future SDV versions.\n",
            "  warnings.warn(\n",
            "Loss: -7234.114: 100%|██████████| 100/100 [04:42<00:00,  2.82s/it]\n"
          ]
        },
        {
          "metadata": {
            "tags": null
          },
          "name": "stdout",
          "output_type": "stream",
          "text": [
            "label, count, max_count 2 400 670\n"
          ]
        },
        {
          "metadata": {
            "tags": null
          },
          "name": "stderr",
          "output_type": "stream",
          "text": [
            "Loss: -13939.025: 100%|██████████| 100/100 [04:43<00:00,  2.84s/it]\n"
          ]
        },
        {
          "metadata": {
            "tags": null
          },
          "name": "stdout",
          "output_type": "stream",
          "text": [
            "label, count, max_count 6 275 670\n"
          ]
        },
        {
          "metadata": {
            "tags": null
          },
          "name": "stderr",
          "output_type": "stream",
          "text": [
            "Loss: -6568.258: 100%|██████████| 100/100 [04:52<00:00,  2.93s/it]\n"
          ]
        },
        {
          "metadata": {
            "tags": null
          },
          "name": "stdout",
          "output_type": "stream",
          "text": [
            "label, count, max_count 8 470 670\n"
          ]
        },
        {
          "metadata": {
            "tags": null
          },
          "name": "stderr",
          "output_type": "stream",
          "text": [
            "Loss: -11370.841: 100%|██████████| 100/100 [04:44<00:00,  2.84s/it]\n"
          ]
        },
        {
          "metadata": {
            "tags": null
          },
          "name": "stdout",
          "output_type": "stream",
          "text": [
            "label, count, max_count 10 202 670\n"
          ]
        },
        {
          "metadata": {
            "tags": null
          },
          "name": "stderr",
          "output_type": "stream",
          "text": [
            "Loss: -13477.799: 100%|██████████| 100/100 [04:44<00:00,  2.84s/it]\n"
          ]
        },
        {
          "metadata": {
            "tags": null
          },
          "name": "stdout",
          "output_type": "stream",
          "text": [
            "label, count, max_count 11 377 670\n"
          ]
        }
      ],
      "source": [
        "gen_dict = TVAE_CV()"
      ]
    }
  ],
  "metadata": {
    "accelerator": "GPU",
    "colab": {
      "gpuType": "A100",
      "machine_shape": "hm",
      "provenance": []
    },
    "kernelspec": {
      "display_name": "Python 3",
      "name": "python3"
    },
    "language_info": {
      "name": "python"
    }
  },
  "nbformat": 4,
  "nbformat_minor": 0
}